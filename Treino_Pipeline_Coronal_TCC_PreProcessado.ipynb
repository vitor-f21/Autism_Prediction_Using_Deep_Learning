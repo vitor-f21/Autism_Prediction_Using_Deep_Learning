{
 "cells": [
  {
   "cell_type": "code",
   "execution_count": 1,
   "metadata": {},
   "outputs": [
    {
     "name": "stderr",
     "output_type": "stream",
     "text": [
      "Using TensorFlow backend.\n"
     ]
    },
    {
     "name": "stdout",
     "output_type": "stream",
     "text": [
      "WARNING:tensorflow:From C:\\Users\\Vítor\\Anaconda3\\envs\\TCC\\lib\\site-packages\\keras\\backend\\tensorflow_backend.py:174: The name tf.get_default_session is deprecated. Please use tf.compat.v1.get_default_session instead.\n",
      "\n",
      "WARNING:tensorflow:From C:\\Users\\Vítor\\Anaconda3\\envs\\TCC\\lib\\site-packages\\keras\\backend\\tensorflow_backend.py:181: The name tf.ConfigProto is deprecated. Please use tf.compat.v1.ConfigProto instead.\n",
      "\n",
      "WARNING:tensorflow:From C:\\Users\\Vítor\\Anaconda3\\envs\\TCC\\lib\\site-packages\\keras\\backend\\tensorflow_backend.py:186: The name tf.Session is deprecated. Please use tf.compat.v1.Session instead.\n",
      "\n",
      "WARNING:tensorflow:From C:\\Users\\Vítor\\Anaconda3\\envs\\TCC\\lib\\site-packages\\keras\\backend\\tensorflow_backend.py:190: The name tf.global_variables is deprecated. Please use tf.compat.v1.global_variables instead.\n",
      "\n"
     ]
    }
   ],
   "source": [
    "import os\n",
    "import numpy as np\n",
    "from keras.preprocessing.image import ImageDataGenerator\n",
    "from keras import backend as K\n",
    "\n",
    "K.tensorflow_backend._get_available_gpus()\n",
    "\n",
    "base_dir = r'C:\\Users\\Vítor\\Documents\\TCC\\Banco de Dados\\BD_Sem_Pretos\\Coronal\\BD'\n",
    "\n",
    "train_dir = os.path.join(base_dir, 'train')\n",
    "validation_dir = os.path.join(base_dir, 'validation')\n",
    "test_dir = os.path.join(base_dir, 'test')\n",
    "\n",
    "datagen = ImageDataGenerator(rescale=1./255)\n",
    "batch_size = 20"
   ]
  },
  {
   "cell_type": "code",
   "execution_count": 2,
   "metadata": {},
   "outputs": [
    {
     "name": "stdout",
     "output_type": "stream",
     "text": [
      "WARNING:tensorflow:From C:\\Users\\Vítor\\Anaconda3\\envs\\TCC\\lib\\site-packages\\keras\\backend\\tensorflow_backend.py:74: The name tf.get_default_graph is deprecated. Please use tf.compat.v1.get_default_graph instead.\n",
      "\n",
      "WARNING:tensorflow:From C:\\Users\\Vítor\\Anaconda3\\envs\\TCC\\lib\\site-packages\\keras\\backend\\tensorflow_backend.py:3976: The name tf.nn.max_pool is deprecated. Please use tf.nn.max_pool2d instead.\n",
      "\n"
     ]
    }
   ],
   "source": [
    "from keras import layers\n",
    "from keras import models\n",
    "#Criando a CNN\n",
    "model = models.Sequential()\n",
    "model.add(layers.Conv2D(64, (3, 3), activation='relu',\n",
    "                        input_shape=(150, 150, 3)))\n",
    "model.add(layers.MaxPooling2D((2, 2)))\n",
    "model.add(layers.Conv2D(128, (3, 3), activation='relu'))\n",
    "model.add(layers.MaxPooling2D((2, 2)))\n",
    "model.add(layers.Conv2D(256, (3, 3), activation='relu'))\n",
    "model.add(layers.MaxPooling2D((2, 2)))\n",
    "model.add(layers.Conv2D(256, (3, 3), activation='relu'))\n",
    "model.add(layers.MaxPooling2D((2, 2)))\n",
    "model.add(layers.Flatten())\n",
    "model.add(layers.Dense(512, activation='relu'))\n",
    "model.add(layers.Dense(1, activation='sigmoid'))"
   ]
  },
  {
   "cell_type": "code",
   "execution_count": 3,
   "metadata": {},
   "outputs": [
    {
     "name": "stdout",
     "output_type": "stream",
     "text": [
      "_________________________________________________________________\n",
      "Layer (type)                 Output Shape              Param #   \n",
      "=================================================================\n",
      "conv2d_1 (Conv2D)            (None, 148, 148, 64)      1792      \n",
      "_________________________________________________________________\n",
      "max_pooling2d_1 (MaxPooling2 (None, 74, 74, 64)        0         \n",
      "_________________________________________________________________\n",
      "conv2d_2 (Conv2D)            (None, 72, 72, 128)       73856     \n",
      "_________________________________________________________________\n",
      "max_pooling2d_2 (MaxPooling2 (None, 36, 36, 128)       0         \n",
      "_________________________________________________________________\n",
      "conv2d_3 (Conv2D)            (None, 34, 34, 256)       295168    \n",
      "_________________________________________________________________\n",
      "max_pooling2d_3 (MaxPooling2 (None, 17, 17, 256)       0         \n",
      "_________________________________________________________________\n",
      "conv2d_4 (Conv2D)            (None, 15, 15, 256)       590080    \n",
      "_________________________________________________________________\n",
      "max_pooling2d_4 (MaxPooling2 (None, 7, 7, 256)         0         \n",
      "_________________________________________________________________\n",
      "flatten_1 (Flatten)          (None, 12544)             0         \n",
      "_________________________________________________________________\n",
      "dense_1 (Dense)              (None, 512)               6423040   \n",
      "_________________________________________________________________\n",
      "dense_2 (Dense)              (None, 1)                 513       \n",
      "=================================================================\n",
      "Total params: 7,384,449\n",
      "Trainable params: 7,384,449\n",
      "Non-trainable params: 0\n",
      "_________________________________________________________________\n"
     ]
    }
   ],
   "source": [
    "model.summary()"
   ]
  },
  {
   "cell_type": "code",
   "execution_count": 4,
   "metadata": {},
   "outputs": [
    {
     "name": "stdout",
     "output_type": "stream",
     "text": [
      "WARNING:tensorflow:From C:\\Users\\Vítor\\Anaconda3\\envs\\TCC\\lib\\site-packages\\keras\\optimizers.py:790: The name tf.train.Optimizer is deprecated. Please use tf.compat.v1.train.Optimizer instead.\n",
      "\n",
      "WARNING:tensorflow:From C:\\Users\\Vítor\\Anaconda3\\envs\\TCC\\lib\\site-packages\\tensorflow\\python\\ops\\nn_impl.py:180: add_dispatch_support.<locals>.wrapper (from tensorflow.python.ops.array_ops) is deprecated and will be removed in a future version.\n",
      "Instructions for updating:\n",
      "Use tf.where in 2.0, which has the same broadcast rule as np.where\n"
     ]
    }
   ],
   "source": [
    "from keras import optimizers\n",
    "\n",
    "model.compile(loss='binary_crossentropy',\n",
    "              optimizer=optimizers.RMSprop(lr=1e-4),\n",
    "              metrics=['acc'])"
   ]
  },
  {
   "cell_type": "code",
   "execution_count": 7,
   "metadata": {},
   "outputs": [
    {
     "name": "stdout",
     "output_type": "stream",
     "text": [
      "Found 25599 images belonging to 2 classes.\n",
      "Found 9646 images belonging to 2 classes.\n"
     ]
    }
   ],
   "source": [
    "from keras.preprocessing.image import ImageDataGenerator\n",
    "\n",
    "# Todas as imagens em nova scale\n",
    "train_datagen = ImageDataGenerator(rescale=1./255,\n",
    "                                   width_shift_range=0.2,  \n",
    "                                   height_shift_range=0.2,\n",
    "                                   horizontal_flip=True)\n",
    "test_datagen = ImageDataGenerator(rescale=1./255,\n",
    "                                   width_shift_range=0.2,  \n",
    "                                   height_shift_range=0.2,\n",
    "                                   horizontal_flip=True)\n",
    "\n",
    "train_generator = train_datagen.flow_from_directory(\n",
    "        \n",
    "        train_dir,\n",
    "        # Todas as images para novo tamanho de 150x150\n",
    "        target_size=(150, 150),\n",
    "        batch_size=20,\n",
    "        # Como foi usado a perda binary_crossentropy, precisamos de rótulos binários\n",
    "        class_mode='binary')\n",
    "\n",
    "validation_generator = test_datagen.flow_from_directory(\n",
    "        validation_dir,\n",
    "        target_size=(150, 150),\n",
    "        batch_size=20,\n",
    "        class_mode='binary')"
   ]
  },
  {
   "cell_type": "code",
   "execution_count": 8,
   "metadata": {},
   "outputs": [
    {
     "name": "stdout",
     "output_type": "stream",
     "text": [
      "data batch shape: (20, 150, 150, 3)\n",
      "labels batch shape: (20,)\n"
     ]
    }
   ],
   "source": [
    "for data_batch, labels_batch in train_generator:\n",
    "    print('data batch shape:', data_batch.shape)\n",
    "    print('labels batch shape:', labels_batch.shape)\n",
    "    break"
   ]
  },
  {
   "cell_type": "code",
   "execution_count": 9,
   "metadata": {},
   "outputs": [
    {
     "name": "stdout",
     "output_type": "stream",
     "text": [
      "Epoch 1/30\n",
      "100/100 [==============================] - 69s 688ms/step - loss: 0.6904 - acc: 0.5440 - val_loss: 0.6522 - val_acc: 0.6560\n",
      "Epoch 2/30\n",
      "100/100 [==============================] - 59s 592ms/step - loss: 0.6896 - acc: 0.5475 - val_loss: 0.6703 - val_acc: 0.6350\n",
      "Epoch 3/30\n",
      "100/100 [==============================] - 58s 579ms/step - loss: 0.6867 - acc: 0.5530 - val_loss: 0.6550 - val_acc: 0.6720\n",
      "Epoch 4/30\n",
      "100/100 [==============================] - 59s 592ms/step - loss: 0.6782 - acc: 0.5685 - val_loss: 0.6561 - val_acc: 0.6350\n",
      "Epoch 5/30\n",
      "100/100 [==============================] - 64s 639ms/step - loss: 0.6854 - acc: 0.5500 - val_loss: 0.6599 - val_acc: 0.5920\n",
      "Epoch 6/30\n",
      "100/100 [==============================] - 67s 671ms/step - loss: 0.6816 - acc: 0.5450 - val_loss: 0.6558 - val_acc: 0.5750\n",
      "Epoch 7/30\n",
      "100/100 [==============================] - 59s 587ms/step - loss: 0.6796 - acc: 0.5535 - val_loss: 0.6357 - val_acc: 0.6330\n",
      "Epoch 8/30\n",
      "100/100 [==============================] - 61s 611ms/step - loss: 0.6715 - acc: 0.5835 - val_loss: 0.6244 - val_acc: 0.6540\n",
      "Epoch 9/30\n",
      "100/100 [==============================] - 59s 594ms/step - loss: 0.6603 - acc: 0.6125 - val_loss: 0.6302 - val_acc: 0.6250\n",
      "Epoch 10/30\n",
      "100/100 [==============================] - 58s 579ms/step - loss: 0.6643 - acc: 0.5860 - val_loss: 0.6391 - val_acc: 0.6258\n",
      "Epoch 11/30\n",
      "100/100 [==============================] - 53s 529ms/step - loss: 0.6533 - acc: 0.6070 - val_loss: 0.6005 - val_acc: 0.6620\n",
      "Epoch 12/30\n",
      "100/100 [==============================] - 60s 598ms/step - loss: 0.6638 - acc: 0.5995 - val_loss: 0.6400 - val_acc: 0.6040\n",
      "Epoch 13/30\n",
      "100/100 [==============================] - 50s 496ms/step - loss: 0.6496 - acc: 0.6163 - val_loss: 0.6594 - val_acc: 0.5890\n",
      "Epoch 14/30\n",
      "100/100 [==============================] - 37s 371ms/step - loss: 0.6590 - acc: 0.5985 - val_loss: 0.6578 - val_acc: 0.5770\n",
      "Epoch 15/30\n",
      "100/100 [==============================] - 37s 366ms/step - loss: 0.6391 - acc: 0.6345 - val_loss: 0.6606 - val_acc: 0.5990\n",
      "Epoch 16/30\n",
      "100/100 [==============================] - 38s 377ms/step - loss: 0.6443 - acc: 0.6250 - val_loss: 0.6551 - val_acc: 0.5830\n",
      "Epoch 17/30\n",
      "100/100 [==============================] - 37s 369ms/step - loss: 0.6412 - acc: 0.6230 - val_loss: 0.6590 - val_acc: 0.5910\n",
      "Epoch 18/30\n",
      "100/100 [==============================] - 37s 366ms/step - loss: 0.6418 - acc: 0.6175 - val_loss: 0.6249 - val_acc: 0.6240\n",
      "Epoch 19/30\n",
      "100/100 [==============================] - 37s 372ms/step - loss: 0.6379 - acc: 0.6190 - val_loss: 0.6017 - val_acc: 0.6430\n",
      "Epoch 20/30\n",
      "100/100 [==============================] - 36s 355ms/step - loss: 0.6355 - acc: 0.6185 - val_loss: 0.6799 - val_acc: 0.6460\n",
      "Epoch 21/30\n",
      "100/100 [==============================] - 35s 347ms/step - loss: 0.6395 - acc: 0.6220 - val_loss: 0.6370 - val_acc: 0.6160\n",
      "Epoch 22/30\n",
      "100/100 [==============================] - 41s 407ms/step - loss: 0.6344 - acc: 0.6250 - val_loss: 0.6321 - val_acc: 0.6290\n",
      "Epoch 23/30\n",
      "100/100 [==============================] - 41s 405ms/step - loss: 0.6337 - acc: 0.6310 - val_loss: 0.6264 - val_acc: 0.6320\n",
      "Epoch 24/30\n",
      "100/100 [==============================] - 40s 404ms/step - loss: 0.6356 - acc: 0.6045 - val_loss: 0.6384 - val_acc: 0.5970\n",
      "Epoch 25/30\n",
      "100/100 [==============================] - 41s 408ms/step - loss: 0.6258 - acc: 0.6260 - val_loss: 0.6349 - val_acc: 0.6140\n",
      "Epoch 26/30\n",
      "100/100 [==============================] - 36s 358ms/step - loss: 0.6150 - acc: 0.6438 - val_loss: 0.6472 - val_acc: 0.6100\n",
      "Epoch 27/30\n",
      "100/100 [==============================] - 33s 334ms/step - loss: 0.6074 - acc: 0.6435 - val_loss: 0.6187 - val_acc: 0.6540\n",
      "Epoch 28/30\n",
      "100/100 [==============================] - 33s 330ms/step - loss: 0.6136 - acc: 0.6455 - val_loss: 0.6903 - val_acc: 0.5840\n",
      "Epoch 29/30\n",
      "100/100 [==============================] - 32s 317ms/step - loss: 0.6204 - acc: 0.6235 - val_loss: 0.6495 - val_acc: 0.6075\n",
      "Epoch 30/30\n",
      "100/100 [==============================] - 32s 320ms/step - loss: 0.6179 - acc: 0.6315 - val_loss: 0.6402 - val_acc: 0.5860\n"
     ]
    }
   ],
   "source": [
    "history = model.fit_generator(\n",
    "      train_generator,\n",
    "      steps_per_epoch=100,\n",
    "      epochs=30,\n",
    "      validation_data=validation_generator,\n",
    "      validation_steps=50)"
   ]
  },
  {
   "cell_type": "code",
   "execution_count": null,
   "metadata": {},
   "outputs": [],
   "source": [
    "import matplotlib.pyplot as plt\n",
    "\n",
    "acc = history.history['acc']\n",
    "val_acc = history.history['val_acc']\n",
    "loss = history.history['loss']\n",
    "val_loss = history.history['val_loss']\n",
    "print('A acurácia da validação é de:', val_acc[29])\n",
    "print('A perda da validação é de:', val_loss[29])\n",
    "epochs = range(len(acc))\n",
    "\n",
    "plt.plot(epochs, acc, 'bo', label='Training acc')\n",
    "plt.plot(epochs, val_acc, 'b', label='Validation acc')\n",
    "plt.title('Training and validation accuracy')\n",
    "plt.legend()\n",
    "\n",
    "plt.figure()\n",
    "\n",
    "plt.plot(epochs, loss, 'bo', label='Training loss')\n",
    "plt.plot(epochs, val_loss, 'b', label='Validation loss')\n",
    "plt.title('Training and validation loss')\n",
    "plt.legend()\n",
    "\n",
    "plt.show()"
   ]
  },
  {
   "cell_type": "code",
   "execution_count": null,
   "metadata": {},
   "outputs": [],
   "source": []
  }
 ],
 "metadata": {
  "kernelspec": {
   "display_name": "Python 3",
   "language": "python",
   "name": "python3"
  },
  "language_info": {
   "codemirror_mode": {
    "name": "ipython",
    "version": 3
   },
   "file_extension": ".py",
   "mimetype": "text/x-python",
   "name": "python",
   "nbconvert_exporter": "python",
   "pygments_lexer": "ipython3",
   "version": "3.6.9"
  }
 },
 "nbformat": 4,
 "nbformat_minor": 2
}
