{
 "cells": [
  {
   "cell_type": "code",
   "execution_count": 1,
   "metadata": {},
   "outputs": [
    {
     "name": "stderr",
     "output_type": "stream",
     "text": [
      "Using TensorFlow backend.\n"
     ]
    },
    {
     "name": "stdout",
     "output_type": "stream",
     "text": [
      "WARNING:tensorflow:From C:\\Users\\Vítor\\Anaconda3\\envs\\TCC\\lib\\site-packages\\keras\\backend\\tensorflow_backend.py:174: The name tf.get_default_session is deprecated. Please use tf.compat.v1.get_default_session instead.\n",
      "\n",
      "WARNING:tensorflow:From C:\\Users\\Vítor\\Anaconda3\\envs\\TCC\\lib\\site-packages\\keras\\backend\\tensorflow_backend.py:181: The name tf.ConfigProto is deprecated. Please use tf.compat.v1.ConfigProto instead.\n",
      "\n",
      "WARNING:tensorflow:From C:\\Users\\Vítor\\Anaconda3\\envs\\TCC\\lib\\site-packages\\keras\\backend\\tensorflow_backend.py:186: The name tf.Session is deprecated. Please use tf.compat.v1.Session instead.\n",
      "\n",
      "WARNING:tensorflow:From C:\\Users\\Vítor\\Anaconda3\\envs\\TCC\\lib\\site-packages\\keras\\backend\\tensorflow_backend.py:190: The name tf.global_variables is deprecated. Please use tf.compat.v1.global_variables instead.\n",
      "\n"
     ]
    }
   ],
   "source": [
    "import os\n",
    "import numpy as np\n",
    "from keras.preprocessing.image import ImageDataGenerator\n",
    "from keras import backend as K\n",
    "\n",
    "K.tensorflow_backend._get_available_gpus()\n",
    "\n",
    "base_dir = r'C:\\Users\\Vítor\\Documents\\TCC\\Banco de Dados\\BD_Sem_Pretos\\Coronal\\BD'\n",
    "\n",
    "train_dir = os.path.join(base_dir, 'train')\n",
    "validation_dir = os.path.join(base_dir, 'validation')\n",
    "test_dir = os.path.join(base_dir, 'test')\n",
    "\n",
    "datagen = ImageDataGenerator(rescale=1./255)\n",
    "batch_size = 20"
   ]
  },
  {
   "cell_type": "code",
   "execution_count": 3,
   "metadata": {},
   "outputs": [
    {
     "name": "stdout",
     "output_type": "stream",
     "text": [
      "WARNING:tensorflow:From C:\\Users\\Vítor\\Anaconda3\\envs\\TCC\\lib\\site-packages\\keras\\backend\\tensorflow_backend.py:74: The name tf.get_default_graph is deprecated. Please use tf.compat.v1.get_default_graph instead.\n",
      "\n",
      "WARNING:tensorflow:From C:\\Users\\Vítor\\Anaconda3\\envs\\TCC\\lib\\site-packages\\keras\\backend\\tensorflow_backend.py:3976: The name tf.nn.max_pool is deprecated. Please use tf.nn.max_pool2d instead.\n",
      "\n"
     ]
    }
   ],
   "source": [
    "from keras import layers\n",
    "from keras import models\n",
    "#Criando a CNN\n",
    "model = models.Sequential()\n",
    "model.add(layers.Conv2D(64, (3, 3), activation='relu',\n",
    "                        input_shape=(150, 150, 3)))\n",
    "model.add(layers.MaxPooling2D((2, 2)))\n",
    "model.add(layers.Conv2D(128, (3, 3), activation='relu'))\n",
    "model.add(layers.MaxPooling2D((2, 2)))\n",
    "model.add(layers.Conv2D(256, (3, 3), activation='relu'))\n",
    "model.add(layers.MaxPooling2D((2, 2)))\n",
    "model.add(layers.Conv2D(256, (3, 3), activation='relu'))\n",
    "model.add(layers.MaxPooling2D((2, 2)))\n",
    "model.add(layers.Flatten())\n",
    "model.add(layers.Dense(512, activation='relu'))\n",
    "model.add(layers.Dense(1, activation='sigmoid'))"
   ]
  },
  {
   "cell_type": "code",
   "execution_count": 4,
   "metadata": {},
   "outputs": [
    {
     "name": "stdout",
     "output_type": "stream",
     "text": [
      "_________________________________________________________________\n",
      "Layer (type)                 Output Shape              Param #   \n",
      "=================================================================\n",
      "conv2d_1 (Conv2D)            (None, 148, 148, 64)      1792      \n",
      "_________________________________________________________________\n",
      "max_pooling2d_1 (MaxPooling2 (None, 74, 74, 64)        0         \n",
      "_________________________________________________________________\n",
      "conv2d_2 (Conv2D)            (None, 72, 72, 128)       73856     \n",
      "_________________________________________________________________\n",
      "max_pooling2d_2 (MaxPooling2 (None, 36, 36, 128)       0         \n",
      "_________________________________________________________________\n",
      "conv2d_3 (Conv2D)            (None, 34, 34, 256)       295168    \n",
      "_________________________________________________________________\n",
      "max_pooling2d_3 (MaxPooling2 (None, 17, 17, 256)       0         \n",
      "_________________________________________________________________\n",
      "conv2d_4 (Conv2D)            (None, 15, 15, 256)       590080    \n",
      "_________________________________________________________________\n",
      "max_pooling2d_4 (MaxPooling2 (None, 7, 7, 256)         0         \n",
      "_________________________________________________________________\n",
      "flatten_1 (Flatten)          (None, 12544)             0         \n",
      "_________________________________________________________________\n",
      "dense_1 (Dense)              (None, 512)               6423040   \n",
      "_________________________________________________________________\n",
      "dense_2 (Dense)              (None, 1)                 513       \n",
      "=================================================================\n",
      "Total params: 7,384,449\n",
      "Trainable params: 7,384,449\n",
      "Non-trainable params: 0\n",
      "_________________________________________________________________\n"
     ]
    }
   ],
   "source": [
    "model.summary()"
   ]
  },
  {
   "cell_type": "code",
   "execution_count": 5,
   "metadata": {},
   "outputs": [
    {
     "name": "stdout",
     "output_type": "stream",
     "text": [
      "WARNING:tensorflow:From C:\\Users\\Vítor\\Anaconda3\\envs\\TCC\\lib\\site-packages\\keras\\optimizers.py:790: The name tf.train.Optimizer is deprecated. Please use tf.compat.v1.train.Optimizer instead.\n",
      "\n",
      "WARNING:tensorflow:From C:\\Users\\Vítor\\Anaconda3\\envs\\TCC\\lib\\site-packages\\tensorflow\\python\\ops\\nn_impl.py:180: add_dispatch_support.<locals>.wrapper (from tensorflow.python.ops.array_ops) is deprecated and will be removed in a future version.\n",
      "Instructions for updating:\n",
      "Use tf.where in 2.0, which has the same broadcast rule as np.where\n"
     ]
    }
   ],
   "source": [
    "from keras import optimizers\n",
    "from keras.optimizers import SGD\n",
    "from keras.callbacks import ModelCheckpoint,LearningRateScheduler\n",
    "\n",
    "# SGD (Descida do Gradiente Estocástico) - Otimizador \n",
    "momentum = 0.5\n",
    "sgd = SGD(lr=0.01, momentum=momentum, decay=0.0, nesterov=False) \n",
    "\n",
    "model.compile(loss='binary_crossentropy',optimizer=sgd, metrics=['accuracy'])"
   ]
  },
  {
   "cell_type": "code",
   "execution_count": 6,
   "metadata": {},
   "outputs": [
    {
     "name": "stdout",
     "output_type": "stream",
     "text": [
      "Found 25599 images belonging to 2 classes.\n",
      "Found 9646 images belonging to 2 classes.\n"
     ]
    }
   ],
   "source": [
    "from keras.preprocessing.image import ImageDataGenerator\n",
    "\n",
    "# Todas as imagens em nova scale\n",
    "train_datagen = ImageDataGenerator(rescale=1./255,\n",
    "                                   width_shift_range=0.2,  \n",
    "                                   height_shift_range=0.2,\n",
    "                                   horizontal_flip=True)\n",
    "test_datagen = ImageDataGenerator(rescale=1./255,\n",
    "                                   width_shift_range=0.2,  \n",
    "                                   height_shift_range=0.2,\n",
    "                                   horizontal_flip=True)\n",
    "\n",
    "train_generator = train_datagen.flow_from_directory(\n",
    "        \n",
    "        train_dir,\n",
    "        # Todas as images para novo tamanho de 150x150\n",
    "        target_size=(150, 150),\n",
    "        batch_size=20,\n",
    "        # Como foi usado a perda binary_crossentropy, precisamos de rótulos binários\n",
    "        class_mode='binary')\n",
    "\n",
    "validation_generator = test_datagen.flow_from_directory(\n",
    "        validation_dir,\n",
    "        target_size=(150, 150),\n",
    "        batch_size=20,\n",
    "        class_mode='binary')"
   ]
  },
  {
   "cell_type": "code",
   "execution_count": 7,
   "metadata": {},
   "outputs": [],
   "source": [
    "import math\n",
    "def step_decay(epoch):\n",
    "    \n",
    "    \n",
    "    initial_lrate=0.1\n",
    "    drop=0.6\n",
    "    epochs_drop = 3.0\n",
    "    lrate= initial_lrate * math.pow(drop,  \n",
    "           math.floor((1+epoch)/epochs_drop))\n",
    "    return lrate\n",
    "   \n",
    "\n",
    "lrate = LearningRateScheduler(step_decay)\n",
    "callbacks_list = [ lrate]"
   ]
  },
  {
   "cell_type": "code",
   "execution_count": 8,
   "metadata": {},
   "outputs": [
    {
     "name": "stdout",
     "output_type": "stream",
     "text": [
      "data batch shape: (20, 150, 150, 3)\n",
      "labels batch shape: (20,)\n"
     ]
    }
   ],
   "source": [
    "for data_batch, labels_batch in train_generator:\n",
    "    print('data batch shape:', data_batch.shape)\n",
    "    print('labels batch shape:', labels_batch.shape)\n",
    "    break"
   ]
  },
  {
   "cell_type": "code",
   "execution_count": 9,
   "metadata": {},
   "outputs": [
    {
     "name": "stdout",
     "output_type": "stream",
     "text": [
      "Epoch 1/30\n",
      "100/100 [==============================] - 85s 850ms/step - loss: 0.6926 - acc: 0.5225 - val_loss: 0.6885 - val_acc: 0.6550\n",
      "Epoch 2/30\n",
      "100/100 [==============================] - 61s 615ms/step - loss: 0.6879 - acc: 0.5520 - val_loss: 0.6557 - val_acc: 0.6410\n",
      "Epoch 3/30\n",
      "100/100 [==============================] - 68s 685ms/step - loss: 0.6883 - acc: 0.5550 - val_loss: 0.6550 - val_acc: 0.6700\n",
      "Epoch 4/30\n",
      "100/100 [==============================] - 59s 594ms/step - loss: 0.6872 - acc: 0.5575 - val_loss: 0.6705 - val_acc: 0.6440\n",
      "Epoch 5/30\n",
      "100/100 [==============================] - 58s 584ms/step - loss: 0.6869 - acc: 0.5560 - val_loss: 0.6682 - val_acc: 0.6470\n",
      "Epoch 6/30\n",
      "100/100 [==============================] - 58s 585ms/step - loss: 0.6899 - acc: 0.5420 - val_loss: 0.6781 - val_acc: 0.6220\n",
      "Epoch 7/30\n",
      "100/100 [==============================] - 58s 581ms/step - loss: 0.6862 - acc: 0.5595 - val_loss: 0.6557 - val_acc: 0.6650\n",
      "Epoch 8/30\n",
      "100/100 [==============================] - 59s 590ms/step - loss: 0.6879 - acc: 0.5470 - val_loss: 0.6749 - val_acc: 0.6770\n",
      "Epoch 9/30\n",
      "100/100 [==============================] - 56s 563ms/step - loss: 0.6856 - acc: 0.5625 - val_loss: 0.6550 - val_acc: 0.6660\n",
      "Epoch 10/30\n",
      "100/100 [==============================] - 53s 533ms/step - loss: 0.6865 - acc: 0.5580 - val_loss: 0.6677 - val_acc: 0.6501\n",
      "Epoch 11/30\n",
      "100/100 [==============================] - 49s 490ms/step - loss: 0.6915 - acc: 0.5280 - val_loss: 0.6672 - val_acc: 0.6640\n",
      "Epoch 12/30\n",
      "100/100 [==============================] - 49s 489ms/step - loss: 0.6883 - acc: 0.5455 - val_loss: 0.6669 - val_acc: 0.6510\n",
      "Epoch 13/30\n",
      "100/100 [==============================] - 48s 476ms/step - loss: 0.6841 - acc: 0.5659 - val_loss: 0.6540 - val_acc: 0.6700\n",
      "Epoch 14/30\n",
      "100/100 [==============================] - 40s 398ms/step - loss: 0.6864 - acc: 0.5540 - val_loss: 0.6607 - val_acc: 0.6620\n",
      "Epoch 15/30\n",
      "100/100 [==============================] - 40s 405ms/step - loss: 0.6824 - acc: 0.5715 - val_loss: 0.6572 - val_acc: 0.6600\n",
      "Epoch 16/30\n",
      "100/100 [==============================] - 39s 388ms/step - loss: 0.6885 - acc: 0.5430 - val_loss: 0.6698 - val_acc: 0.6320\n",
      "Epoch 17/30\n",
      "100/100 [==============================] - 39s 393ms/step - loss: 0.6859 - acc: 0.5565 - val_loss: 0.6596 - val_acc: 0.6660\n",
      "Epoch 18/30\n",
      "100/100 [==============================] - 39s 394ms/step - loss: 0.6891 - acc: 0.5415 - val_loss: 0.6635 - val_acc: 0.6590\n",
      "Epoch 19/30\n",
      "100/100 [==============================] - 38s 378ms/step - loss: 0.6887 - acc: 0.5345 - val_loss: 0.6720 - val_acc: 0.6320\n",
      "Epoch 20/30\n",
      "100/100 [==============================] - 34s 342ms/step - loss: 0.6868 - acc: 0.5495 - val_loss: 0.6680 - val_acc: 0.6471\n",
      "Epoch 21/30\n",
      "100/100 [==============================] - 35s 347ms/step - loss: 0.6883 - acc: 0.5465 - val_loss: 0.6636 - val_acc: 0.6740\n",
      "Epoch 22/30\n",
      "100/100 [==============================] - 36s 360ms/step - loss: 0.6873 - acc: 0.5430 - val_loss: 0.6631 - val_acc: 0.6680\n",
      "Epoch 23/30\n",
      "100/100 [==============================] - 34s 338ms/step - loss: 0.6821 - acc: 0.5710 - val_loss: 0.6614 - val_acc: 0.6590\n",
      "Epoch 24/30\n",
      "100/100 [==============================] - 35s 350ms/step - loss: 0.6849 - acc: 0.5525 - val_loss: 0.6651 - val_acc: 0.6400\n",
      "Epoch 25/30\n",
      "100/100 [==============================] - 34s 344ms/step - loss: 0.6906 - acc: 0.5260 - val_loss: 0.6657 - val_acc: 0.6450\n",
      "Epoch 26/30\n",
      "100/100 [==============================] - 31s 312ms/step - loss: 0.6837 - acc: 0.5602 - val_loss: 0.6622 - val_acc: 0.6600\n",
      "Epoch 27/30\n",
      "100/100 [==============================] - 31s 310ms/step - loss: 0.6879 - acc: 0.5450 - val_loss: 0.6652 - val_acc: 0.6420\n",
      "Epoch 28/30\n",
      "100/100 [==============================] - 31s 307ms/step - loss: 0.6867 - acc: 0.5485 - val_loss: 0.6613 - val_acc: 0.6690\n",
      "Epoch 29/30\n",
      "100/100 [==============================] - 31s 309ms/step - loss: 0.6845 - acc: 0.5605 - val_loss: 0.6701 - val_acc: 0.6258\n",
      "Epoch 30/30\n",
      "100/100 [==============================] - 32s 315ms/step - loss: 0.6862 - acc: 0.5445 - val_loss: 0.6622 - val_acc: 0.6610\n"
     ]
    }
   ],
   "source": [
    "history = model.fit_generator(\n",
    "      train_generator,\n",
    "      steps_per_epoch=100,\n",
    "      epochs=30,\n",
    "      callbacks=callbacks_list,\n",
    "      validation_data=validation_generator,\n",
    "      validation_steps=50)"
   ]
  },
  {
   "cell_type": "code",
   "execution_count": 11,
   "metadata": {},
   "outputs": [
    {
     "name": "stdout",
     "output_type": "stream",
     "text": [
      "A acurácia da validação é de: 0.6610000002384185\n",
      "A perda da validação é de: 0.6622497379779816\n"
     ]
    },
    {
     "data": {
      "image/png": "[encoded data removed]",
      "text/plain": [
       "<Figure size 432x288 with 1 Axes>"
      ]
     },
     "metadata": {
      "needs_background": "light"
     },
     "output_type": "display_data"
    },
    {
     "data": {
      "image/png": "[encoded data removed]",
      "text/plain": [
       "<Figure size 432x288 with 1 Axes>"
      ]
     },
     "metadata": {
      "needs_background": "light"
     },
     "output_type": "display_data"
    }
   ],
   "source": [
    "import matplotlib.pyplot as plt\n",
    "\n",
    "acc = history.history['acc']\n",
    "val_acc = history.history['val_acc']\n",
    "loss = history.history['loss']\n",
    "val_loss = history.history['val_loss']\n",
    "print('A acurácia da validação é de:', val_acc[29])\n",
    "print('A perda da validação é de:', val_loss[29])\n",
    "epochs = range(len(acc))\n",
    "\n",
    "plt.plot(epochs, acc, 'bo', label='Training acc')\n",
    "plt.plot(epochs, val_acc, 'b', label='Validation acc')\n",
    "plt.title('Training and validation accuracy')\n",
    "plt.legend()\n",
    "\n",
    "plt.figure()\n",
    "\n",
    "plt.plot(epochs, loss, 'bo', label='Training loss')\n",
    "plt.plot(epochs, val_loss, 'b', label='Validation loss')\n",
    "plt.title('Training and validation loss')\n",
    "plt.legend()\n",
    "\n",
    "plt.show()"
   ]
  },
  {
   "cell_type": "code",
   "execution_count": 37,
   "metadata": {},
   "outputs": [],
   "source": [
    "from sklearn.metrics import confusion_matrix\n",
    "Y_prediction = model.predict_generator(validation_generator,len(validation_generator))\n",
    "Y_pred_classes = np.argmax(Y_prediction,axis = 1) \n",
    "confusion_mtx = confusion_matrix(validation_generator.classes, Y_pred_classes) "
   ]
  },
  {
   "cell_type": "code",
   "execution_count": 44,
   "metadata": {},
   "outputs": [
    {
     "data": {
      "image/png": "[encoded data removed]",
      "text/plain": [
       "<Figure size 720x720 with 2 Axes>"
      ]
     },
     "metadata": {
      "needs_background": "light"
     },
     "output_type": "display_data"
    }
   ],
   "source": [
    "plt.figure(figsize=(10,10))\n",
    "import seaborn as sns\n",
    "sns.heatmap(confusion_mtx, annot=True, fmt=\"d\");"
   ]
  },
  {
   "cell_type": "code",
   "execution_count": 26,
   "metadata": {},
   "outputs": [
    {
     "data": {
      "text/plain": [
       "array([0, 0, 0, 0, 0, 0, 0, 0, 0, 0, 0, 0, 0, 0, 0, 0, 0, 0, 0, 0, 0, 0,\n",
       "       0, 0, 0, 0, 0, 0, 0, 0, 0, 0, 0, 0, 0, 0, 0, 0, 0, 0, 0, 0, 0, 0,\n",
       "       0, 0, 0, 0, 0, 0, 0, 0, 0, 0, 0, 0, 0, 0, 0, 0, 0, 0, 0, 0, 0, 0,\n",
       "       0, 0, 0, 0, 0, 0, 0, 0, 0, 0, 0, 0, 0, 0], dtype=int64)"
      ]
     },
     "execution_count": 26,
     "metadata": {},
     "output_type": "execute_result"
    }
   ],
   "source": []
  },
  {
   "cell_type": "code",
   "execution_count": 27,
   "metadata": {},
   "outputs": [
    {
     "data": {
      "text/plain": [
       "array([[0.44758716],\n",
       "       [0.4589656 ],\n",
       "       [0.46166444],\n",
       "       [0.46463427],\n",
       "       [0.4675066 ],\n",
       "       [0.4542881 ],\n",
       "       [0.43902433],\n",
       "       [0.43090424],\n",
       "       [0.4408997 ],\n",
       "       [0.44461003],\n",
       "       [0.4796052 ],\n",
       "       [0.46158817],\n",
       "       [0.41943547],\n",
       "       [0.44390026],\n",
       "       [0.44609824],\n",
       "       [0.45232207],\n",
       "       [0.43646735],\n",
       "       [0.45685673],\n",
       "       [0.44955766],\n",
       "       [0.42569512],\n",
       "       [0.4488907 ],\n",
       "       [0.43470898],\n",
       "       [0.4192904 ],\n",
       "       [0.3972869 ],\n",
       "       [0.45017418],\n",
       "       [0.4379974 ],\n",
       "       [0.43686038],\n",
       "       [0.43058768],\n",
       "       [0.43145794],\n",
       "       [0.44638795],\n",
       "       [0.46022582],\n",
       "       [0.43669593],\n",
       "       [0.44605765],\n",
       "       [0.41748837],\n",
       "       [0.42619893],\n",
       "       [0.4434164 ],\n",
       "       [0.45085567],\n",
       "       [0.44058186],\n",
       "       [0.4424222 ],\n",
       "       [0.44813916],\n",
       "       [0.40899804],\n",
       "       [0.40126854],\n",
       "       [0.42155397],\n",
       "       [0.41678652],\n",
       "       [0.41550013],\n",
       "       [0.4615143 ],\n",
       "       [0.4230595 ],\n",
       "       [0.47114143],\n",
       "       [0.44212377],\n",
       "       [0.45098466],\n",
       "       [0.44696888],\n",
       "       [0.4537811 ],\n",
       "       [0.4262162 ],\n",
       "       [0.4605658 ],\n",
       "       [0.44615993],\n",
       "       [0.42841431],\n",
       "       [0.4492689 ],\n",
       "       [0.45918474],\n",
       "       [0.44305372],\n",
       "       [0.43085283],\n",
       "       [0.44116336],\n",
       "       [0.45686957],\n",
       "       [0.4504495 ],\n",
       "       [0.44239354],\n",
       "       [0.46086776],\n",
       "       [0.45052972],\n",
       "       [0.4241964 ],\n",
       "       [0.4545139 ],\n",
       "       [0.4514207 ],\n",
       "       [0.45136404],\n",
       "       [0.47768816],\n",
       "       [0.44357204],\n",
       "       [0.46361724],\n",
       "       [0.4238477 ],\n",
       "       [0.44251487],\n",
       "       [0.4540863 ],\n",
       "       [0.45411864],\n",
       "       [0.45525756],\n",
       "       [0.46975994],\n",
       "       [0.42629534]], dtype=float32)"
      ]
     },
     "execution_count": 27,
     "metadata": {},
     "output_type": "execute_result"
    }
   ],
   "source": [
    "Y_prediction"
   ]
  },
  {
   "cell_type": "code",
   "execution_count": null,
   "metadata": {},
   "outputs": [],
   "source": []
  }
 ],
 "metadata": {
  "kernelspec": {
   "display_name": "Python 3",
   "language": "python",
   "name": "python3"
  },
  "language_info": {
   "codemirror_mode": {
    "name": "ipython",
    "version": 3
   },
   "file_extension": ".py",
   "mimetype": "text/x-python",
   "name": "python",
   "nbconvert_exporter": "python",
   "pygments_lexer": "ipython3",
   "version": "3.6.9"
  }
 },
 "nbformat": 4,
 "nbformat_minor": 2
}
