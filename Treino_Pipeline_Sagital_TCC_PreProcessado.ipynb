{
 "cells": [
  {
   "cell_type": "code",
   "execution_count": 1,
   "metadata": {},
   "outputs": [
    {
     "name": "stderr",
     "output_type": "stream",
     "text": [
      "Using TensorFlow backend.\n"
     ]
    },
    {
     "name": "stdout",
     "output_type": "stream",
     "text": [
      "WARNING:tensorflow:From C:\\Users\\Vítor\\Anaconda3\\envs\\TCC\\lib\\site-packages\\keras\\backend\\tensorflow_backend.py:174: The name tf.get_default_session is deprecated. Please use tf.compat.v1.get_default_session instead.\n",
      "\n",
      "WARNING:tensorflow:From C:\\Users\\Vítor\\Anaconda3\\envs\\TCC\\lib\\site-packages\\keras\\backend\\tensorflow_backend.py:181: The name tf.ConfigProto is deprecated. Please use tf.compat.v1.ConfigProto instead.\n",
      "\n",
      "WARNING:tensorflow:From C:\\Users\\Vítor\\Anaconda3\\envs\\TCC\\lib\\site-packages\\keras\\backend\\tensorflow_backend.py:186: The name tf.Session is deprecated. Please use tf.compat.v1.Session instead.\n",
      "\n",
      "WARNING:tensorflow:From C:\\Users\\Vítor\\Anaconda3\\envs\\TCC\\lib\\site-packages\\keras\\backend\\tensorflow_backend.py:190: The name tf.global_variables is deprecated. Please use tf.compat.v1.global_variables instead.\n",
      "\n"
     ]
    }
   ],
   "source": [
    "import os\n",
    "import numpy as np\n",
    "from keras.preprocessing.image import ImageDataGenerator\n",
    "from keras import backend as K\n",
    "\n",
    "K.tensorflow_backend._get_available_gpus()\n",
    "\n",
    "base_dir = r'C:\\Users\\Vítor\\Documents\\TCC\\Banco de Dados\\BD_Sem_Pretos\\Sagital\\BD'\n",
    "\n",
    "train_dir = os.path.join(base_dir, 'train')\n",
    "validation_dir = os.path.join(base_dir, 'validation')\n",
    "test_dir = os.path.join(base_dir, 'test')\n",
    "\n",
    "datagen = ImageDataGenerator(rescale=1./255)\n",
    "batch_size = 20"
   ]
  },
  {
   "cell_type": "code",
   "execution_count": 2,
   "metadata": {},
   "outputs": [
    {
     "name": "stdout",
     "output_type": "stream",
     "text": [
      "WARNING:tensorflow:From C:\\Users\\Vítor\\Anaconda3\\envs\\TCC\\lib\\site-packages\\keras\\backend\\tensorflow_backend.py:74: The name tf.get_default_graph is deprecated. Please use tf.compat.v1.get_default_graph instead.\n",
      "\n",
      "WARNING:tensorflow:From C:\\Users\\Vítor\\Anaconda3\\envs\\TCC\\lib\\site-packages\\keras\\backend\\tensorflow_backend.py:3976: The name tf.nn.max_pool is deprecated. Please use tf.nn.max_pool2d instead.\n",
      "\n"
     ]
    }
   ],
   "source": [
    "from keras import layers\n",
    "from keras import models\n",
    "#Criando a CNN\n",
    "model = models.Sequential()\n",
    "model.add(layers.Conv2D(64, (3, 3), activation='relu',\n",
    "                        input_shape=(150, 150, 3)))\n",
    "model.add(layers.MaxPooling2D((2, 2)))\n",
    "model.add(layers.Conv2D(256, (3, 3), activation='relu'))\n",
    "model.add(layers.MaxPooling2D((2, 2)))\n",
    "model.add(layers.Conv2D(256, (3, 3), activation='relu'))\n",
    "model.add(layers.MaxPooling2D((2, 2)))\n",
    "model.add(layers.Conv2D(256, (3, 3), activation='relu'))\n",
    "model.add(layers.MaxPooling2D((2, 2)))\n",
    "model.add(layers.Flatten())\n",
    "model.add(layers.Dense(1024, activation='relu'))\n",
    "model.add(layers.Dense(1, activation='sigmoid'))"
   ]
  },
  {
   "cell_type": "code",
   "execution_count": 3,
   "metadata": {},
   "outputs": [
    {
     "name": "stdout",
     "output_type": "stream",
     "text": [
      "_________________________________________________________________\n",
      "Layer (type)                 Output Shape              Param #   \n",
      "=================================================================\n",
      "conv2d_1 (Conv2D)            (None, 148, 148, 64)      1792      \n",
      "_________________________________________________________________\n",
      "max_pooling2d_1 (MaxPooling2 (None, 74, 74, 64)        0         \n",
      "_________________________________________________________________\n",
      "conv2d_2 (Conv2D)            (None, 72, 72, 256)       147712    \n",
      "_________________________________________________________________\n",
      "max_pooling2d_2 (MaxPooling2 (None, 36, 36, 256)       0         \n",
      "_________________________________________________________________\n",
      "conv2d_3 (Conv2D)            (None, 34, 34, 256)       590080    \n",
      "_________________________________________________________________\n",
      "max_pooling2d_3 (MaxPooling2 (None, 17, 17, 256)       0         \n",
      "_________________________________________________________________\n",
      "conv2d_4 (Conv2D)            (None, 15, 15, 256)       590080    \n",
      "_________________________________________________________________\n",
      "max_pooling2d_4 (MaxPooling2 (None, 7, 7, 256)         0         \n",
      "_________________________________________________________________\n",
      "flatten_1 (Flatten)          (None, 12544)             0         \n",
      "_________________________________________________________________\n",
      "dense_1 (Dense)              (None, 1024)              12846080  \n",
      "_________________________________________________________________\n",
      "dense_2 (Dense)              (None, 1)                 1025      \n",
      "=================================================================\n",
      "Total params: 14,176,769\n",
      "Trainable params: 14,176,769\n",
      "Non-trainable params: 0\n",
      "_________________________________________________________________\n"
     ]
    }
   ],
   "source": [
    "model.summary()"
   ]
  },
  {
   "cell_type": "code",
   "execution_count": 4,
   "metadata": {},
   "outputs": [
    {
     "name": "stdout",
     "output_type": "stream",
     "text": [
      "WARNING:tensorflow:From C:\\Users\\Vítor\\Anaconda3\\envs\\TCC\\lib\\site-packages\\keras\\optimizers.py:790: The name tf.train.Optimizer is deprecated. Please use tf.compat.v1.train.Optimizer instead.\n",
      "\n",
      "WARNING:tensorflow:From C:\\Users\\Vítor\\Anaconda3\\envs\\TCC\\lib\\site-packages\\tensorflow\\python\\ops\\nn_impl.py:180: add_dispatch_support.<locals>.wrapper (from tensorflow.python.ops.array_ops) is deprecated and will be removed in a future version.\n",
      "Instructions for updating:\n",
      "Use tf.where in 2.0, which has the same broadcast rule as np.where\n"
     ]
    }
   ],
   "source": [
    "from keras import optimizers\n",
    "\n",
    "model.compile(loss='binary_crossentropy',\n",
    "              optimizer=optimizers.RMSprop(lr=1e-4),\n",
    "              metrics=['acc'])"
   ]
  },
  {
   "cell_type": "code",
   "execution_count": 18,
   "metadata": {},
   "outputs": [
    {
     "name": "stdout",
     "output_type": "stream",
     "text": [
      "Found 8349 images belonging to 2 classes.\n",
      "Found 3146 images belonging to 2 classes.\n"
     ]
    }
   ],
   "source": [
    "from keras.preprocessing.image import ImageDataGenerator\n",
    "\n",
    "# Todas as imagens em nova scale\n",
    "train_datagen = ImageDataGenerator(rescale=1./255,\n",
    "                                   width_shift_range=0.2,  \n",
    "                                   height_shift_range=0.2,\n",
    "                                   horizontal_flip=True)\n",
    "test_datagen = ImageDataGenerator(rescale=1./255,\n",
    "                                   width_shift_range=0.2,  \n",
    "                                   height_shift_range=0.2,\n",
    "                                   horizontal_flip=True)\n",
    "\n",
    "train_generator = train_datagen.flow_from_directory(\n",
    "        \n",
    "        train_dir,\n",
    "        # Todas as images para novo tamanho de 150x150\n",
    "        target_size=(150, 150),\n",
    "        batch_size=20,\n",
    "        # Como foi usado a perda binary_crossentropy, precisamos de rótulos binários\n",
    "        class_mode='binary')\n",
    "\n",
    "validation_generator = test_datagen.flow_from_directory(\n",
    "        validation_dir,\n",
    "        target_size=(150, 150),\n",
    "        batch_size=20,\n",
    "        class_mode='binary')"
   ]
  },
  {
   "cell_type": "code",
   "execution_count": 19,
   "metadata": {},
   "outputs": [
    {
     "name": "stdout",
     "output_type": "stream",
     "text": [
      "data batch shape: (20, 150, 150, 3)\n",
      "labels batch shape: (20,)\n"
     ]
    }
   ],
   "source": [
    "for data_batch, labels_batch in train_generator:\n",
    "    print('data batch shape:', data_batch.shape)\n",
    "    print('labels batch shape:', labels_batch.shape)\n",
    "    break"
   ]
  },
  {
   "cell_type": "code",
   "execution_count": 20,
   "metadata": {},
   "outputs": [
    {
     "name": "stdout",
     "output_type": "stream",
     "text": [
      "Epoch 1/30\n",
      "100/100 [==============================] - 62s 617ms/step - loss: 0.9432 - acc: 0.5440 - val_loss: 0.6967 - val_acc: 0.5240\n",
      "Epoch 2/30\n",
      "100/100 [==============================] - 69s 692ms/step - loss: 0.6849 - acc: 0.5620 - val_loss: 0.6669 - val_acc: 0.5800\n",
      "Epoch 3/30\n",
      "100/100 [==============================] - 66s 663ms/step - loss: 0.6690 - acc: 0.5795 - val_loss: 0.7053 - val_acc: 0.4940\n",
      "Epoch 4/30\n",
      "100/100 [==============================] - 56s 562ms/step - loss: 0.6575 - acc: 0.6090 - val_loss: 0.6584 - val_acc: 0.5882\n",
      "Epoch 5/30\n",
      "100/100 [==============================] - 49s 490ms/step - loss: 0.6577 - acc: 0.6017 - val_loss: 0.6496 - val_acc: 0.6130\n",
      "Epoch 6/30\n",
      "100/100 [==============================] - 50s 500ms/step - loss: 0.6493 - acc: 0.6175 - val_loss: 0.6561 - val_acc: 0.5850\n",
      "Epoch 7/30\n",
      "100/100 [==============================] - 48s 478ms/step - loss: 0.6582 - acc: 0.5865 - val_loss: 0.6444 - val_acc: 0.5771\n",
      "Epoch 8/30\n",
      "100/100 [==============================] - 47s 469ms/step - loss: 0.6379 - acc: 0.6395 - val_loss: 0.6609 - val_acc: 0.5660\n",
      "Epoch 9/30\n",
      "100/100 [==============================] - 46s 462ms/step - loss: 0.6418 - acc: 0.6250 - val_loss: 0.6891 - val_acc: 0.5340\n",
      "Epoch 10/30\n",
      "100/100 [==============================] - 47s 469ms/step - loss: 0.6475 - acc: 0.6135 - val_loss: 0.6400 - val_acc: 0.5933\n",
      "Epoch 11/30\n",
      "100/100 [==============================] - 47s 469ms/step - loss: 0.6297 - acc: 0.6365 - val_loss: 0.6636 - val_acc: 0.5580\n",
      "Epoch 12/30\n",
      "100/100 [==============================] - 47s 468ms/step - loss: 0.6170 - acc: 0.6300 - val_loss: 0.6595 - val_acc: 0.5570\n",
      "Epoch 13/30\n",
      "100/100 [==============================] - 47s 470ms/step - loss: 0.6375 - acc: 0.6224 - val_loss: 0.6541 - val_acc: 0.5314\n",
      "Epoch 14/30\n",
      "100/100 [==============================] - 47s 469ms/step - loss: 0.6312 - acc: 0.6375 - val_loss: 0.6860 - val_acc: 0.5450\n",
      "Epoch 15/30\n",
      "100/100 [==============================] - 47s 474ms/step - loss: 0.6227 - acc: 0.6405 - val_loss: 0.6484 - val_acc: 0.5710\n",
      "Epoch 16/30\n",
      "100/100 [==============================] - 47s 474ms/step - loss: 0.6259 - acc: 0.6390 - val_loss: 0.6788 - val_acc: 0.5690\n",
      "Epoch 17/30\n",
      "100/100 [==============================] - 47s 466ms/step - loss: 0.6121 - acc: 0.6557 - val_loss: 0.6621 - val_acc: 0.5840\n",
      "Epoch 18/30\n",
      "100/100 [==============================] - 47s 468ms/step - loss: 0.6165 - acc: 0.6415 - val_loss: 0.6897 - val_acc: 0.5300\n",
      "Epoch 19/30\n",
      "100/100 [==============================] - 47s 466ms/step - loss: 0.6212 - acc: 0.6445 - val_loss: 0.6831 - val_acc: 0.5487\n",
      "Epoch 20/30\n",
      "100/100 [==============================] - 47s 470ms/step - loss: 0.6126 - acc: 0.6520 - val_loss: 0.6735 - val_acc: 0.5300\n",
      "Epoch 21/30\n",
      "100/100 [==============================] - 47s 468ms/step - loss: 0.6125 - acc: 0.6432 - val_loss: 0.6507 - val_acc: 0.6070\n",
      "Epoch 22/30\n",
      "100/100 [==============================] - 47s 470ms/step - loss: 0.6019 - acc: 0.6555 - val_loss: 0.6554 - val_acc: 0.6040\n",
      "Epoch 23/30\n",
      "100/100 [==============================] - 47s 469ms/step - loss: 0.6110 - acc: 0.6515 - val_loss: 0.6990 - val_acc: 0.5700\n",
      "Epoch 24/30\n",
      "100/100 [==============================] - 47s 472ms/step - loss: 0.6193 - acc: 0.6570 - val_loss: 0.6428 - val_acc: 0.6000\n",
      "Epoch 25/30\n",
      "100/100 [==============================] - 47s 473ms/step - loss: 0.5926 - acc: 0.6770 - val_loss: 0.7057 - val_acc: 0.5450\n",
      "Epoch 26/30\n",
      "100/100 [==============================] - 47s 466ms/step - loss: 0.5830 - acc: 0.6798 - val_loss: 0.6548 - val_acc: 0.5852\n",
      "Epoch 27/30\n",
      "100/100 [==============================] - 47s 469ms/step - loss: 0.5984 - acc: 0.6600 - val_loss: 0.6689 - val_acc: 0.5910\n",
      "Epoch 28/30\n",
      "100/100 [==============================] - 47s 471ms/step - loss: 0.6070 - acc: 0.6515 - val_loss: 0.7013 - val_acc: 0.5520\n",
      "Epoch 29/30\n",
      "100/100 [==============================] - 47s 468ms/step - loss: 0.5942 - acc: 0.6685 - val_loss: 0.6600 - val_acc: 0.5730\n",
      "Epoch 30/30\n",
      "100/100 [==============================] - 47s 469ms/step - loss: 0.5963 - acc: 0.6771 - val_loss: 0.7260 - val_acc: 0.5770\n"
     ]
    }
   ],
   "source": [
    "history = model.fit_generator(\n",
    "      train_generator,\n",
    "      steps_per_epoch=100,\n",
    "      epochs=30,\n",
    "      validation_data=validation_generator,\n",
    "      validation_steps=50)"
   ]
  },
  {
   "cell_type": "code",
   "execution_count": 21,
   "metadata": {},
   "outputs": [
    {
     "name": "stdout",
     "output_type": "stream",
     "text": [
      "A acurácia da validação é de: 0.5770000016689301\n",
      "A perda da validação é de: 0.7260199344158172\n"
     ]
    },
    {
     "data": {
      "image/png": "[encoded data removed]",
      "text/plain": [
       "<Figure size 432x288 with 1 Axes>"
      ]
     },
     "metadata": {
      "needs_background": "light"
     },
     "output_type": "display_data"
    },
    {
     "data": {
      "image/png": "[encoded data removed]",
      "text/plain": [
       "<Figure size 432x288 with 1 Axes>"
      ]
     },
     "metadata": {
      "needs_background": "light"
     },
     "output_type": "display_data"
    }
   ],
   "source": [
    "import matplotlib.pyplot as plt\n",
    "\n",
    "acc = history.history['acc']\n",
    "val_acc = history.history['val_acc']\n",
    "loss = history.history['loss']\n",
    "val_loss = history.history['val_loss']\n",
    "print('A acurácia da validação é de:', val_acc[29])\n",
    "print('A perda da validação é de:', val_loss[29])\n",
    "epochs = range(len(acc))\n",
    "\n",
    "plt.plot(epochs, acc, 'bo', label='Training acc')\n",
    "plt.plot(epochs, val_acc, 'b', label='Validation acc')\n",
    "plt.title('Training and validation accuracy')\n",
    "plt.legend()\n",
    "\n",
    "plt.figure()\n",
    "\n",
    "plt.plot(epochs, loss, 'bo', label='Training loss')\n",
    "plt.plot(epochs, val_loss, 'b', label='Validation loss')\n",
    "plt.title('Training and validation loss')\n",
    "plt.legend()\n",
    "\n",
    "plt.show()"
   ]
  },
  {
   "cell_type": "code",
   "execution_count": null,
   "metadata": {},
   "outputs": [],
   "source": []
  }
 ],
 "metadata": {
  "kernelspec": {
   "display_name": "Python 3",
   "language": "python",
   "name": "python3"
  },
  "language_info": {
   "codemirror_mode": {
    "name": "ipython",
    "version": 3
   },
   "file_extension": ".py",
   "mimetype": "text/x-python",
   "name": "python",
   "nbconvert_exporter": "python",
   "pygments_lexer": "ipython3",
   "version": "3.6.9"
  }
 },
 "nbformat": 4,
 "nbformat_minor": 2
}
