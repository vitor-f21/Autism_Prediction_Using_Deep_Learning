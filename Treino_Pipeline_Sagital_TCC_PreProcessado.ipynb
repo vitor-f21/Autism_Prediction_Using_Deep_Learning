{
 "cells": [
  {
   "cell_type": "code",
   "execution_count": 1,
   "metadata": {},
   "outputs": [
    {
     "name": "stderr",
     "output_type": "stream",
     "text": [
      "Using TensorFlow backend.\n"
     ]
    },
    {
     "name": "stdout",
     "output_type": "stream",
     "text": [
      "WARNING:tensorflow:From C:\\Users\\Vítor\\Anaconda3\\envs\\TCC\\lib\\site-packages\\keras\\backend\\tensorflow_backend.py:174: The name tf.get_default_session is deprecated. Please use tf.compat.v1.get_default_session instead.\n",
      "\n",
      "WARNING:tensorflow:From C:\\Users\\Vítor\\Anaconda3\\envs\\TCC\\lib\\site-packages\\keras\\backend\\tensorflow_backend.py:181: The name tf.ConfigProto is deprecated. Please use tf.compat.v1.ConfigProto instead.\n",
      "\n",
      "WARNING:tensorflow:From C:\\Users\\Vítor\\Anaconda3\\envs\\TCC\\lib\\site-packages\\keras\\backend\\tensorflow_backend.py:186: The name tf.Session is deprecated. Please use tf.compat.v1.Session instead.\n",
      "\n",
      "WARNING:tensorflow:From C:\\Users\\Vítor\\Anaconda3\\envs\\TCC\\lib\\site-packages\\keras\\backend\\tensorflow_backend.py:190: The name tf.global_variables is deprecated. Please use tf.compat.v1.global_variables instead.\n",
      "\n"
     ]
    }
   ],
   "source": [
    "import os\n",
    "import numpy as np\n",
    "from keras.preprocessing.image import ImageDataGenerator\n",
    "from keras import backend as K\n",
    "\n",
    "K.tensorflow_backend._get_available_gpus()\n",
    "\n",
    "base_dir = r'C:\\Users\\Vítor\\Documents\\TCC\\Banco de Dados\\BD_Sem_Pretos\\Sagital\\BD'\n",
    "\n",
    "train_dir = os.path.join(base_dir, 'train')\n",
    "validation_dir = os.path.join(base_dir, 'validation')\n",
    "test_dir = os.path.join(base_dir, 'test')\n",
    "\n",
    "datagen = ImageDataGenerator(rescale=1./255)\n",
    "batch_size = 20"
   ]
  },
  {
   "cell_type": "code",
   "execution_count": 2,
   "metadata": {},
   "outputs": [
    {
     "name": "stdout",
     "output_type": "stream",
     "text": [
      "WARNING:tensorflow:From C:\\Users\\Vítor\\Anaconda3\\envs\\TCC\\lib\\site-packages\\keras\\backend\\tensorflow_backend.py:74: The name tf.get_default_graph is deprecated. Please use tf.compat.v1.get_default_graph instead.\n",
      "\n",
      "WARNING:tensorflow:From C:\\Users\\Vítor\\Anaconda3\\envs\\TCC\\lib\\site-packages\\keras\\backend\\tensorflow_backend.py:3976: The name tf.nn.max_pool is deprecated. Please use tf.nn.max_pool2d instead.\n",
      "\n"
     ]
    }
   ],
   "source": [
    "from keras import layers\n",
    "from keras import models\n",
    "#Criando a CNN\n",
    "model = models.Sequential()\n",
    "model.add(layers.Conv2D(64, (3, 3), activation='relu',\n",
    "                        input_shape=(150, 150, 3)))\n",
    "model.add(layers.MaxPooling2D((2, 2)))\n",
    "model.add(layers.Conv2D(256, (3, 3), activation='relu'))\n",
    "model.add(layers.MaxPooling2D((2, 2)))\n",
    "model.add(layers.Conv2D(256, (3, 3), activation='relu'))\n",
    "model.add(layers.MaxPooling2D((2, 2)))\n",
    "model.add(layers.Conv2D(256, (3, 3), activation='relu'))\n",
    "model.add(layers.MaxPooling2D((2, 2)))\n",
    "model.add(layers.Flatten())\n",
    "model.add(layers.Dense(1024, activation='relu'))\n",
    "model.add(layers.Dense(1, activation='sigmoid'))"
   ]
  },
  {
   "cell_type": "code",
   "execution_count": 3,
   "metadata": {},
   "outputs": [
    {
     "name": "stdout",
     "output_type": "stream",
     "text": [
      "_________________________________________________________________\n",
      "Layer (type)                 Output Shape              Param #   \n",
      "=================================================================\n",
      "conv2d_1 (Conv2D)            (None, 148, 148, 64)      1792      \n",
      "_________________________________________________________________\n",
      "max_pooling2d_1 (MaxPooling2 (None, 74, 74, 64)        0         \n",
      "_________________________________________________________________\n",
      "conv2d_2 (Conv2D)            (None, 72, 72, 256)       147712    \n",
      "_________________________________________________________________\n",
      "max_pooling2d_2 (MaxPooling2 (None, 36, 36, 256)       0         \n",
      "_________________________________________________________________\n",
      "conv2d_3 (Conv2D)            (None, 34, 34, 256)       590080    \n",
      "_________________________________________________________________\n",
      "max_pooling2d_3 (MaxPooling2 (None, 17, 17, 256)       0         \n",
      "_________________________________________________________________\n",
      "conv2d_4 (Conv2D)            (None, 15, 15, 256)       590080    \n",
      "_________________________________________________________________\n",
      "max_pooling2d_4 (MaxPooling2 (None, 7, 7, 256)         0         \n",
      "_________________________________________________________________\n",
      "flatten_1 (Flatten)          (None, 12544)             0         \n",
      "_________________________________________________________________\n",
      "dense_1 (Dense)              (None, 1024)              12846080  \n",
      "_________________________________________________________________\n",
      "dense_2 (Dense)              (None, 1)                 1025      \n",
      "=================================================================\n",
      "Total params: 14,176,769\n",
      "Trainable params: 14,176,769\n",
      "Non-trainable params: 0\n",
      "_________________________________________________________________\n"
     ]
    }
   ],
   "source": [
    "model.summary()"
   ]
  },
  {
   "cell_type": "code",
   "execution_count": 4,
   "metadata": {},
   "outputs": [
    {
     "name": "stdout",
     "output_type": "stream",
     "text": [
      "WARNING:tensorflow:From C:\\Users\\Vítor\\Anaconda3\\envs\\TCC\\lib\\site-packages\\keras\\optimizers.py:790: The name tf.train.Optimizer is deprecated. Please use tf.compat.v1.train.Optimizer instead.\n",
      "\n",
      "WARNING:tensorflow:From C:\\Users\\Vítor\\Anaconda3\\envs\\TCC\\lib\\site-packages\\tensorflow\\python\\ops\\nn_impl.py:180: add_dispatch_support.<locals>.wrapper (from tensorflow.python.ops.array_ops) is deprecated and will be removed in a future version.\n",
      "Instructions for updating:\n",
      "Use tf.where in 2.0, which has the same broadcast rule as np.where\n"
     ]
    }
   ],
   "source": [
    "from keras import optimizers\n",
    "\n",
    "# SGD (Descida do Gradiente Estocástico) - Otimizador \n",
    "momentum = 0.5\n",
    "sgd = optimizers.SGD(lr=0.01, momentum=momentum, decay=0.0, nesterov=False) \n",
    "\n",
    "model.compile(loss='binary_crossentropy',\n",
    "              optimizer=sgd,\n",
    "              metrics=['acc'])"
   ]
  },
  {
   "cell_type": "code",
   "execution_count": 5,
   "metadata": {},
   "outputs": [
    {
     "name": "stdout",
     "output_type": "stream",
     "text": [
      "Found 8349 images belonging to 2 classes.\n",
      "Found 3146 images belonging to 2 classes.\n"
     ]
    }
   ],
   "source": [
    "from keras.preprocessing.image import ImageDataGenerator\n",
    "\n",
    "# Todas as imagens em nova scale\n",
    "train_datagen = ImageDataGenerator(rescale=1./255,\n",
    "                                   width_shift_range=0.2,  \n",
    "                                   height_shift_range=0.2,\n",
    "                                   horizontal_flip=True)\n",
    "test_datagen = ImageDataGenerator(rescale=1./255,\n",
    "                                   width_shift_range=0.2,  \n",
    "                                   height_shift_range=0.2,\n",
    "                                   horizontal_flip=True)\n",
    "\n",
    "train_generator = train_datagen.flow_from_directory(\n",
    "        \n",
    "        train_dir,\n",
    "        # Todas as images para novo tamanho de 150x150\n",
    "        target_size=(150, 150),\n",
    "        batch_size=20,\n",
    "        # Como foi usado a perda binary_crossentropy, precisamos de rótulos binários\n",
    "        class_mode='binary')\n",
    "\n",
    "validation_generator = test_datagen.flow_from_directory(\n",
    "        validation_dir,\n",
    "        target_size=(150, 150),\n",
    "        batch_size=20,\n",
    "        class_mode='binary')"
   ]
  },
  {
   "cell_type": "code",
   "execution_count": 6,
   "metadata": {},
   "outputs": [
    {
     "name": "stdout",
     "output_type": "stream",
     "text": [
      "data batch shape: (20, 150, 150, 3)\n",
      "labels batch shape: (20,)\n"
     ]
    }
   ],
   "source": [
    "for data_batch, labels_batch in train_generator:\n",
    "    print('data batch shape:', data_batch.shape)\n",
    "    print('labels batch shape:', labels_batch.shape)\n",
    "    break"
   ]
  },
  {
   "cell_type": "code",
   "execution_count": 8,
   "metadata": {},
   "outputs": [],
   "source": [
    "import math\n",
    "from keras.callbacks import ModelCheckpoint,LearningRateScheduler\n",
    "def step_decay(epoch):\n",
    "    \n",
    "    \n",
    "    initial_lrate=0.1\n",
    "    drop=0.6\n",
    "    epochs_drop = 3.0\n",
    "    lrate= initial_lrate * math.pow(drop,  \n",
    "           math.floor((1+epoch)/epochs_drop))\n",
    "    return lrate\n",
    "   \n",
    "\n",
    "lrate = LearningRateScheduler(step_decay)\n",
    "callbacks_list = [ lrate]"
   ]
  },
  {
   "cell_type": "code",
   "execution_count": 9,
   "metadata": {},
   "outputs": [
    {
     "name": "stdout",
     "output_type": "stream",
     "text": [
      "Epoch 1/30\n",
      "100/100 [==============================] - 77s 767ms/step - loss: 0.6888 - acc: 0.5510 - val_loss: 0.6643 - val_acc: 0.6630\n",
      "Epoch 2/30\n",
      "100/100 [==============================] - 64s 635ms/step - loss: 0.6871 - acc: 0.5525 - val_loss: 0.6727 - val_acc: 0.6370\n",
      "Epoch 3/30\n",
      "100/100 [==============================] - 62s 624ms/step - loss: 0.6864 - acc: 0.5510 - val_loss: 0.6528 - val_acc: 0.6630\n",
      "Epoch 4/30\n",
      "100/100 [==============================] - 52s 517ms/step - loss: 0.6877 - acc: 0.5455 - val_loss: 0.6588 - val_acc: 0.6856\n",
      "Epoch 5/30\n",
      "100/100 [==============================] - 46s 463ms/step - loss: 0.6879 - acc: 0.5429 - val_loss: 0.6668 - val_acc: 0.6470\n",
      "Epoch 6/30\n",
      "100/100 [==============================] - 45s 448ms/step - loss: 0.6823 - acc: 0.5710 - val_loss: 0.6657 - val_acc: 0.6320\n",
      "Epoch 7/30\n",
      "100/100 [==============================] - 45s 446ms/step - loss: 0.6845 - acc: 0.5585 - val_loss: 0.6678 - val_acc: 0.6339\n",
      "Epoch 8/30\n",
      "100/100 [==============================] - 45s 445ms/step - loss: 0.6906 - acc: 0.5280 - val_loss: 0.6774 - val_acc: 0.6100\n",
      "Epoch 9/30\n",
      "100/100 [==============================] - 43s 433ms/step - loss: 0.6862 - acc: 0.5577 - val_loss: 0.6723 - val_acc: 0.6210\n",
      "Epoch 10/30\n",
      "100/100 [==============================] - 43s 435ms/step - loss: 0.6834 - acc: 0.5595 - val_loss: 0.6718 - val_acc: 0.6166\n",
      "Epoch 11/30\n",
      "100/100 [==============================] - 45s 445ms/step - loss: 0.6817 - acc: 0.5560 - val_loss: 0.6441 - val_acc: 0.6730\n",
      "Epoch 12/30\n",
      "100/100 [==============================] - 44s 442ms/step - loss: 0.6850 - acc: 0.5540 - val_loss: 0.6600 - val_acc: 0.6230\n",
      "Epoch 13/30\n",
      "100/100 [==============================] - 44s 443ms/step - loss: 0.6835 - acc: 0.5568 - val_loss: 0.6749 - val_acc: 0.5882\n",
      "Epoch 14/30\n",
      "100/100 [==============================] - 45s 450ms/step - loss: 0.6789 - acc: 0.5705 - val_loss: 0.6711 - val_acc: 0.6060\n",
      "Epoch 15/30\n",
      "100/100 [==============================] - 44s 441ms/step - loss: 0.6818 - acc: 0.5550 - val_loss: 0.6472 - val_acc: 0.6390\n",
      "Epoch 16/30\n",
      "100/100 [==============================] - 43s 431ms/step - loss: 0.6804 - acc: 0.5510 - val_loss: 0.6690 - val_acc: 0.5923\n",
      "Epoch 17/30\n",
      "100/100 [==============================] - 43s 431ms/step - loss: 0.6792 - acc: 0.5637 - val_loss: 0.6633 - val_acc: 0.6090\n",
      "Epoch 18/30\n",
      "100/100 [==============================] - 43s 433ms/step - loss: 0.6804 - acc: 0.5515 - val_loss: 0.6559 - val_acc: 0.6290\n",
      "Epoch 19/30\n",
      "100/100 [==============================] - 46s 463ms/step - loss: 0.6762 - acc: 0.5645 - val_loss: 0.6945 - val_acc: 0.5071\n",
      "Epoch 20/30\n",
      "100/100 [==============================] - 46s 464ms/step - loss: 0.6785 - acc: 0.5555 - val_loss: 0.6493 - val_acc: 0.6360\n",
      "Epoch 21/30\n",
      "100/100 [==============================] - 46s 459ms/step - loss: 0.6690 - acc: 0.5703 - val_loss: 0.6258 - val_acc: 0.6740\n",
      "Epoch 22/30\n",
      "100/100 [==============================] - 47s 469ms/step - loss: 0.6759 - acc: 0.5685 - val_loss: 0.6562 - val_acc: 0.5990\n",
      "Epoch 23/30\n",
      "100/100 [==============================] - 47s 467ms/step - loss: 0.6743 - acc: 0.5610 - val_loss: 0.6604 - val_acc: 0.5852\n",
      "Epoch 24/30\n",
      "100/100 [==============================] - 45s 453ms/step - loss: 0.6680 - acc: 0.5910 - val_loss: 0.6510 - val_acc: 0.6190\n",
      "Epoch 25/30\n",
      "100/100 [==============================] - 46s 456ms/step - loss: 0.6695 - acc: 0.5695 - val_loss: 0.7096 - val_acc: 0.4850\n",
      "Epoch 26/30\n",
      "100/100 [==============================] - 45s 454ms/step - loss: 0.6718 - acc: 0.5602 - val_loss: 0.6434 - val_acc: 0.6339\n",
      "Epoch 27/30\n",
      "100/100 [==============================] - 46s 456ms/step - loss: 0.6674 - acc: 0.5825 - val_loss: 0.6513 - val_acc: 0.5960\n",
      "Epoch 28/30\n",
      "100/100 [==============================] - 46s 462ms/step - loss: 0.6670 - acc: 0.5900 - val_loss: 0.6343 - val_acc: 0.6320\n",
      "Epoch 29/30\n",
      "100/100 [==============================] - 45s 451ms/step - loss: 0.6671 - acc: 0.5775 - val_loss: 0.6515 - val_acc: 0.6146\n",
      "Epoch 30/30\n",
      "100/100 [==============================] - 45s 454ms/step - loss: 0.6537 - acc: 0.6028 - val_loss: 0.6414 - val_acc: 0.6050\n"
     ]
    }
   ],
   "source": [
    "history = model.fit_generator(\n",
    "      train_generator,\n",
    "      steps_per_epoch=100,\n",
    "      epochs=30,\n",
    "      validation_data=validation_generator,\n",
    "      validation_steps=50)"
   ]
  },
  {
   "cell_type": "code",
   "execution_count": 11,
   "metadata": {},
   "outputs": [
    {
     "name": "stdout",
     "output_type": "stream",
     "text": [
      "A acurácia da validação é de: 0.6049999988079071\n",
      "A perda da validação é de: 0.641445050239563\n"
     ]
    },
    {
     "data": {
      "image/png": "[encoded data removed]",
      "text/plain": [
       "<Figure size 432x288 with 1 Axes>"
      ]
     },
     "metadata": {
      "needs_background": "light"
     },
     "output_type": "display_data"
    },
    {
     "data": {
      "image/png": "[encoded data removed]",
      "text/plain": [
       "<Figure size 432x288 with 1 Axes>"
      ]
     },
     "metadata": {
      "needs_background": "light"
     },
     "output_type": "display_data"
    }
   ],
   "source": [
    "import matplotlib.pyplot as plt\n",
    "\n",
    "acc = history.history['acc']\n",
    "val_acc = history.history['val_acc']\n",
    "loss = history.history['loss']\n",
    "val_loss = history.history['val_loss']\n",
    "print('A acurácia da validação é de:', val_acc[29])\n",
    "print('A perda da validação é de:', val_loss[29])\n",
    "epochs = range(len(acc))\n",
    "\n",
    "plt.plot(epochs, acc, 'bo', label='Training acc')\n",
    "plt.plot(epochs, val_acc, 'b', label='Validation acc')\n",
    "plt.title('Training and validation accuracy')\n",
    "plt.legend()\n",
    "\n",
    "plt.figure()\n",
    "\n",
    "plt.plot(epochs, loss, 'bo', label='Training loss')\n",
    "plt.plot(epochs, val_loss, 'b', label='Validation loss')\n",
    "plt.title('Training and validation loss')\n",
    "plt.legend()\n",
    "\n",
    "plt.show()"
   ]
  },
  {
   "cell_type": "code",
   "execution_count": 12,
   "metadata": {},
   "outputs": [],
   "source": [
    "from sklearn.metrics import confusion_matrix\n",
    "Y_prediction = model.predict_generator(validation_generator,len(validation_generator))\n",
    "Y_pred_classes = np.argmax(Y_prediction,axis = 1) \n",
    "confusion_mtx = confusion_matrix(validation_generator.classes, Y_pred_classes)"
   ]
  },
  {
   "cell_type": "code",
   "execution_count": 13,
   "metadata": {},
   "outputs": [
    {
     "data": {
      "image/png": "[encoded data removed]",
      "text/plain": [
       "<Figure size 720x720 with 2 Axes>"
      ]
     },
     "metadata": {
      "needs_background": "light"
     },
     "output_type": "display_data"
    }
   ],
   "source": [
    "plt.figure(figsize=(10,10))\n",
    "import seaborn as sns\n",
    "sns.heatmap(confusion_mtx, annot=True, fmt=\"d\");"
   ]
  }
 ],
 "metadata": {
  "kernelspec": {
   "display_name": "Python 3",
   "language": "python",
   "name": "python3"
  },
  "language_info": {
   "codemirror_mode": {
    "name": "ipython",
    "version": 3
   },
   "file_extension": ".py",
   "mimetype": "text/x-python",
   "name": "python",
   "nbconvert_exporter": "python",
   "pygments_lexer": "ipython3",
   "version": "3.6.9"
  }
 },
 "nbformat": 4,
 "nbformat_minor": 2
}
