{
 "cells": [
  {
   "cell_type": "code",
   "execution_count": 1,
   "metadata": {},
   "outputs": [
    {
     "name": "stderr",
     "output_type": "stream",
     "text": [
      "Using TensorFlow backend.\n"
     ]
    },
    {
     "name": "stdout",
     "output_type": "stream",
     "text": [
      "WARNING:tensorflow:From C:\\Users\\Vítor\\Anaconda3\\envs\\TCC\\lib\\site-packages\\keras\\backend\\tensorflow_backend.py:174: The name tf.get_default_session is deprecated. Please use tf.compat.v1.get_default_session instead.\n",
      "\n",
      "WARNING:tensorflow:From C:\\Users\\Vítor\\Anaconda3\\envs\\TCC\\lib\\site-packages\\keras\\backend\\tensorflow_backend.py:181: The name tf.ConfigProto is deprecated. Please use tf.compat.v1.ConfigProto instead.\n",
      "\n",
      "WARNING:tensorflow:From C:\\Users\\Vítor\\Anaconda3\\envs\\TCC\\lib\\site-packages\\keras\\backend\\tensorflow_backend.py:186: The name tf.Session is deprecated. Please use tf.compat.v1.Session instead.\n",
      "\n",
      "WARNING:tensorflow:From C:\\Users\\Vítor\\Anaconda3\\envs\\TCC\\lib\\site-packages\\keras\\backend\\tensorflow_backend.py:190: The name tf.global_variables is deprecated. Please use tf.compat.v1.global_variables instead.\n",
      "\n"
     ]
    }
   ],
   "source": [
    "import os\n",
    "import numpy as np\n",
    "from keras.preprocessing.image import ImageDataGenerator\n",
    "from keras import backend as K\n",
    "from glob import glob\n",
    "\n",
    "K.tensorflow_backend._get_available_gpus()\n",
    "\n",
    "base_dir = r'C:\\Users\\Vítor\\Documents\\TCC\\Banco de Dados\\Imagens The Deep censurado\\Sagital'\n",
    "\n",
    "train_dir = os.path.join(base_dir, 'train')\n",
    "validation_dir = os.path.join(base_dir, 'validation')\n",
    "test_dir = os.path.join(base_dir, 'test')\n",
    "\n",
    "\n",
    "datagen = ImageDataGenerator(rescale=1./255)\n",
    "batch_size = 20"
   ]
  },
  {
   "cell_type": "code",
   "execution_count": 2,
   "metadata": {},
   "outputs": [
    {
     "name": "stdout",
     "output_type": "stream",
     "text": [
      "WARNING:tensorflow:From C:\\Users\\Vítor\\Anaconda3\\envs\\TCC\\lib\\site-packages\\keras\\backend\\tensorflow_backend.py:74: The name tf.get_default_graph is deprecated. Please use tf.compat.v1.get_default_graph instead.\n",
      "\n",
      "WARNING:tensorflow:From C:\\Users\\Vítor\\Anaconda3\\envs\\TCC\\lib\\site-packages\\keras\\backend\\tensorflow_backend.py:3976: The name tf.nn.max_pool is deprecated. Please use tf.nn.max_pool2d instead.\n",
      "\n"
     ]
    }
   ],
   "source": [
    "from keras import layers\n",
    "from keras import models\n",
    "from keras.callbacks import ModelCheckpoint,LearningRateScheduler\n",
    "#Criando a CNN\n",
    "model = models.Sequential()\n",
    "model.add(layers.Conv2D(128, (3, 3), activation='relu',\n",
    "                        input_shape=(150, 150, 3)))\n",
    "model.add(layers.MaxPooling2D((2, 2)))\n",
    "model.add(layers.Conv2D(128, (3, 3), activation='relu'))\n",
    "model.add(layers.MaxPooling2D((2, 2)))\n",
    "model.add(layers.Conv2D(256, (3, 3), activation='relu'))\n",
    "model.add(layers.MaxPooling2D((2, 2)))\n",
    "model.add(layers.Conv2D(256, (3, 3), activation='relu'))\n",
    "model.add(layers.MaxPooling2D((2, 2)))\n",
    "model.add(layers.Flatten())\n",
    "model.add(layers.Dense(1024, activation='relu'))\n",
    "model.add(layers.Dense(1, activation='sigmoid'))"
   ]
  },
  {
   "cell_type": "code",
   "execution_count": 3,
   "metadata": {},
   "outputs": [
    {
     "name": "stdout",
     "output_type": "stream",
     "text": [
      "_________________________________________________________________\n",
      "Layer (type)                 Output Shape              Param #   \n",
      "=================================================================\n",
      "conv2d_1 (Conv2D)            (None, 148, 148, 128)     3584      \n",
      "_________________________________________________________________\n",
      "max_pooling2d_1 (MaxPooling2 (None, 74, 74, 128)       0         \n",
      "_________________________________________________________________\n",
      "conv2d_2 (Conv2D)            (None, 72, 72, 128)       147584    \n",
      "_________________________________________________________________\n",
      "max_pooling2d_2 (MaxPooling2 (None, 36, 36, 128)       0         \n",
      "_________________________________________________________________\n",
      "conv2d_3 (Conv2D)            (None, 34, 34, 256)       295168    \n",
      "_________________________________________________________________\n",
      "max_pooling2d_3 (MaxPooling2 (None, 17, 17, 256)       0         \n",
      "_________________________________________________________________\n",
      "conv2d_4 (Conv2D)            (None, 15, 15, 256)       590080    \n",
      "_________________________________________________________________\n",
      "max_pooling2d_4 (MaxPooling2 (None, 7, 7, 256)         0         \n",
      "_________________________________________________________________\n",
      "flatten_1 (Flatten)          (None, 12544)             0         \n",
      "_________________________________________________________________\n",
      "dense_1 (Dense)              (None, 1024)              12846080  \n",
      "_________________________________________________________________\n",
      "dense_2 (Dense)              (None, 1)                 1025      \n",
      "=================================================================\n",
      "Total params: 13,883,521\n",
      "Trainable params: 13,883,521\n",
      "Non-trainable params: 0\n",
      "_________________________________________________________________\n"
     ]
    }
   ],
   "source": [
    "model.summary()"
   ]
  },
  {
   "cell_type": "code",
   "execution_count": 4,
   "metadata": {},
   "outputs": [
    {
     "name": "stdout",
     "output_type": "stream",
     "text": [
      "WARNING:tensorflow:From C:\\Users\\Vítor\\Anaconda3\\envs\\TCC\\lib\\site-packages\\keras\\optimizers.py:790: The name tf.train.Optimizer is deprecated. Please use tf.compat.v1.train.Optimizer instead.\n",
      "\n",
      "WARNING:tensorflow:From C:\\Users\\Vítor\\Anaconda3\\envs\\TCC\\lib\\site-packages\\tensorflow\\python\\ops\\nn_impl.py:180: add_dispatch_support.<locals>.wrapper (from tensorflow.python.ops.array_ops) is deprecated and will be removed in a future version.\n",
      "Instructions for updating:\n",
      "Use tf.where in 2.0, which has the same broadcast rule as np.where\n"
     ]
    }
   ],
   "source": [
    "from keras import optimizers\n",
    "\n",
    "# SGD (Descida do Gradiente Estocástico) - Otimizador \n",
    "momentum = 0.5\n",
    "sgd = optimizers.SGD(lr=0.01, momentum=momentum, decay=0.0, nesterov=False) \n",
    "\n",
    "model.compile(loss='binary_crossentropy',\n",
    "              optimizer='sgd',\n",
    "              metrics=['acc'])"
   ]
  },
  {
   "cell_type": "code",
   "execution_count": 5,
   "metadata": {},
   "outputs": [
    {
     "name": "stdout",
     "output_type": "stream",
     "text": [
      "Found 3392 images belonging to 2 classes.\n",
      "Found 727 images belonging to 2 classes.\n",
      "Found 726 images belonging to 2 classes.\n"
     ]
    }
   ],
   "source": [
    "from keras.preprocessing.image import ImageDataGenerator\n",
    "\n",
    "\n",
    "# Todas as imagens em nova scale\n",
    "gen = ImageDataGenerator(rescale=1./255,  width_shift_range=0.2,  \n",
    "    height_shift_range=0.2,\n",
    "    horizontal_flip=True)\n",
    "\n",
    "\n",
    "train_generator = gen.flow_from_directory(\n",
    "        \n",
    "        train_dir,\n",
    "        # Todas as images para novo tamanho de 150x150\n",
    "        target_size=(150, 150),\n",
    "        batch_size=20,\n",
    "        shuffle=True,\n",
    "        # Como foi usado a perda binary_crossentropy, precisamos de rótulos binários\n",
    "        class_mode='binary')\n",
    "\n",
    "validation_generator = gen.flow_from_directory(\n",
    "        validation_dir,\n",
    "        target_size=(150, 150),\n",
    "        batch_size=20,\n",
    "        shuffle=True,\n",
    "        class_mode='binary')\n",
    "\n",
    "test_generator = gen.flow_from_directory(\n",
    "        test_dir,\n",
    "        target_size=(150, 150),\n",
    "        batch_size=20,\n",
    "        shuffle=True,\n",
    "        class_mode='binary')"
   ]
  },
  {
   "cell_type": "code",
   "execution_count": 6,
   "metadata": {},
   "outputs": [
    {
     "name": "stdout",
     "output_type": "stream",
     "text": [
      "data batch shape: (20, 150, 150, 3)\n",
      "labels batch shape: (20,)\n"
     ]
    }
   ],
   "source": [
    "for data_batch, labels_batch in train_generator:\n",
    "    print('data batch shape:', data_batch.shape)\n",
    "    print('labels batch shape:', labels_batch.shape)\n",
    "    break"
   ]
  },
  {
   "cell_type": "code",
   "execution_count": 7,
   "metadata": {},
   "outputs": [],
   "source": [
    "import math\n",
    "def step_decay(epoch):\n",
    "    \n",
    "    \n",
    "    initial_lrate=0.1\n",
    "    drop=0.6\n",
    "    epochs_drop = 3.0\n",
    "    lrate= initial_lrate * math.pow(drop,  \n",
    "           math.floor((1+epoch)/epochs_drop))\n",
    "    return lrate\n",
    "   \n",
    "\n",
    "lrate = LearningRateScheduler(step_decay)\n",
    "callbacks_list = [ lrate]"
   ]
  },
  {
   "cell_type": "code",
   "execution_count": 8,
   "metadata": {},
   "outputs": [
    {
     "name": "stdout",
     "output_type": "stream",
     "text": [
      "Epoch 1/30\n",
      "100/100 [==============================] - 116s 1s/step - loss: 0.6879 - acc: 0.5625 - val_loss: 0.6828 - val_acc: 0.5846\n",
      "Epoch 2/30\n",
      "100/100 [==============================] - 120s 1s/step - loss: 0.6717 - acc: 0.6070 - val_loss: 0.6850 - val_acc: 0.5724\n",
      "Epoch 3/30\n",
      "100/100 [==============================] - 70s 696ms/step - loss: 0.6816 - acc: 0.5670 - val_loss: 0.6840 - val_acc: 0.5770\n",
      "Epoch 4/30\n",
      "100/100 [==============================] - 48s 478ms/step - loss: 0.6801 - acc: 0.5675 - val_loss: 0.6862 - val_acc: 0.5714\n",
      "Epoch 5/30\n",
      "100/100 [==============================] - 43s 432ms/step - loss: 0.6673 - acc: 0.6015 - val_loss: 0.6950 - val_acc: 0.5147\n",
      "Epoch 6/30\n",
      "100/100 [==============================] - 43s 429ms/step - loss: 0.6615 - acc: 0.5843 - val_loss: 0.7221 - val_acc: 0.4374\n",
      "Epoch 7/30\n",
      "100/100 [==============================] - 44s 439ms/step - loss: 0.6568 - acc: 0.6072 - val_loss: 0.7111 - val_acc: 0.4904\n",
      "Epoch 8/30\n",
      "100/100 [==============================] - 44s 435ms/step - loss: 0.6539 - acc: 0.6150 - val_loss: 0.7077 - val_acc: 0.4732\n",
      "Epoch 9/30\n",
      "100/100 [==============================] - 43s 433ms/step - loss: 0.6514 - acc: 0.5985 - val_loss: 0.7224 - val_acc: 0.4517\n",
      "Epoch 10/30\n",
      "100/100 [==============================] - 43s 429ms/step - loss: 0.6507 - acc: 0.6145 - val_loss: 0.7283 - val_acc: 0.4316\n",
      "Epoch 11/30\n",
      "100/100 [==============================] - 43s 426ms/step - loss: 0.6452 - acc: 0.6145 - val_loss: 0.7123 - val_acc: 0.4914\n",
      "Epoch 12/30\n",
      "100/100 [==============================] - 43s 425ms/step - loss: 0.6423 - acc: 0.6118 - val_loss: 0.7350 - val_acc: 0.4897\n",
      "Epoch 13/30\n",
      "100/100 [==============================] - 43s 427ms/step - loss: 0.6456 - acc: 0.6095 - val_loss: 0.7096 - val_acc: 0.5187\n",
      "Epoch 14/30\n",
      "100/100 [==============================] - 43s 428ms/step - loss: 0.6339 - acc: 0.6182 - val_loss: 0.7285 - val_acc: 0.5127\n",
      "Epoch 15/30\n",
      "100/100 [==============================] - 43s 427ms/step - loss: 0.6422 - acc: 0.6080 - val_loss: 0.7257 - val_acc: 0.4651\n",
      "Epoch 16/30\n",
      "100/100 [==============================] - 43s 427ms/step - loss: 0.6307 - acc: 0.6368 - val_loss: 0.7411 - val_acc: 0.4792\n",
      "Epoch 17/30\n",
      "100/100 [==============================] - 43s 434ms/step - loss: 0.6396 - acc: 0.6128 - val_loss: 0.7356 - val_acc: 0.4732\n",
      "Epoch 18/30\n",
      "100/100 [==============================] - 43s 430ms/step - loss: 0.6343 - acc: 0.6295 - val_loss: 0.7500 - val_acc: 0.4322\n",
      "Epoch 19/30\n",
      "100/100 [==============================] - 43s 433ms/step - loss: 0.6330 - acc: 0.6205 - val_loss: 0.7372 - val_acc: 0.4863\n",
      "Epoch 20/30\n",
      "100/100 [==============================] - 43s 429ms/step - loss: 0.6374 - acc: 0.6145 - val_loss: 0.7403 - val_acc: 0.4251\n",
      "Epoch 21/30\n",
      "100/100 [==============================] - 43s 427ms/step - loss: 0.6388 - acc: 0.6190 - val_loss: 0.7319 - val_acc: 0.4600\n",
      "Epoch 22/30\n",
      "100/100 [==============================] - 43s 428ms/step - loss: 0.6310 - acc: 0.6225 - val_loss: 0.7335 - val_acc: 0.4195\n",
      "Epoch 23/30\n",
      "100/100 [==============================] - 43s 427ms/step - loss: 0.6383 - acc: 0.6147 - val_loss: 0.7355 - val_acc: 0.4322\n",
      "Epoch 24/30\n",
      "100/100 [==============================] - 43s 427ms/step - loss: 0.6275 - acc: 0.6385 - val_loss: 0.7426 - val_acc: 0.4468\n",
      "Epoch 25/30\n",
      "100/100 [==============================] - 43s 429ms/step - loss: 0.6256 - acc: 0.6355 - val_loss: 0.7469 - val_acc: 0.4580\n",
      "Epoch 26/30\n",
      "100/100 [==============================] - 44s 435ms/step - loss: 0.6318 - acc: 0.6210 - val_loss: 0.7447 - val_acc: 0.4220\n",
      "Epoch 27/30\n",
      "100/100 [==============================] - 44s 436ms/step - loss: 0.6353 - acc: 0.6200 - val_loss: 0.7413 - val_acc: 0.4347\n",
      "Epoch 28/30\n",
      "100/100 [==============================] - 43s 431ms/step - loss: 0.6320 - acc: 0.6255 - val_loss: 0.7454 - val_acc: 0.4286\n",
      "Epoch 29/30\n",
      "100/100 [==============================] - 44s 442ms/step - loss: 0.6250 - acc: 0.6427 - val_loss: 0.7468 - val_acc: 0.4456\n",
      "Epoch 30/30\n",
      "100/100 [==============================] - 43s 433ms/step - loss: 0.6335 - acc: 0.6300 - val_loss: 0.7496 - val_acc: 0.4488\n"
     ]
    }
   ],
   "source": [
    "history = model.fit_generator(\n",
    "      train_generator,\n",
    "      steps_per_epoch=100,\n",
    "      epochs=30,\n",
    "      callbacks=callbacks_list,\n",
    "      validation_data=validation_generator,\n",
    "      validation_steps=50)\n",
    "\n",
    "\n"
   ]
  },
  {
   "cell_type": "code",
   "execution_count": 9,
   "metadata": {},
   "outputs": [
    {
     "name": "stdout",
     "output_type": "stream",
     "text": [
      "Found 726 images belonging to 2 classes.\n",
      "{'autista': 0, 'controle': 1}\n"
     ]
    }
   ],
   "source": [
    "test_gen = gen.flow_from_directory(test_dir, target_size=(150,150))\n",
    "print(test_gen.class_indices)"
   ]
  },
  {
   "cell_type": "code",
   "execution_count": 10,
   "metadata": {},
   "outputs": [
    {
     "name": "stdout",
     "output_type": "stream",
     "text": [
      "Generating confusion matrix 6716\n",
      "Found 3392 images belonging to 2 classes.\n",
      "[[3928    0]\n",
      " [2824    0]]\n",
      "Generating confusion matrix 1439\n",
      "Found 727 images belonging to 2 classes.\n",
      "[[842   0]\n",
      " [605   0]]\n"
     ]
    }
   ],
   "source": [
    "from sklearn.metrics import confusion_matrix\n",
    "def get_confusion_matrix(data_path, N):\n",
    "    print(\"Generating confusion matrix\", N)\n",
    "    predictions = []\n",
    "    targets = []\n",
    "    i = 0\n",
    "    for x, y in gen.flow_from_directory(data_path, target_size=(150,150), shuffle=False, batch_size=80):\n",
    "        i += 1\n",
    "        if i % 500 == 0:\n",
    "            print(i)\n",
    "        p = model.predict(x)\n",
    "        p = np.argmax(p, axis=1)\n",
    "        y = np.argmax(y, axis=1)\n",
    "        predictions = np.concatenate((predictions, p))\n",
    "        targets = np.concatenate((targets, y))\n",
    "        if len(targets) >= N:\n",
    "            break\n",
    "    cm = confusion_matrix(targets, predictions)\n",
    "    return cm\n",
    "\n",
    "\n",
    "cm = get_confusion_matrix(train_dir, 6716)\n",
    "print(cm)\n",
    "valid_cm = get_confusion_matrix(validation_dir, 1439)\n",
    "print(valid_cm)"
   ]
  },
  {
   "cell_type": "code",
   "execution_count": 11,
   "metadata": {
    "scrolled": true
   },
   "outputs": [],
   "source": [
    "import matplotlib.pyplot as plt\n",
    "\n",
    "accTR = history.history['acc']\n",
    "val_acc = history.history['val_acc']\n",
    "lossTR = history.history['loss']\n",
    "val_loss = history.history['val_loss']\n",
    "epochs = range(len(accTR))"
   ]
  },
  {
   "cell_type": "code",
   "execution_count": 12,
   "metadata": {
    "scrolled": true
   },
   "outputs": [
    {
     "name": "stdout",
     "output_type": "stream",
     "text": [
      "Epoch 1/30\n",
      "100/100 [==============================] - 44s 438ms/step - loss: 0.6352 - acc: 0.6307\n",
      "Epoch 2/30\n",
      "100/100 [==============================] - 35s 352ms/step - loss: 0.6134 - acc: 0.6648\n",
      "Epoch 3/30\n",
      "100/100 [==============================] - 35s 352ms/step - loss: 0.5828 - acc: 0.6832\n",
      "Epoch 4/30\n",
      "100/100 [==============================] - 35s 354ms/step - loss: 0.5678 - acc: 0.6877\n",
      "Epoch 5/30\n",
      "100/100 [==============================] - 36s 355ms/step - loss: 0.5435 - acc: 0.7105\n",
      "Epoch 6/30\n",
      "100/100 [==============================] - 35s 353ms/step - loss: 0.5181 - acc: 0.7345\n",
      "Epoch 7/30\n",
      "100/100 [==============================] - 35s 355ms/step - loss: 0.5021 - acc: 0.7423\n",
      "Epoch 8/30\n",
      "100/100 [==============================] - 35s 352ms/step - loss: 0.4691 - acc: 0.7722\n",
      "Epoch 9/30\n",
      "100/100 [==============================] - 35s 352ms/step - loss: 0.4326 - acc: 0.8015\n",
      "Epoch 10/30\n",
      "100/100 [==============================] - 35s 352ms/step - loss: 0.4143 - acc: 0.7926\n",
      "Epoch 11/30\n",
      "100/100 [==============================] - 35s 354ms/step - loss: 0.3849 - acc: 0.8117\n",
      "Epoch 12/30\n",
      "100/100 [==============================] - 35s 353ms/step - loss: 0.3663 - acc: 0.8312\n",
      "Epoch 13/30\n",
      "100/100 [==============================] - 35s 354ms/step - loss: 0.3453 - acc: 0.8393\n",
      "Epoch 14/30\n",
      "100/100 [==============================] - 35s 354ms/step - loss: 0.3303 - acc: 0.8483\n",
      "Epoch 15/30\n",
      "100/100 [==============================] - 35s 352ms/step - loss: 0.2956 - acc: 0.8805\n",
      "Epoch 16/30\n",
      "100/100 [==============================] - 35s 352ms/step - loss: 0.2950 - acc: 0.8713\n",
      "Epoch 17/30\n",
      "100/100 [==============================] - 36s 356ms/step - loss: 0.2868 - acc: 0.8783\n",
      "Epoch 18/30\n",
      "100/100 [==============================] - 35s 352ms/step - loss: 0.2708 - acc: 0.8807\n",
      "Epoch 19/30\n",
      "100/100 [==============================] - 35s 352ms/step - loss: 0.2570 - acc: 0.8958\n",
      "Epoch 20/30\n",
      "100/100 [==============================] - 35s 353ms/step - loss: 0.2643 - acc: 0.8877\n",
      "Epoch 21/30\n",
      "100/100 [==============================] - 35s 354ms/step - loss: 0.2575 - acc: 0.8855\n",
      "Epoch 22/30\n",
      "100/100 [==============================] - 35s 353ms/step - loss: 0.2430 - acc: 0.9000\n",
      "Epoch 23/30\n",
      "100/100 [==============================] - 35s 353ms/step - loss: 0.2369 - acc: 0.9017\n",
      "Epoch 24/30\n",
      "100/100 [==============================] - 35s 354ms/step - loss: 0.2241 - acc: 0.9043\n",
      "Epoch 25/30\n",
      "100/100 [==============================] - 35s 352ms/step - loss: 0.2249 - acc: 0.9065\n",
      "Epoch 26/30\n",
      "100/100 [==============================] - 35s 353ms/step - loss: 0.2275 - acc: 0.9100\n",
      "Epoch 27/30\n",
      "100/100 [==============================] - 35s 355ms/step - loss: 0.2039 - acc: 0.9198\n",
      "Epoch 28/30\n",
      "100/100 [==============================] - 35s 353ms/step - loss: 0.2087 - acc: 0.9143\n",
      "Epoch 29/30\n",
      "100/100 [==============================] - 35s 352ms/step - loss: 0.2048 - acc: 0.9168\n",
      "Epoch 30/30\n",
      "100/100 [==============================] - 35s 352ms/step - loss: 0.2168 - acc: 0.9112\n"
     ]
    }
   ],
   "source": [
    "history = model.fit_generator(\n",
    "      test_generator,\n",
    "      steps_per_epoch=100,\n",
    "      epochs=30,\n",
    "      callbacks=callbacks_list)"
   ]
  },
  {
   "cell_type": "code",
   "execution_count": 13,
   "metadata": {},
   "outputs": [
    {
     "name": "stdout",
     "output_type": "stream",
     "text": [
      "Generating confusion matrix 6716\n",
      "Found 3392 images belonging to 2 classes.\n",
      "[[3928    0]\n",
      " [2824    0]]\n",
      "Generating confusion matrix 1439\n",
      "Found 727 images belonging to 2 classes.\n",
      "[[842   0]\n",
      " [605   0]]\n",
      "Generating confusion matrix 1440\n",
      "Found 726 images belonging to 2 classes.\n",
      "[[840   0]\n",
      " [606   0]]\n"
     ]
    }
   ],
   "source": [
    "cm = get_confusion_matrix(train_dir, 6716)\n",
    "print(cm)\n",
    "valid_cm = get_confusion_matrix(validation_dir, 1439)\n",
    "print(valid_cm)\n",
    "test_cm=get_confusion_matrix(test_dir,1440)\n",
    "print(test_cm)"
   ]
  },
  {
   "cell_type": "code",
   "execution_count": 14,
   "metadata": {},
   "outputs": [
    {
     "name": "stdout",
     "output_type": "stream",
     "text": [
      "A acurácia do teste é de: 0.9116445301258528\n",
      "A perda do teste é de: 0.21374534664102912\n",
      "A acurácia da validação é de: 0.4488348537242642\n",
      "A perda da validação é de: 0.7496359870064222\n"
     ]
    },
    {
     "data": {
      "image/png": "[encoded data removed]",
      "text/plain": [
       "<Figure size 432x288 with 1 Axes>"
      ]
     },
     "metadata": {
      "needs_background": "light"
     },
     "output_type": "display_data"
    },
    {
     "data": {
      "image/png": "[encoded data removed]",
      "text/plain": [
       "<Figure size 432x288 with 1 Axes>"
      ]
     },
     "metadata": {
      "needs_background": "light"
     },
     "output_type": "display_data"
    }
   ],
   "source": [
    "import matplotlib.pyplot as plt\n",
    "\n",
    "accTe = history.history['acc']\n",
    "lossTe = history.history['loss']\n",
    "print('A acurácia do teste é de:', accTe[29])\n",
    "print('A perda do teste é de:', lossTe[29])\n",
    "print('A acurácia da validação é de:', val_acc[29])\n",
    "print('A perda da validação é de:', val_loss[29])\n",
    "epochs = range(len(accTe))\n",
    "\n",
    "plt.plot(epochs, accTR, 'bo', label='Training acc')\n",
    "plt.plot(epochs, val_acc, 'b', label='Validation acc')\n",
    "plt.plot(epochs, accTe, 'r', label='Test acc')\n",
    "plt.title('Training, test and validation accuracy')\n",
    "plt.legend()\n",
    "\n",
    "plt.figure()\n",
    "\n",
    "plt.plot(epochs, lossTR, 'bo', label='Training loss')\n",
    "plt.plot(epochs, val_loss, 'b', label='Validation loss')\n",
    "plt.plot(epochs, lossTe, 'r', label='Test loss')\n",
    "plt.title('Training, test and validation loss')\n",
    "plt.legend()\n",
    "\n",
    "plt.show()"
   ]
  },
  {
   "cell_type": "code",
   "execution_count": null,
   "metadata": {},
   "outputs": [],
   "source": []
  }
 ],
 "metadata": {
  "kernelspec": {
   "display_name": "Python 3",
   "language": "python",
   "name": "python3"
  },
  "language_info": {
   "codemirror_mode": {
    "name": "ipython",
    "version": 3
   },
   "file_extension": ".py",
   "mimetype": "text/x-python",
   "name": "python",
   "nbconvert_exporter": "python",
   "pygments_lexer": "ipython3",
   "version": "3.6.9"
  }
 },
 "nbformat": 4,
 "nbformat_minor": 2
}
