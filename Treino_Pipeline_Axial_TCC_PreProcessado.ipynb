{
 "cells": [
  {
   "cell_type": "code",
   "execution_count": 1,
   "metadata": {},
   "outputs": [
    {
     "name": "stderr",
     "output_type": "stream",
     "text": [
      "Using TensorFlow backend.\n"
     ]
    },
    {
     "name": "stdout",
     "output_type": "stream",
     "text": [
      "WARNING:tensorflow:From C:\\Users\\Vítor\\Anaconda3\\envs\\TCC\\lib\\site-packages\\keras\\backend\\tensorflow_backend.py:174: The name tf.get_default_session is deprecated. Please use tf.compat.v1.get_default_session instead.\n",
      "\n",
      "WARNING:tensorflow:From C:\\Users\\Vítor\\Anaconda3\\envs\\TCC\\lib\\site-packages\\keras\\backend\\tensorflow_backend.py:181: The name tf.ConfigProto is deprecated. Please use tf.compat.v1.ConfigProto instead.\n",
      "\n",
      "WARNING:tensorflow:From C:\\Users\\Vítor\\Anaconda3\\envs\\TCC\\lib\\site-packages\\keras\\backend\\tensorflow_backend.py:186: The name tf.Session is deprecated. Please use tf.compat.v1.Session instead.\n",
      "\n",
      "WARNING:tensorflow:From C:\\Users\\Vítor\\Anaconda3\\envs\\TCC\\lib\\site-packages\\keras\\backend\\tensorflow_backend.py:190: The name tf.global_variables is deprecated. Please use tf.compat.v1.global_variables instead.\n",
      "\n"
     ]
    }
   ],
   "source": [
    "import os\n",
    "import numpy as np\n",
    "from keras.preprocessing.image import ImageDataGenerator\n",
    "from keras import backend as K\n",
    "\n",
    "K.tensorflow_backend._get_available_gpus()\n",
    "\n",
    "base_dir = r'C:\\Users\\Vítor\\Documents\\TCC\\Banco de Dados\\BD_Sem_Pretos\\Axial\\BD'\n",
    "\n",
    "train_dir = os.path.join(base_dir, 'train')\n",
    "validation_dir = os.path.join(base_dir, 'validation')\n",
    "test_dir = os.path.join(base_dir, 'test')\n",
    "\n",
    "datagen = ImageDataGenerator(rescale=1./255)\n",
    "batch_size = 20"
   ]
  },
  {
   "cell_type": "code",
   "execution_count": 2,
   "metadata": {},
   "outputs": [
    {
     "name": "stdout",
     "output_type": "stream",
     "text": [
      "WARNING:tensorflow:From C:\\Users\\Vítor\\Anaconda3\\envs\\TCC\\lib\\site-packages\\keras\\backend\\tensorflow_backend.py:74: The name tf.get_default_graph is deprecated. Please use tf.compat.v1.get_default_graph instead.\n",
      "\n",
      "WARNING:tensorflow:From C:\\Users\\Vítor\\Anaconda3\\envs\\TCC\\lib\\site-packages\\keras\\backend\\tensorflow_backend.py:3976: The name tf.nn.max_pool is deprecated. Please use tf.nn.max_pool2d instead.\n",
      "\n"
     ]
    }
   ],
   "source": [
    "from keras import layers\n",
    "from keras import models\n",
    "from keras.callbacks import ModelCheckpoint,LearningRateScheduler\n",
    "#Criando a CNN\n",
    "model = models.Sequential()\n",
    "model.add(layers.Conv2D(128, (3, 3), activation='relu',\n",
    "                        input_shape=(150, 150, 3)))\n",
    "model.add(layers.MaxPooling2D((2, 2)))\n",
    "model.add(layers.Conv2D(128, (3, 3), activation='relu'))\n",
    "model.add(layers.MaxPooling2D((2, 2)))\n",
    "model.add(layers.Conv2D(256, (3, 3), activation='relu'))\n",
    "model.add(layers.MaxPooling2D((2, 2)))\n",
    "model.add(layers.Conv2D(256, (3, 3), activation='relu'))\n",
    "model.add(layers.MaxPooling2D((2, 2)))\n",
    "model.add(layers.Flatten())\n",
    "model.add(layers.Dense(1024, activation='relu'))\n",
    "model.add(layers.Dense(1, activation='sigmoid'))"
   ]
  },
  {
   "cell_type": "code",
   "execution_count": 3,
   "metadata": {},
   "outputs": [
    {
     "name": "stdout",
     "output_type": "stream",
     "text": [
      "_________________________________________________________________\n",
      "Layer (type)                 Output Shape              Param #   \n",
      "=================================================================\n",
      "conv2d_1 (Conv2D)            (None, 148, 148, 128)     3584      \n",
      "_________________________________________________________________\n",
      "max_pooling2d_1 (MaxPooling2 (None, 74, 74, 128)       0         \n",
      "_________________________________________________________________\n",
      "conv2d_2 (Conv2D)            (None, 72, 72, 128)       147584    \n",
      "_________________________________________________________________\n",
      "max_pooling2d_2 (MaxPooling2 (None, 36, 36, 128)       0         \n",
      "_________________________________________________________________\n",
      "conv2d_3 (Conv2D)            (None, 34, 34, 256)       295168    \n",
      "_________________________________________________________________\n",
      "max_pooling2d_3 (MaxPooling2 (None, 17, 17, 256)       0         \n",
      "_________________________________________________________________\n",
      "conv2d_4 (Conv2D)            (None, 15, 15, 256)       590080    \n",
      "_________________________________________________________________\n",
      "max_pooling2d_4 (MaxPooling2 (None, 7, 7, 256)         0         \n",
      "_________________________________________________________________\n",
      "flatten_1 (Flatten)          (None, 12544)             0         \n",
      "_________________________________________________________________\n",
      "dense_1 (Dense)              (None, 1024)              12846080  \n",
      "_________________________________________________________________\n",
      "dense_2 (Dense)              (None, 1)                 1025      \n",
      "=================================================================\n",
      "Total params: 13,883,521\n",
      "Trainable params: 13,883,521\n",
      "Non-trainable params: 0\n",
      "_________________________________________________________________\n"
     ]
    }
   ],
   "source": [
    "model.summary()"
   ]
  },
  {
   "cell_type": "code",
   "execution_count": 4,
   "metadata": {},
   "outputs": [
    {
     "name": "stdout",
     "output_type": "stream",
     "text": [
      "WARNING:tensorflow:From C:\\Users\\Vítor\\Anaconda3\\envs\\TCC\\lib\\site-packages\\keras\\optimizers.py:790: The name tf.train.Optimizer is deprecated. Please use tf.compat.v1.train.Optimizer instead.\n",
      "\n",
      "WARNING:tensorflow:From C:\\Users\\Vítor\\Anaconda3\\envs\\TCC\\lib\\site-packages\\tensorflow\\python\\ops\\nn_impl.py:180: add_dispatch_support.<locals>.wrapper (from tensorflow.python.ops.array_ops) is deprecated and will be removed in a future version.\n",
      "Instructions for updating:\n",
      "Use tf.where in 2.0, which has the same broadcast rule as np.where\n"
     ]
    }
   ],
   "source": [
    "from keras import optimizers\n",
    "\n",
    "# SGD (Descida do Gradiente Estocástico) - Otimizador \n",
    "momentum = 0.5\n",
    "sgd = optimizers.SGD(lr=0.01, momentum=momentum, decay=0.0, nesterov=False) \n",
    "\n",
    "model.compile(loss='binary_crossentropy',\n",
    "              optimizer=sgd,\n",
    "              metrics=['acc'])"
   ]
  },
  {
   "cell_type": "code",
   "execution_count": 5,
   "metadata": {},
   "outputs": [
    {
     "name": "stdout",
     "output_type": "stream",
     "text": [
      "Found 22470 images belonging to 2 classes.\n",
      "Found 8025 images belonging to 2 classes.\n"
     ]
    }
   ],
   "source": [
    "from keras.preprocessing.image import ImageDataGenerator\n",
    "\n",
    "# Todas as imagens em nova scale\n",
    "train_datagen = ImageDataGenerator(rescale=1./255,  width_shift_range=0.2,  \n",
    "    height_shift_range=0.2,\n",
    "    horizontal_flip=True)\n",
    "test_datagen = ImageDataGenerator(rescale=1./255,   width_shift_range=0.2,  \n",
    "    height_shift_range=0.2,\n",
    "    horizontal_flip=True)\n",
    "\n",
    "train_generator = train_datagen.flow_from_directory(\n",
    "        \n",
    "        train_dir,\n",
    "        # Todas as images para novo tamanho de 150x150\n",
    "        target_size=(150, 150),\n",
    "        batch_size=20,\n",
    "        # Como foi usado a perda binary_crossentropy, precisamos de rótulos binários\n",
    "        class_mode='binary')\n",
    "\n",
    "validation_generator = test_datagen.flow_from_directory(\n",
    "        validation_dir,\n",
    "        target_size=(150, 150),\n",
    "        batch_size=20,\n",
    "        class_mode='binary')"
   ]
  },
  {
   "cell_type": "code",
   "execution_count": 6,
   "metadata": {},
   "outputs": [
    {
     "name": "stdout",
     "output_type": "stream",
     "text": [
      "data batch shape: (20, 150, 150, 3)\n",
      "labels batch shape: (20,)\n"
     ]
    }
   ],
   "source": [
    "for data_batch, labels_batch in train_generator:\n",
    "    print('data batch shape:', data_batch.shape)\n",
    "    print('labels batch shape:', labels_batch.shape)\n",
    "    break"
   ]
  },
  {
   "cell_type": "code",
   "execution_count": 7,
   "metadata": {},
   "outputs": [],
   "source": [
    "import math\n",
    "def step_decay(epoch):\n",
    "    \n",
    "    \n",
    "    initial_lrate=0.1\n",
    "    drop=0.6\n",
    "    epochs_drop = 3.0\n",
    "    lrate= initial_lrate * math.pow(drop,  \n",
    "           math.floor((1+epoch)/epochs_drop))\n",
    "    return lrate\n",
    "   \n",
    "\n",
    "lrate = LearningRateScheduler(step_decay)\n",
    "callbacks_list = [ lrate]"
   ]
  },
  {
   "cell_type": "code",
   "execution_count": 8,
   "metadata": {},
   "outputs": [
    {
     "name": "stdout",
     "output_type": "stream",
     "text": [
      "Epoch 1/30\n",
      "100/100 [==============================] - 67s 666ms/step - loss: 0.6940 - acc: 0.5175 - val_loss: 0.6835 - val_acc: 0.7070\n",
      "Epoch 2/30\n",
      "100/100 [==============================] - 57s 567ms/step - loss: 0.6899 - acc: 0.5420 - val_loss: 0.6761 - val_acc: 0.6630\n",
      "Epoch 3/30\n",
      "100/100 [==============================] - 56s 560ms/step - loss: 0.6903 - acc: 0.5280 - val_loss: 0.6597 - val_acc: 0.6760\n",
      "Epoch 4/30\n",
      "100/100 [==============================] - 57s 568ms/step - loss: 0.6876 - acc: 0.5505 - val_loss: 0.6600 - val_acc: 0.6710\n",
      "Epoch 5/30\n",
      "100/100 [==============================] - 56s 564ms/step - loss: 0.6869 - acc: 0.5465 - val_loss: 0.6461 - val_acc: 0.6990\n",
      "Epoch 6/30\n",
      "100/100 [==============================] - 56s 563ms/step - loss: 0.6804 - acc: 0.5495 - val_loss: 0.6676 - val_acc: 0.6070\n",
      "Epoch 7/30\n",
      "100/100 [==============================] - 57s 573ms/step - loss: 0.6873 - acc: 0.5280 - val_loss: 0.6683 - val_acc: 0.6430\n",
      "Epoch 8/30\n",
      "100/100 [==============================] - 59s 586ms/step - loss: 0.6855 - acc: 0.5490 - val_loss: 0.6870 - val_acc: 0.5240\n",
      "Epoch 9/30\n",
      "100/100 [==============================] - 50s 503ms/step - loss: 0.6754 - acc: 0.5670 - val_loss: 0.6625 - val_acc: 0.6335\n",
      "Epoch 10/30\n",
      "100/100 [==============================] - 53s 526ms/step - loss: 0.6777 - acc: 0.5690 - val_loss: 0.6302 - val_acc: 0.7030\n",
      "Epoch 11/30\n",
      "100/100 [==============================] - 65s 653ms/step - loss: 0.6810 - acc: 0.5615 - val_loss: 0.6385 - val_acc: 0.6380\n",
      "Epoch 12/30\n",
      "100/100 [==============================] - 54s 539ms/step - loss: 0.6826 - acc: 0.5565 - val_loss: 0.6628 - val_acc: 0.5990\n",
      "Epoch 13/30\n",
      "100/100 [==============================] - 57s 568ms/step - loss: 0.6766 - acc: 0.5700 - val_loss: 0.6551 - val_acc: 0.5860\n",
      "Epoch 14/30\n",
      "100/100 [==============================] - 67s 667ms/step - loss: 0.6664 - acc: 0.5815 - val_loss: 0.6249 - val_acc: 0.6630\n",
      "Epoch 15/30\n",
      "100/100 [==============================] - 76s 763ms/step - loss: 0.6729 - acc: 0.5585 - val_loss: 0.6418 - val_acc: 0.6140\n",
      "Epoch 16/30\n",
      "100/100 [==============================] - 68s 676ms/step - loss: 0.6763 - acc: 0.5765 - val_loss: 0.6438 - val_acc: 0.6460\n",
      "Epoch 17/30\n",
      "100/100 [==============================] - 51s 507ms/step - loss: 0.6711 - acc: 0.5670 - val_loss: 0.6245 - val_acc: 0.6376\n",
      "Epoch 18/30\n",
      "100/100 [==============================] - 50s 501ms/step - loss: 0.6778 - acc: 0.5665 - val_loss: 0.6511 - val_acc: 0.5990\n",
      "Epoch 19/30\n",
      "100/100 [==============================] - 55s 550ms/step - loss: 0.6718 - acc: 0.5760 - val_loss: 0.6462 - val_acc: 0.6090\n",
      "Epoch 20/30\n",
      "100/100 [==============================] - 50s 505ms/step - loss: 0.6675 - acc: 0.5800 - val_loss: 0.6524 - val_acc: 0.5900\n",
      "Epoch 21/30\n",
      "100/100 [==============================] - 52s 522ms/step - loss: 0.6681 - acc: 0.5755 - val_loss: 0.6361 - val_acc: 0.6340\n",
      "Epoch 22/30\n",
      "100/100 [==============================] - 51s 510ms/step - loss: 0.6707 - acc: 0.5790 - val_loss: 0.6335 - val_acc: 0.6350\n",
      "Epoch 23/30\n",
      "100/100 [==============================] - 44s 438ms/step - loss: 0.6692 - acc: 0.5630 - val_loss: 0.6382 - val_acc: 0.6240\n",
      "Epoch 24/30\n",
      "100/100 [==============================] - 42s 420ms/step - loss: 0.6719 - acc: 0.5755 - val_loss: 0.6385 - val_acc: 0.6200\n",
      "Epoch 25/30\n",
      "100/100 [==============================] - 42s 417ms/step - loss: 0.6747 - acc: 0.5710 - val_loss: 0.6419 - val_acc: 0.6365\n",
      "Epoch 26/30\n",
      "100/100 [==============================] - 42s 418ms/step - loss: 0.6695 - acc: 0.5590 - val_loss: 0.6396 - val_acc: 0.6220\n",
      "Epoch 27/30\n",
      "100/100 [==============================] - 43s 430ms/step - loss: 0.6623 - acc: 0.5900 - val_loss: 0.6417 - val_acc: 0.6230\n",
      "Epoch 28/30\n",
      "100/100 [==============================] - 42s 421ms/step - loss: 0.6716 - acc: 0.5735 - val_loss: 0.6477 - val_acc: 0.6030\n",
      "Epoch 29/30\n",
      "100/100 [==============================] - 42s 417ms/step - loss: 0.6715 - acc: 0.5670 - val_loss: 0.6449 - val_acc: 0.6300\n",
      "Epoch 30/30\n",
      "100/100 [==============================] - 42s 416ms/step - loss: 0.6744 - acc: 0.5755 - val_loss: 0.6465 - val_acc: 0.6170\n"
     ]
    }
   ],
   "source": [
    "history = model.fit_generator(\n",
    "      train_generator,\n",
    "      steps_per_epoch=100,\n",
    "      epochs=30,\n",
    "      callbacks=callbacks_list,\n",
    "      validation_data=validation_generator,\n",
    "      validation_steps=50)"
   ]
  },
  {
   "cell_type": "code",
   "execution_count": 10,
   "metadata": {},
   "outputs": [
    {
     "name": "stdout",
     "output_type": "stream",
     "text": [
      "A acurácia da validação é de: 0.617000002861023\n",
      "A perda da validação é de: 0.6464541816711425\n"
     ]
    },
    {
     "data": {
      "image/png": "[encoded data removed]",
      "text/plain": [
       "<Figure size 432x288 with 1 Axes>"
      ]
     },
     "metadata": {
      "needs_background": "light"
     },
     "output_type": "display_data"
    },
    {
     "data": {
      "image/png": "[encoded data removed]",
      "text/plain": [
       "<Figure size 432x288 with 1 Axes>"
      ]
     },
     "metadata": {
      "needs_background": "light"
     },
     "output_type": "display_data"
    }
   ],
   "source": [
    "import matplotlib.pyplot as plt\n",
    "\n",
    "acc = history.history['acc']\n",
    "val_acc = history.history['val_acc']\n",
    "loss = history.history['loss']\n",
    "val_loss = history.history['val_loss']\n",
    "print('A acurácia da validação é de:', val_acc[29])\n",
    "print('A perda da validação é de:', val_loss[29])\n",
    "epochs = range(len(acc))\n",
    "\n",
    "plt.plot(epochs, acc, 'bo', label='Training acc')\n",
    "plt.plot(epochs, val_acc, 'b', label='Validation acc')\n",
    "plt.title('Training and validation accuracy')\n",
    "plt.legend()\n",
    "\n",
    "plt.figure()\n",
    "\n",
    "plt.plot(epochs, loss, 'bo', label='Training loss')\n",
    "plt.plot(epochs, val_loss, 'b', label='Validation loss')\n",
    "plt.title('Training and validation loss')\n",
    "plt.legend()\n",
    "\n",
    "plt.show()"
   ]
  },
  {
   "cell_type": "code",
   "execution_count": 11,
   "metadata": {},
   "outputs": [],
   "source": [
    "from sklearn.metrics import confusion_matrix\n",
    "Y_prediction = model.predict_generator(validation_generator,len(validation_generator))\n",
    "Y_pred_classes = np.argmax(Y_prediction,axis = 1) \n",
    "confusion_mtx = confusion_matrix(validation_generator.classes, Y_pred_classes)"
   ]
  },
  {
   "cell_type": "code",
   "execution_count": 12,
   "metadata": {},
   "outputs": [
    {
     "data": {
      "image/png": "[encoded data removed]",
      "text/plain": [
       "<Figure size 720x720 with 2 Axes>"
      ]
     },
     "metadata": {
      "needs_background": "light"
     },
     "output_type": "display_data"
    }
   ],
   "source": [
    "plt.figure(figsize=(10,10))\n",
    "import seaborn as sns\n",
    "sns.heatmap(confusion_mtx, annot=True, fmt=\"d\");"
   ]
  }
 ],
 "metadata": {
  "kernelspec": {
   "display_name": "Python 3",
   "language": "python",
   "name": "python3"
  },
  "language_info": {
   "codemirror_mode": {
    "name": "ipython",
    "version": 3
   },
   "file_extension": ".py",
   "mimetype": "text/x-python",
   "name": "python",
   "nbconvert_exporter": "python",
   "pygments_lexer": "ipython3",
   "version": "3.6.9"
  }
 },
 "nbformat": 4,
 "nbformat_minor": 2
}
