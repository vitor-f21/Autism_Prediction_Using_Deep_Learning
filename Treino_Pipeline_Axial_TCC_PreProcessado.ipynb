{
 "cells": [
  {
   "cell_type": "code",
   "execution_count": 1,
   "metadata": {},
   "outputs": [
    {
     "name": "stderr",
     "output_type": "stream",
     "text": [
      "Using TensorFlow backend.\n"
     ]
    },
    {
     "name": "stdout",
     "output_type": "stream",
     "text": [
      "WARNING:tensorflow:From C:\\Users\\Vítor\\Anaconda3\\envs\\TCC\\lib\\site-packages\\keras\\backend\\tensorflow_backend.py:174: The name tf.get_default_session is deprecated. Please use tf.compat.v1.get_default_session instead.\n",
      "\n",
      "WARNING:tensorflow:From C:\\Users\\Vítor\\Anaconda3\\envs\\TCC\\lib\\site-packages\\keras\\backend\\tensorflow_backend.py:181: The name tf.ConfigProto is deprecated. Please use tf.compat.v1.ConfigProto instead.\n",
      "\n",
      "WARNING:tensorflow:From C:\\Users\\Vítor\\Anaconda3\\envs\\TCC\\lib\\site-packages\\keras\\backend\\tensorflow_backend.py:186: The name tf.Session is deprecated. Please use tf.compat.v1.Session instead.\n",
      "\n",
      "WARNING:tensorflow:From C:\\Users\\Vítor\\Anaconda3\\envs\\TCC\\lib\\site-packages\\keras\\backend\\tensorflow_backend.py:190: The name tf.global_variables is deprecated. Please use tf.compat.v1.global_variables instead.\n",
      "\n"
     ]
    }
   ],
   "source": [
    "import os\n",
    "import numpy as np\n",
    "from keras.preprocessing.image import ImageDataGenerator\n",
    "from keras import backend as K\n",
    "\n",
    "K.tensorflow_backend._get_available_gpus()\n",
    "\n",
    "base_dir = r'C:\\Users\\Vítor\\Documents\\TCC\\Banco de Dados\\BD_Sem_Pretos\\Axial\\BD'\n",
    "\n",
    "train_dir = os.path.join(base_dir, 'train')\n",
    "validation_dir = os.path.join(base_dir, 'validation')\n",
    "test_dir = os.path.join(base_dir, 'test')\n",
    "\n",
    "datagen = ImageDataGenerator(rescale=1./255)\n",
    "batch_size = 20"
   ]
  },
  {
   "cell_type": "code",
   "execution_count": 2,
   "metadata": {},
   "outputs": [
    {
     "name": "stdout",
     "output_type": "stream",
     "text": [
      "WARNING:tensorflow:From C:\\Users\\Vítor\\Anaconda3\\envs\\TCC\\lib\\site-packages\\keras\\backend\\tensorflow_backend.py:74: The name tf.get_default_graph is deprecated. Please use tf.compat.v1.get_default_graph instead.\n",
      "\n",
      "WARNING:tensorflow:From C:\\Users\\Vítor\\Anaconda3\\envs\\TCC\\lib\\site-packages\\keras\\backend\\tensorflow_backend.py:3976: The name tf.nn.max_pool is deprecated. Please use tf.nn.max_pool2d instead.\n",
      "\n"
     ]
    }
   ],
   "source": [
    "from keras import layers\n",
    "from keras import models\n",
    "#Criando a CNN\n",
    "model = models.Sequential()\n",
    "model.add(layers.Conv2D(128, (3, 3), activation='relu',\n",
    "                        input_shape=(150, 150, 3)))\n",
    "model.add(layers.MaxPooling2D((2, 2)))\n",
    "model.add(layers.Conv2D(128, (3, 3), activation='relu'))\n",
    "model.add(layers.MaxPooling2D((2, 2)))\n",
    "model.add(layers.Conv2D(256, (3, 3), activation='relu'))\n",
    "model.add(layers.MaxPooling2D((2, 2)))\n",
    "model.add(layers.Conv2D(256, (3, 3), activation='relu'))\n",
    "model.add(layers.MaxPooling2D((2, 2)))\n",
    "model.add(layers.Flatten())\n",
    "model.add(layers.Dense(1024, activation='relu'))\n",
    "model.add(layers.Dense(1, activation='sigmoid'))"
   ]
  },
  {
   "cell_type": "code",
   "execution_count": 3,
   "metadata": {},
   "outputs": [
    {
     "name": "stdout",
     "output_type": "stream",
     "text": [
      "_________________________________________________________________\n",
      "Layer (type)                 Output Shape              Param #   \n",
      "=================================================================\n",
      "conv2d_1 (Conv2D)            (None, 148, 148, 128)     3584      \n",
      "_________________________________________________________________\n",
      "max_pooling2d_1 (MaxPooling2 (None, 74, 74, 128)       0         \n",
      "_________________________________________________________________\n",
      "conv2d_2 (Conv2D)            (None, 72, 72, 128)       147584    \n",
      "_________________________________________________________________\n",
      "max_pooling2d_2 (MaxPooling2 (None, 36, 36, 128)       0         \n",
      "_________________________________________________________________\n",
      "conv2d_3 (Conv2D)            (None, 34, 34, 256)       295168    \n",
      "_________________________________________________________________\n",
      "max_pooling2d_3 (MaxPooling2 (None, 17, 17, 256)       0         \n",
      "_________________________________________________________________\n",
      "conv2d_4 (Conv2D)            (None, 15, 15, 256)       590080    \n",
      "_________________________________________________________________\n",
      "max_pooling2d_4 (MaxPooling2 (None, 7, 7, 256)         0         \n",
      "_________________________________________________________________\n",
      "flatten_1 (Flatten)          (None, 12544)             0         \n",
      "_________________________________________________________________\n",
      "dense_1 (Dense)              (None, 1024)              12846080  \n",
      "_________________________________________________________________\n",
      "dense_2 (Dense)              (None, 1)                 1025      \n",
      "=================================================================\n",
      "Total params: 13,883,521\n",
      "Trainable params: 13,883,521\n",
      "Non-trainable params: 0\n",
      "_________________________________________________________________\n"
     ]
    }
   ],
   "source": [
    "model.summary()"
   ]
  },
  {
   "cell_type": "code",
   "execution_count": 4,
   "metadata": {},
   "outputs": [
    {
     "name": "stdout",
     "output_type": "stream",
     "text": [
      "WARNING:tensorflow:From C:\\Users\\Vítor\\Anaconda3\\envs\\TCC\\lib\\site-packages\\keras\\optimizers.py:790: The name tf.train.Optimizer is deprecated. Please use tf.compat.v1.train.Optimizer instead.\n",
      "\n",
      "WARNING:tensorflow:From C:\\Users\\Vítor\\Anaconda3\\envs\\TCC\\lib\\site-packages\\tensorflow\\python\\ops\\nn_impl.py:180: add_dispatch_support.<locals>.wrapper (from tensorflow.python.ops.array_ops) is deprecated and will be removed in a future version.\n",
      "Instructions for updating:\n",
      "Use tf.where in 2.0, which has the same broadcast rule as np.where\n"
     ]
    }
   ],
   "source": [
    "from keras import optimizers\n",
    "\n",
    "model.compile(loss='binary_crossentropy',\n",
    "              optimizer=optimizers.RMSprop(lr=1e-4),\n",
    "              metrics=['acc'])"
   ]
  },
  {
   "cell_type": "code",
   "execution_count": 6,
   "metadata": {},
   "outputs": [
    {
     "name": "stdout",
     "output_type": "stream",
     "text": [
      "Found 22470 images belonging to 2 classes.\n",
      "Found 8025 images belonging to 2 classes.\n"
     ]
    }
   ],
   "source": [
    "from keras.preprocessing.image import ImageDataGenerator\n",
    "\n",
    "# Todas as imagens em nova scale\n",
    "train_datagen = ImageDataGenerator(rescale=1./255,  width_shift_range=0.2,  \n",
    "    height_shift_range=0.2,\n",
    "    horizontal_flip=True)\n",
    "test_datagen = ImageDataGenerator(rescale=1./255,   width_shift_range=0.2,  \n",
    "    height_shift_range=0.2,\n",
    "    horizontal_flip=True)\n",
    "\n",
    "train_generator = train_datagen.flow_from_directory(\n",
    "        \n",
    "        train_dir,\n",
    "        # Todas as images para novo tamanho de 150x150\n",
    "        target_size=(150, 150),\n",
    "        batch_size=20,\n",
    "        # Como foi usado a perda binary_crossentropy, precisamos de rótulos binários\n",
    "        class_mode='binary')\n",
    "\n",
    "validation_generator = test_datagen.flow_from_directory(\n",
    "        validation_dir,\n",
    "        target_size=(150, 150),\n",
    "        batch_size=20,\n",
    "        class_mode='binary')"
   ]
  },
  {
   "cell_type": "code",
   "execution_count": 7,
   "metadata": {},
   "outputs": [
    {
     "name": "stdout",
     "output_type": "stream",
     "text": [
      "data batch shape: (20, 150, 150, 3)\n",
      "labels batch shape: (20,)\n"
     ]
    }
   ],
   "source": [
    "for data_batch, labels_batch in train_generator:\n",
    "    print('data batch shape:', data_batch.shape)\n",
    "    print('labels batch shape:', labels_batch.shape)\n",
    "    break"
   ]
  },
  {
   "cell_type": "code",
   "execution_count": 8,
   "metadata": {},
   "outputs": [
    {
     "name": "stdout",
     "output_type": "stream",
     "text": [
      "Epoch 1/30\n",
      "100/100 [==============================] - 70s 700ms/step - loss: 0.6917 - acc: 0.5340 - val_loss: 0.6822 - val_acc: 0.6420\n",
      "Epoch 2/30\n",
      "100/100 [==============================] - 67s 669ms/step - loss: 0.6903 - acc: 0.5430 - val_loss: 0.6603 - val_acc: 0.6830\n",
      "Epoch 3/30\n",
      "100/100 [==============================] - 62s 618ms/step - loss: 0.6887 - acc: 0.5325 - val_loss: 0.6441 - val_acc: 0.6680\n",
      "Epoch 4/30\n",
      "100/100 [==============================] - 63s 633ms/step - loss: 0.6853 - acc: 0.5515 - val_loss: 0.6661 - val_acc: 0.6220\n",
      "Epoch 5/30\n",
      "100/100 [==============================] - 62s 616ms/step - loss: 0.6798 - acc: 0.5675 - val_loss: 0.6268 - val_acc: 0.6680\n",
      "Epoch 6/30\n",
      "100/100 [==============================] - 62s 621ms/step - loss: 0.6757 - acc: 0.5775 - val_loss: 0.6843 - val_acc: 0.5350\n",
      "Epoch 7/30\n",
      "100/100 [==============================] - 74s 739ms/step - loss: 0.6707 - acc: 0.5750 - val_loss: 0.6690 - val_acc: 0.5640\n",
      "Epoch 8/30\n",
      "100/100 [==============================] - 86s 860ms/step - loss: 0.6606 - acc: 0.5800 - val_loss: 0.6075 - val_acc: 0.6600\n",
      "Epoch 9/30\n",
      "100/100 [==============================] - 75s 746ms/step - loss: 0.6616 - acc: 0.5845 - val_loss: 0.6465 - val_acc: 0.5817\n",
      "Epoch 10/30\n",
      "100/100 [==============================] - 58s 575ms/step - loss: 0.6584 - acc: 0.5985 - val_loss: 0.6251 - val_acc: 0.6190\n",
      "Epoch 11/30\n",
      "100/100 [==============================] - 60s 602ms/step - loss: 0.6396 - acc: 0.6105 - val_loss: 0.6389 - val_acc: 0.5710\n",
      "Epoch 12/30\n",
      "100/100 [==============================] - 77s 773ms/step - loss: 0.6430 - acc: 0.6080 - val_loss: 0.6488 - val_acc: 0.5870\n",
      "Epoch 13/30\n",
      "100/100 [==============================] - 84s 838ms/step - loss: 0.6381 - acc: 0.6120 - val_loss: 0.6281 - val_acc: 0.6280\n",
      "Epoch 14/30\n",
      "100/100 [==============================] - 65s 647ms/step - loss: 0.6316 - acc: 0.6250 - val_loss: 0.6640 - val_acc: 0.5850\n",
      "Epoch 15/30\n",
      "100/100 [==============================] - 66s 664ms/step - loss: 0.6327 - acc: 0.6345 - val_loss: 0.6655 - val_acc: 0.5940\n",
      "Epoch 16/30\n",
      "100/100 [==============================] - 66s 657ms/step - loss: 0.6299 - acc: 0.6245 - val_loss: 0.6770 - val_acc: 0.5550\n",
      "Epoch 17/30\n",
      "100/100 [==============================] - 54s 537ms/step - loss: 0.6315 - acc: 0.6160 - val_loss: 0.6461 - val_acc: 0.6305\n",
      "Epoch 18/30\n",
      "100/100 [==============================] - 52s 520ms/step - loss: 0.6206 - acc: 0.6340 - val_loss: 0.6380 - val_acc: 0.6050\n",
      "Epoch 19/30\n",
      "100/100 [==============================] - 50s 505ms/step - loss: 0.6102 - acc: 0.6430 - val_loss: 0.6550 - val_acc: 0.5870\n",
      "Epoch 20/30\n",
      "100/100 [==============================] - 51s 509ms/step - loss: 0.6225 - acc: 0.6245 - val_loss: 0.7007 - val_acc: 0.5810\n",
      "Epoch 21/30\n",
      "100/100 [==============================] - 51s 515ms/step - loss: 0.6148 - acc: 0.6480 - val_loss: 0.6760 - val_acc: 0.5740\n",
      "Epoch 22/30\n",
      "100/100 [==============================] - 51s 512ms/step - loss: 0.6142 - acc: 0.6250 - val_loss: 0.6356 - val_acc: 0.6360\n",
      "Epoch 23/30\n",
      "100/100 [==============================] - 46s 461ms/step - loss: 0.6086 - acc: 0.6280 - val_loss: 0.6469 - val_acc: 0.6370\n",
      "Epoch 24/30\n",
      "100/100 [==============================] - 46s 461ms/step - loss: 0.6118 - acc: 0.6430 - val_loss: 0.6435 - val_acc: 0.6140\n",
      "Epoch 25/30\n",
      "100/100 [==============================] - 46s 457ms/step - loss: 0.6162 - acc: 0.6175 - val_loss: 0.6985 - val_acc: 0.5360\n",
      "Epoch 26/30\n",
      "100/100 [==============================] - 46s 460ms/step - loss: 0.5966 - acc: 0.6445 - val_loss: 0.6718 - val_acc: 0.5820\n",
      "Epoch 27/30\n",
      "100/100 [==============================] - 46s 457ms/step - loss: 0.5996 - acc: 0.6440 - val_loss: 0.6723 - val_acc: 0.6810\n",
      "Epoch 28/30\n",
      "100/100 [==============================] - 46s 455ms/step - loss: 0.5965 - acc: 0.6305 - val_loss: 0.6497 - val_acc: 0.6020\n",
      "Epoch 29/30\n",
      "100/100 [==============================] - 46s 463ms/step - loss: 0.5942 - acc: 0.6405 - val_loss: 0.6905 - val_acc: 0.5770\n",
      "Epoch 30/30\n",
      "100/100 [==============================] - 45s 455ms/step - loss: 0.6011 - acc: 0.6445 - val_loss: 0.7545 - val_acc: 0.6110\n"
     ]
    }
   ],
   "source": [
    "history = model.fit_generator(\n",
    "      train_generator,\n",
    "      steps_per_epoch=100,\n",
    "      epochs=30,\n",
    "      validation_data=validation_generator,\n",
    "      validation_steps=50)"
   ]
  },
  {
   "cell_type": "code",
   "execution_count": 10,
   "metadata": {},
   "outputs": [
    {
     "name": "stdout",
     "output_type": "stream",
     "text": [
      "A acurácia da validação é de: 0.6110000020265579\n",
      "A perda da validação é de: 0.7544894248247147\n"
     ]
    },
    {
     "data": {
      "image/png": "[encoded data removed]",
      "text/plain": [
       "<Figure size 432x288 with 1 Axes>"
      ]
     },
     "metadata": {
      "needs_background": "light"
     },
     "output_type": "display_data"
    },
    {
     "data": {
      "image/png": "[encoded data removed]",
      "text/plain": [
       "<Figure size 432x288 with 1 Axes>"
      ]
     },
     "metadata": {
      "needs_background": "light"
     },
     "output_type": "display_data"
    }
   ],
   "source": [
    "import matplotlib.pyplot as plt\n",
    "\n",
    "acc = history.history['acc']\n",
    "val_acc = history.history['val_acc']\n",
    "loss = history.history['loss']\n",
    "val_loss = history.history['val_loss']\n",
    "print('A acurácia da validação é de:', val_acc[29])\n",
    "print('A perda da validação é de:', val_loss[29])\n",
    "epochs = range(len(acc))\n",
    "\n",
    "plt.plot(epochs, acc, 'bo', label='Training acc')\n",
    "plt.plot(epochs, val_acc, 'b', label='Validation acc')\n",
    "plt.title('Training and validation accuracy')\n",
    "plt.legend()\n",
    "\n",
    "plt.figure()\n",
    "\n",
    "plt.plot(epochs, loss, 'bo', label='Training loss')\n",
    "plt.plot(epochs, val_loss, 'b', label='Validation loss')\n",
    "plt.title('Training and validation loss')\n",
    "plt.legend()\n",
    "\n",
    "plt.show()"
   ]
  },
  {
   "cell_type": "code",
   "execution_count": null,
   "metadata": {},
   "outputs": [],
   "source": []
  },
  {
   "cell_type": "code",
   "execution_count": null,
   "metadata": {},
   "outputs": [],
   "source": []
  }
 ],
 "metadata": {
  "kernelspec": {
   "display_name": "Python 3",
   "language": "python",
   "name": "python3"
  },
  "language_info": {
   "codemirror_mode": {
    "name": "ipython",
    "version": 3
   },
   "file_extension": ".py",
   "mimetype": "text/x-python",
   "name": "python",
   "nbconvert_exporter": "python",
   "pygments_lexer": "ipython3",
   "version": "3.6.9"
  }
 },
 "nbformat": 4,
 "nbformat_minor": 2
}
