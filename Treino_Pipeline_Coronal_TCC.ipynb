{
 "cells": [
  {
   "cell_type": "code",
   "execution_count": 1,
   "metadata": {},
   "outputs": [
    {
     "name": "stderr",
     "output_type": "stream",
     "text": [
      "Using TensorFlow backend.\n"
     ]
    },
    {
     "name": "stdout",
     "output_type": "stream",
     "text": [
      "WARNING:tensorflow:From C:\\Users\\Vítor\\Anaconda3\\envs\\TCC\\lib\\site-packages\\keras\\backend\\tensorflow_backend.py:174: The name tf.get_default_session is deprecated. Please use tf.compat.v1.get_default_session instead.\n",
      "\n",
      "WARNING:tensorflow:From C:\\Users\\Vítor\\Anaconda3\\envs\\TCC\\lib\\site-packages\\keras\\backend\\tensorflow_backend.py:181: The name tf.ConfigProto is deprecated. Please use tf.compat.v1.ConfigProto instead.\n",
      "\n",
      "WARNING:tensorflow:From C:\\Users\\Vítor\\Anaconda3\\envs\\TCC\\lib\\site-packages\\keras\\backend\\tensorflow_backend.py:186: The name tf.Session is deprecated. Please use tf.compat.v1.Session instead.\n",
      "\n",
      "WARNING:tensorflow:From C:\\Users\\Vítor\\Anaconda3\\envs\\TCC\\lib\\site-packages\\keras\\backend\\tensorflow_backend.py:190: The name tf.global_variables is deprecated. Please use tf.compat.v1.global_variables instead.\n",
      "\n"
     ]
    }
   ],
   "source": [
    "import os\n",
    "import numpy as np\n",
    "from keras.preprocessing.image import ImageDataGenerator\n",
    "from keras import backend as K\n",
    "\n",
    "K.tensorflow_backend._get_available_gpus()\n",
    "\n",
    "base_dir = r'C:\\Users\\Vítor\\Documents\\TCC\\Banco de Dados\\Imagens_JPG\\Coronal\\BD'\n",
    "\n",
    "train_dir = os.path.join(base_dir, 'train')\n",
    "validation_dir = os.path.join(base_dir, 'validation')\n",
    "test_dir = os.path.join(base_dir, 'test')\n",
    "\n",
    "datagen = ImageDataGenerator(rescale=1./255)\n",
    "batch_size = 20"
   ]
  },
  {
   "cell_type": "code",
   "execution_count": 13,
   "metadata": {},
   "outputs": [],
   "source": [
    "from keras import layers\n",
    "from keras import models\n",
    "#Criando a CNN\n",
    "model = models.Sequential()\n",
    "model.add(layers.Conv2D(64, (3, 3), activation='relu',\n",
    "                        input_shape=(150, 150, 3)))\n",
    "model.add(layers.MaxPooling2D((2, 2)))\n",
    "model.add(layers.Conv2D(128, (3, 3), activation='relu'))\n",
    "model.add(layers.MaxPooling2D((2, 2)))\n",
    "model.add(layers.Conv2D(256, (3, 3), activation='relu'))\n",
    "model.add(layers.MaxPooling2D((2, 2)))\n",
    "model.add(layers.Conv2D(256, (3, 3), activation='relu'))\n",
    "model.add(layers.MaxPooling2D((2, 2)))\n",
    "model.add(layers.Flatten())\n",
    "model.add(layers.Dense(512, activation='relu'))\n",
    "model.add(layers.Dense(1, activation='sigmoid'))"
   ]
  },
  {
   "cell_type": "code",
   "execution_count": 14,
   "metadata": {},
   "outputs": [
    {
     "name": "stdout",
     "output_type": "stream",
     "text": [
      "_________________________________________________________________\n",
      "Layer (type)                 Output Shape              Param #   \n",
      "=================================================================\n",
      "conv2d_9 (Conv2D)            (None, 148, 148, 64)      1792      \n",
      "_________________________________________________________________\n",
      "max_pooling2d_9 (MaxPooling2 (None, 74, 74, 64)        0         \n",
      "_________________________________________________________________\n",
      "conv2d_10 (Conv2D)           (None, 72, 72, 128)       73856     \n",
      "_________________________________________________________________\n",
      "max_pooling2d_10 (MaxPooling (None, 36, 36, 128)       0         \n",
      "_________________________________________________________________\n",
      "conv2d_11 (Conv2D)           (None, 34, 34, 256)       295168    \n",
      "_________________________________________________________________\n",
      "max_pooling2d_11 (MaxPooling (None, 17, 17, 256)       0         \n",
      "_________________________________________________________________\n",
      "conv2d_12 (Conv2D)           (None, 15, 15, 256)       590080    \n",
      "_________________________________________________________________\n",
      "max_pooling2d_12 (MaxPooling (None, 7, 7, 256)         0         \n",
      "_________________________________________________________________\n",
      "flatten_3 (Flatten)          (None, 12544)             0         \n",
      "_________________________________________________________________\n",
      "dense_5 (Dense)              (None, 512)               6423040   \n",
      "_________________________________________________________________\n",
      "dense_6 (Dense)              (None, 1)                 513       \n",
      "=================================================================\n",
      "Total params: 7,384,449\n",
      "Trainable params: 7,384,449\n",
      "Non-trainable params: 0\n",
      "_________________________________________________________________\n"
     ]
    }
   ],
   "source": [
    "model.summary()"
   ]
  },
  {
   "cell_type": "code",
   "execution_count": 15,
   "metadata": {},
   "outputs": [],
   "source": [
    "from keras import optimizers\n",
    "\n",
    "model.compile(loss='binary_crossentropy',\n",
    "              optimizer=optimizers.RMSprop(lr=1e-4),\n",
    "              metrics=['acc'])"
   ]
  },
  {
   "cell_type": "code",
   "execution_count": 16,
   "metadata": {},
   "outputs": [
    {
     "name": "stdout",
     "output_type": "stream",
     "text": [
      "Found 31880 images belonging to 2 classes.\n",
      "Found 13720 images belonging to 2 classes.\n"
     ]
    }
   ],
   "source": [
    "from keras.preprocessing.image import ImageDataGenerator\n",
    "\n",
    "# Todas as imagens em nova scale\n",
    "train_datagen = ImageDataGenerator(rescale=1./255)\n",
    "test_datagen = ImageDataGenerator(rescale=1./255)\n",
    "\n",
    "train_generator = train_datagen.flow_from_directory(\n",
    "        \n",
    "        train_dir,\n",
    "        # Todas as images para novo tamanho de 150x150\n",
    "        target_size=(150, 150),\n",
    "        batch_size=20,\n",
    "        # Como foi usado a perda binary_crossentropy, precisamos de rótulos binários\n",
    "        class_mode='binary')\n",
    "\n",
    "validation_generator = test_datagen.flow_from_directory(\n",
    "        validation_dir,\n",
    "        target_size=(150, 150),\n",
    "        batch_size=20,\n",
    "        class_mode='binary')"
   ]
  },
  {
   "cell_type": "code",
   "execution_count": 17,
   "metadata": {},
   "outputs": [
    {
     "name": "stdout",
     "output_type": "stream",
     "text": [
      "data batch shape: (20, 150, 150, 3)\n",
      "labels batch shape: (20,)\n"
     ]
    }
   ],
   "source": [
    "for data_batch, labels_batch in train_generator:\n",
    "    print('data batch shape:', data_batch.shape)\n",
    "    print('labels batch shape:', labels_batch.shape)\n",
    "    break"
   ]
  },
  {
   "cell_type": "code",
   "execution_count": 18,
   "metadata": {},
   "outputs": [
    {
     "name": "stdout",
     "output_type": "stream",
     "text": [
      "Epoch 1/30\n",
      "100/100 [==============================] - 34s 339ms/step - loss: 0.6769 - acc: 0.5875 - val_loss: 0.6721 - val_acc: 0.5940\n",
      "Epoch 2/30\n",
      "100/100 [==============================] - 31s 313ms/step - loss: 0.6599 - acc: 0.6225 - val_loss: 0.7263 - val_acc: 0.4850\n",
      "Epoch 3/30\n",
      "100/100 [==============================] - 31s 312ms/step - loss: 0.6470 - acc: 0.6155 - val_loss: 0.6893 - val_acc: 0.5560\n",
      "Epoch 4/30\n",
      "100/100 [==============================] - 31s 309ms/step - loss: 0.6171 - acc: 0.6505 - val_loss: 0.7104 - val_acc: 0.5620\n",
      "Epoch 5/30\n",
      "100/100 [==============================] - 31s 309ms/step - loss: 0.5933 - acc: 0.6780 - val_loss: 0.6396 - val_acc: 0.6250\n",
      "Epoch 6/30\n",
      "100/100 [==============================] - 31s 309ms/step - loss: 0.5787 - acc: 0.6935 - val_loss: 0.6595 - val_acc: 0.6310\n",
      "Epoch 7/30\n",
      "100/100 [==============================] - 31s 310ms/step - loss: 0.5527 - acc: 0.7010 - val_loss: 0.6647 - val_acc: 0.6420\n",
      "Epoch 8/30\n",
      "100/100 [==============================] - 31s 309ms/step - loss: 0.5220 - acc: 0.7235 - val_loss: 0.7017 - val_acc: 0.6050\n",
      "Epoch 9/30\n",
      "100/100 [==============================] - 31s 308ms/step - loss: 0.5064 - acc: 0.7350 - val_loss: 0.7109 - val_acc: 0.6070\n",
      "Epoch 10/30\n",
      "100/100 [==============================] - 31s 308ms/step - loss: 0.4767 - acc: 0.7625 - val_loss: 0.7038 - val_acc: 0.5980\n",
      "Epoch 11/30\n",
      "100/100 [==============================] - 31s 308ms/step - loss: 0.4558 - acc: 0.7845 - val_loss: 0.8242 - val_acc: 0.5860\n",
      "Epoch 12/30\n",
      "100/100 [==============================] - 31s 309ms/step - loss: 0.4079 - acc: 0.8030 - val_loss: 1.0185 - val_acc: 0.5900\n",
      "Epoch 13/30\n",
      "100/100 [==============================] - 32s 316ms/step - loss: 0.4028 - acc: 0.7980 - val_loss: 0.9387 - val_acc: 0.5450\n",
      "Epoch 14/30\n",
      "100/100 [==============================] - 31s 311ms/step - loss: 0.4008 - acc: 0.8025 - val_loss: 1.0397 - val_acc: 0.5780\n",
      "Epoch 15/30\n",
      "100/100 [==============================] - 31s 310ms/step - loss: 0.3670 - acc: 0.8245 - val_loss: 0.9791 - val_acc: 0.5430\n",
      "Epoch 16/30\n",
      "100/100 [==============================] - 31s 310ms/step - loss: 0.3710 - acc: 0.8185 - val_loss: 1.0166 - val_acc: 0.5620\n",
      "Epoch 17/30\n",
      "100/100 [==============================] - 31s 310ms/step - loss: 0.3208 - acc: 0.8515 - val_loss: 1.0536 - val_acc: 0.5370\n",
      "Epoch 18/30\n",
      "100/100 [==============================] - 31s 309ms/step - loss: 0.3190 - acc: 0.8465 - val_loss: 1.0582 - val_acc: 0.5040\n",
      "Epoch 19/30\n",
      "100/100 [==============================] - 31s 310ms/step - loss: 0.3109 - acc: 0.8470 - val_loss: 1.0945 - val_acc: 0.5440\n",
      "Epoch 20/30\n",
      "100/100 [==============================] - 31s 311ms/step - loss: 0.2882 - acc: 0.8555 - val_loss: 1.2584 - val_acc: 0.5390\n",
      "Epoch 21/30\n",
      "100/100 [==============================] - 31s 309ms/step - loss: 0.2759 - acc: 0.8640 - val_loss: 1.1493 - val_acc: 0.5010\n",
      "Epoch 22/30\n",
      "100/100 [==============================] - 31s 309ms/step - loss: 0.2805 - acc: 0.8725 - val_loss: 1.3043 - val_acc: 0.5110\n",
      "Epoch 23/30\n",
      "100/100 [==============================] - 31s 311ms/step - loss: 0.2495 - acc: 0.8730 - val_loss: 1.5390 - val_acc: 0.5180\n",
      "Epoch 24/30\n",
      "100/100 [==============================] - 31s 309ms/step - loss: 0.2364 - acc: 0.8825 - val_loss: 1.4406 - val_acc: 0.5570\n",
      "Epoch 25/30\n",
      "100/100 [==============================] - 31s 309ms/step - loss: 0.2463 - acc: 0.8820 - val_loss: 1.4176 - val_acc: 0.5720\n",
      "Epoch 26/30\n",
      "100/100 [==============================] - 31s 310ms/step - loss: 0.2205 - acc: 0.8900 - val_loss: 1.4373 - val_acc: 0.5250\n",
      "Epoch 27/30\n",
      "100/100 [==============================] - 31s 310ms/step - loss: 0.2040 - acc: 0.9030 - val_loss: 1.5729 - val_acc: 0.5540\n",
      "Epoch 28/30\n",
      "100/100 [==============================] - 31s 310ms/step - loss: 0.1997 - acc: 0.9075 - val_loss: 1.5454 - val_acc: 0.5460\n",
      "Epoch 29/30\n",
      "100/100 [==============================] - 31s 313ms/step - loss: 0.1999 - acc: 0.9045 - val_loss: 1.6088 - val_acc: 0.5360\n",
      "Epoch 30/30\n",
      "100/100 [==============================] - 31s 309ms/step - loss: 0.1720 - acc: 0.9260 - val_loss: 1.9649 - val_acc: 0.4880\n"
     ]
    }
   ],
   "source": [
    "history = model.fit_generator(\n",
    "      train_generator,\n",
    "      steps_per_epoch=100,\n",
    "      epochs=30,\n",
    "      validation_data=validation_generator,\n",
    "      validation_steps=50)"
   ]
  },
  {
   "cell_type": "code",
   "execution_count": 19,
   "metadata": {},
   "outputs": [
    {
     "name": "stdout",
     "output_type": "stream",
     "text": [
      "A acurácia da validação é de: 0.48800000101327895\n",
      "A perda da validação é de: 1.9649348890781402\n"
     ]
    },
    {
     "data": {
      "image/png": "[encoded data removed]",
      "text/plain": [
       "<Figure size 432x288 with 1 Axes>"
      ]
     },
     "metadata": {
      "needs_background": "light"
     },
     "output_type": "display_data"
    },
    {
     "data": {
      "image/png": "[encoded data removed]",
      "text/plain": [
       "<Figure size 432x288 with 1 Axes>"
      ]
     },
     "metadata": {
      "needs_background": "light"
     },
     "output_type": "display_data"
    }
   ],
   "source": [
    "import matplotlib.pyplot as plt\n",
    "\n",
    "acc = history.history['acc']\n",
    "val_acc = history.history['val_acc']\n",
    "loss = history.history['loss']\n",
    "val_loss = history.history['val_loss']\n",
    "print('A acurácia da validação é de:', val_acc[29])\n",
    "print('A perda da validação é de:', val_loss[29])\n",
    "epochs = range(len(acc))\n",
    "\n",
    "plt.plot(epochs, acc, 'bo', label='Training acc')\n",
    "plt.plot(epochs, val_acc, 'b', label='Validation acc')\n",
    "plt.title('Training and validation accuracy')\n",
    "plt.legend()\n",
    "\n",
    "plt.figure()\n",
    "\n",
    "plt.plot(epochs, loss, 'bo', label='Training loss')\n",
    "plt.plot(epochs, val_loss, 'b', label='Validation loss')\n",
    "plt.title('Training and validation loss')\n",
    "plt.legend()\n",
    "\n",
    "plt.show()"
   ]
  },
  {
   "cell_type": "code",
   "execution_count": null,
   "metadata": {},
   "outputs": [],
   "source": []
  }
 ],
 "metadata": {
  "kernelspec": {
   "display_name": "Python 3",
   "language": "python",
   "name": "python3"
  },
  "language_info": {
   "codemirror_mode": {
    "name": "ipython",
    "version": 3
   },
   "file_extension": ".py",
   "mimetype": "text/x-python",
   "name": "python",
   "nbconvert_exporter": "python",
   "pygments_lexer": "ipython3",
   "version": "3.6.9"
  }
 },
 "nbformat": 4,
 "nbformat_minor": 2
}
