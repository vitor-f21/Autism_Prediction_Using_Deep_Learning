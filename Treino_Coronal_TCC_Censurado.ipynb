{
 "cells": [
  {
   "cell_type": "code",
   "execution_count": 1,
   "metadata": {},
   "outputs": [
    {
     "name": "stderr",
     "output_type": "stream",
     "text": [
      "Using TensorFlow backend.\n"
     ]
    },
    {
     "name": "stdout",
     "output_type": "stream",
     "text": [
      "WARNING:tensorflow:From C:\\Users\\Vítor\\Anaconda3\\envs\\TCC\\lib\\site-packages\\keras\\backend\\tensorflow_backend.py:174: The name tf.get_default_session is deprecated. Please use tf.compat.v1.get_default_session instead.\n",
      "\n",
      "WARNING:tensorflow:From C:\\Users\\Vítor\\Anaconda3\\envs\\TCC\\lib\\site-packages\\keras\\backend\\tensorflow_backend.py:181: The name tf.ConfigProto is deprecated. Please use tf.compat.v1.ConfigProto instead.\n",
      "\n",
      "WARNING:tensorflow:From C:\\Users\\Vítor\\Anaconda3\\envs\\TCC\\lib\\site-packages\\keras\\backend\\tensorflow_backend.py:186: The name tf.Session is deprecated. Please use tf.compat.v1.Session instead.\n",
      "\n",
      "WARNING:tensorflow:From C:\\Users\\Vítor\\Anaconda3\\envs\\TCC\\lib\\site-packages\\keras\\backend\\tensorflow_backend.py:190: The name tf.global_variables is deprecated. Please use tf.compat.v1.global_variables instead.\n",
      "\n"
     ]
    }
   ],
   "source": [
    "import os\n",
    "import numpy as np\n",
    "from keras.preprocessing.image import ImageDataGenerator\n",
    "from keras import backend as K\n",
    "from glob import glob\n",
    "\n",
    "K.tensorflow_backend._get_available_gpus()\n",
    "\n",
    "base_dir = r'C:\\Users\\Vítor\\Documents\\TCC\\Banco de Dados\\Imagens The Deep censurado\\Coronal'\n",
    "\n",
    "train_dir = os.path.join(base_dir, 'train')\n",
    "validation_dir = os.path.join(base_dir, 'validation')\n",
    "test_dir = os.path.join(base_dir, 'test')\n",
    "\n",
    "\n",
    "datagen = ImageDataGenerator(rescale=1./255)\n",
    "batch_size = 20"
   ]
  },
  {
   "cell_type": "code",
   "execution_count": 2,
   "metadata": {},
   "outputs": [
    {
     "name": "stdout",
     "output_type": "stream",
     "text": [
      "WARNING:tensorflow:From C:\\Users\\Vítor\\Anaconda3\\envs\\TCC\\lib\\site-packages\\keras\\backend\\tensorflow_backend.py:74: The name tf.get_default_graph is deprecated. Please use tf.compat.v1.get_default_graph instead.\n",
      "\n",
      "WARNING:tensorflow:From C:\\Users\\Vítor\\Anaconda3\\envs\\TCC\\lib\\site-packages\\keras\\backend\\tensorflow_backend.py:3976: The name tf.nn.max_pool is deprecated. Please use tf.nn.max_pool2d instead.\n",
      "\n"
     ]
    }
   ],
   "source": [
    "from keras import layers\n",
    "from keras import models\n",
    "from keras.callbacks import ModelCheckpoint,LearningRateScheduler\n",
    "#Criando a CNN\n",
    "model = models.Sequential()\n",
    "model.add(layers.Conv2D(128, (3, 3), activation='relu',\n",
    "                        input_shape=(150, 150, 3)))\n",
    "model.add(layers.MaxPooling2D((2, 2)))\n",
    "model.add(layers.Conv2D(128, (3, 3), activation='relu'))\n",
    "model.add(layers.MaxPooling2D((2, 2)))\n",
    "model.add(layers.Conv2D(256, (3, 3), activation='relu'))\n",
    "model.add(layers.MaxPooling2D((2, 2)))\n",
    "model.add(layers.Conv2D(256, (3, 3), activation='relu'))\n",
    "model.add(layers.MaxPooling2D((2, 2)))\n",
    "model.add(layers.Flatten())\n",
    "model.add(layers.Dense(1024, activation='relu'))\n",
    "model.add(layers.Dense(1, activation='sigmoid'))"
   ]
  },
  {
   "cell_type": "code",
   "execution_count": 3,
   "metadata": {},
   "outputs": [
    {
     "name": "stdout",
     "output_type": "stream",
     "text": [
      "_________________________________________________________________\n",
      "Layer (type)                 Output Shape              Param #   \n",
      "=================================================================\n",
      "conv2d_1 (Conv2D)            (None, 148, 148, 128)     3584      \n",
      "_________________________________________________________________\n",
      "max_pooling2d_1 (MaxPooling2 (None, 74, 74, 128)       0         \n",
      "_________________________________________________________________\n",
      "conv2d_2 (Conv2D)            (None, 72, 72, 128)       147584    \n",
      "_________________________________________________________________\n",
      "max_pooling2d_2 (MaxPooling2 (None, 36, 36, 128)       0         \n",
      "_________________________________________________________________\n",
      "conv2d_3 (Conv2D)            (None, 34, 34, 256)       295168    \n",
      "_________________________________________________________________\n",
      "max_pooling2d_3 (MaxPooling2 (None, 17, 17, 256)       0         \n",
      "_________________________________________________________________\n",
      "conv2d_4 (Conv2D)            (None, 15, 15, 256)       590080    \n",
      "_________________________________________________________________\n",
      "max_pooling2d_4 (MaxPooling2 (None, 7, 7, 256)         0         \n",
      "_________________________________________________________________\n",
      "flatten_1 (Flatten)          (None, 12544)             0         \n",
      "_________________________________________________________________\n",
      "dense_1 (Dense)              (None, 1024)              12846080  \n",
      "_________________________________________________________________\n",
      "dense_2 (Dense)              (None, 1)                 1025      \n",
      "=================================================================\n",
      "Total params: 13,883,521\n",
      "Trainable params: 13,883,521\n",
      "Non-trainable params: 0\n",
      "_________________________________________________________________\n"
     ]
    }
   ],
   "source": [
    "model.summary()"
   ]
  },
  {
   "cell_type": "code",
   "execution_count": 4,
   "metadata": {},
   "outputs": [
    {
     "name": "stdout",
     "output_type": "stream",
     "text": [
      "WARNING:tensorflow:From C:\\Users\\Vítor\\Anaconda3\\envs\\TCC\\lib\\site-packages\\keras\\optimizers.py:790: The name tf.train.Optimizer is deprecated. Please use tf.compat.v1.train.Optimizer instead.\n",
      "\n",
      "WARNING:tensorflow:From C:\\Users\\Vítor\\Anaconda3\\envs\\TCC\\lib\\site-packages\\tensorflow\\python\\ops\\nn_impl.py:180: add_dispatch_support.<locals>.wrapper (from tensorflow.python.ops.array_ops) is deprecated and will be removed in a future version.\n",
      "Instructions for updating:\n",
      "Use tf.where in 2.0, which has the same broadcast rule as np.where\n"
     ]
    }
   ],
   "source": [
    "from keras import optimizers\n",
    "\n",
    "# SGD (Descida do Gradiente Estocástico) - Otimizador \n",
    "momentum = 0.5\n",
    "sgd = optimizers.SGD(lr=0.01, momentum=momentum, decay=0.0, nesterov=False) \n",
    "\n",
    "model.compile(loss='binary_crossentropy',\n",
    "              optimizer='sgd',\n",
    "              metrics=['acc'])"
   ]
  },
  {
   "cell_type": "code",
   "execution_count": 5,
   "metadata": {},
   "outputs": [
    {
     "name": "stdout",
     "output_type": "stream",
     "text": [
      "Found 6716 images belonging to 2 classes.\n",
      "Found 1439 images belonging to 2 classes.\n",
      "Found 1440 images belonging to 2 classes.\n"
     ]
    }
   ],
   "source": [
    "from keras.preprocessing.image import ImageDataGenerator\n",
    "\n",
    "\n",
    "# Todas as imagens em nova scale\n",
    "gen = ImageDataGenerator(rescale=1./255,  width_shift_range=0.2,  \n",
    "    height_shift_range=0.2,\n",
    "    horizontal_flip=True)\n",
    "\n",
    "\n",
    "train_generator = gen.flow_from_directory(\n",
    "        \n",
    "        train_dir,\n",
    "        # Todas as images para novo tamanho de 150x150\n",
    "        target_size=(150, 150),\n",
    "        batch_size=20,\n",
    "        shuffle=True,\n",
    "        # Como foi usado a perda binary_crossentropy, precisamos de rótulos binários\n",
    "        class_mode='binary')\n",
    "\n",
    "validation_generator = gen.flow_from_directory(\n",
    "        validation_dir,\n",
    "        target_size=(150, 150),\n",
    "        batch_size=20,\n",
    "        shuffle=True,\n",
    "        class_mode='binary')\n",
    "\n",
    "test_generator = gen.flow_from_directory(\n",
    "        test_dir,\n",
    "        target_size=(150, 150),\n",
    "        batch_size=20,\n",
    "        shuffle=True,\n",
    "        class_mode='binary')"
   ]
  },
  {
   "cell_type": "code",
   "execution_count": 6,
   "metadata": {},
   "outputs": [
    {
     "name": "stdout",
     "output_type": "stream",
     "text": [
      "data batch shape: (20, 150, 150, 3)\n",
      "labels batch shape: (20,)\n"
     ]
    }
   ],
   "source": [
    "for data_batch, labels_batch in train_generator:\n",
    "    print('data batch shape:', data_batch.shape)\n",
    "    print('labels batch shape:', labels_batch.shape)\n",
    "    break"
   ]
  },
  {
   "cell_type": "code",
   "execution_count": 7,
   "metadata": {},
   "outputs": [],
   "source": [
    "import math\n",
    "def step_decay(epoch):\n",
    "    \n",
    "    \n",
    "    initial_lrate=0.1\n",
    "    drop=0.6\n",
    "    epochs_drop = 3.0\n",
    "    lrate= initial_lrate * math.pow(drop,  \n",
    "           math.floor((1+epoch)/epochs_drop))\n",
    "    return lrate\n",
    "   \n",
    "\n",
    "lrate = LearningRateScheduler(step_decay)\n",
    "callbacks_list = [ lrate]"
   ]
  },
  {
   "cell_type": "code",
   "execution_count": 8,
   "metadata": {},
   "outputs": [
    {
     "name": "stdout",
     "output_type": "stream",
     "text": [
      "Epoch 1/30\n",
      "100/100 [==============================] - 61s 608ms/step - loss: 0.6880 - acc: 0.5610 - val_loss: 0.6821 - val_acc: 0.5760\n",
      "Epoch 2/30\n",
      "100/100 [==============================] - 46s 458ms/step - loss: 0.6815 - acc: 0.5820 - val_loss: 0.6804 - val_acc: 0.5856\n",
      "Epoch 3/30\n",
      "100/100 [==============================] - 47s 470ms/step - loss: 0.6754 - acc: 0.5955 - val_loss: 0.6835 - val_acc: 0.5736\n",
      "Epoch 4/30\n",
      "100/100 [==============================] - 44s 436ms/step - loss: 0.6832 - acc: 0.5648 - val_loss: 0.6772 - val_acc: 0.5900\n",
      "Epoch 5/30\n",
      "100/100 [==============================] - 42s 421ms/step - loss: 0.6793 - acc: 0.5755 - val_loss: 0.6816 - val_acc: 0.5766\n",
      "Epoch 6/30\n",
      "100/100 [==============================] - 42s 424ms/step - loss: 0.6787 - acc: 0.5755 - val_loss: 0.6865 - val_acc: 0.5756\n",
      "Epoch 7/30\n",
      "100/100 [==============================] - 42s 422ms/step - loss: 0.6690 - acc: 0.6005 - val_loss: 0.6849 - val_acc: 0.5790\n",
      "Epoch 8/30\n",
      "100/100 [==============================] - 42s 421ms/step - loss: 0.6764 - acc: 0.5615 - val_loss: 0.6834 - val_acc: 0.5886\n",
      "Epoch 9/30\n",
      "100/100 [==============================] - 42s 420ms/step - loss: 0.6759 - acc: 0.5625 - val_loss: 0.6939 - val_acc: 0.5536\n",
      "Epoch 10/30\n",
      "100/100 [==============================] - 42s 423ms/step - loss: 0.6565 - acc: 0.5930 - val_loss: 0.6888 - val_acc: 0.5850\n",
      "Epoch 11/30\n",
      "100/100 [==============================] - 42s 421ms/step - loss: 0.6560 - acc: 0.5862 - val_loss: 0.6985 - val_acc: 0.5475\n",
      "Epoch 12/30\n",
      "100/100 [==============================] - 42s 423ms/step - loss: 0.6629 - acc: 0.5830 - val_loss: 0.7049 - val_acc: 0.4304\n",
      "Epoch 13/30\n",
      "100/100 [==============================] - 42s 423ms/step - loss: 0.6554 - acc: 0.5815 - val_loss: 0.7000 - val_acc: 0.5195\n",
      "Epoch 14/30\n",
      "100/100 [==============================] - 42s 420ms/step - loss: 0.6571 - acc: 0.5829 - val_loss: 0.7192 - val_acc: 0.5550\n",
      "Epoch 15/30\n",
      "100/100 [==============================] - 42s 422ms/step - loss: 0.6512 - acc: 0.5965 - val_loss: 0.7128 - val_acc: 0.5385\n",
      "Epoch 16/30\n",
      "100/100 [==============================] - 42s 423ms/step - loss: 0.6532 - acc: 0.5925 - val_loss: 0.7286 - val_acc: 0.5626\n",
      "Epoch 17/30\n",
      "100/100 [==============================] - 42s 423ms/step - loss: 0.6537 - acc: 0.5859 - val_loss: 0.7206 - val_acc: 0.5260\n",
      "Epoch 18/30\n",
      "100/100 [==============================] - 42s 422ms/step - loss: 0.6501 - acc: 0.6020 - val_loss: 0.6990 - val_acc: 0.5465\n",
      "Epoch 19/30\n",
      "100/100 [==============================] - 42s 422ms/step - loss: 0.6439 - acc: 0.5950 - val_loss: 0.7249 - val_acc: 0.4575\n",
      "Epoch 20/30\n",
      "100/100 [==============================] - 42s 423ms/step - loss: 0.6402 - acc: 0.6070 - val_loss: 0.7246 - val_acc: 0.5100\n",
      "Epoch 21/30\n",
      "100/100 [==============================] - 42s 423ms/step - loss: 0.6519 - acc: 0.6116 - val_loss: 0.7223 - val_acc: 0.5155\n",
      "Epoch 22/30\n",
      "100/100 [==============================] - 42s 420ms/step - loss: 0.6346 - acc: 0.6155 - val_loss: 0.7247 - val_acc: 0.5095\n",
      "Epoch 23/30\n",
      "100/100 [==============================] - 42s 425ms/step - loss: 0.6451 - acc: 0.6125 - val_loss: 0.7182 - val_acc: 0.4940\n",
      "Epoch 24/30\n",
      "100/100 [==============================] - 43s 429ms/step - loss: 0.6399 - acc: 0.5995 - val_loss: 0.7394 - val_acc: 0.4304\n",
      "Epoch 25/30\n",
      "100/100 [==============================] - 42s 421ms/step - loss: 0.6542 - acc: 0.5905 - val_loss: 0.7195 - val_acc: 0.4505\n",
      "Epoch 26/30\n",
      "100/100 [==============================] - 42s 422ms/step - loss: 0.6491 - acc: 0.5980 - val_loss: 0.7127 - val_acc: 0.5025\n",
      "Epoch 27/30\n",
      "100/100 [==============================] - 42s 420ms/step - loss: 0.6431 - acc: 0.6011 - val_loss: 0.7184 - val_acc: 0.5080\n",
      "Epoch 28/30\n",
      "100/100 [==============================] - 42s 422ms/step - loss: 0.6393 - acc: 0.6045 - val_loss: 0.7317 - val_acc: 0.5105\n",
      "Epoch 29/30\n",
      "100/100 [==============================] - 42s 421ms/step - loss: 0.6424 - acc: 0.6050 - val_loss: 0.7267 - val_acc: 0.5225\n",
      "Epoch 30/30\n",
      "100/100 [==============================] - 42s 422ms/step - loss: 0.6491 - acc: 0.5960 - val_loss: 0.7255 - val_acc: 0.4780\n"
     ]
    }
   ],
   "source": [
    "history = model.fit_generator(\n",
    "      train_generator,\n",
    "      steps_per_epoch=100,\n",
    "      epochs=30,\n",
    "      callbacks=callbacks_list,\n",
    "      validation_data=validation_generator,\n",
    "      validation_steps=50)\n",
    "\n",
    "\n"
   ]
  },
  {
   "cell_type": "code",
   "execution_count": 9,
   "metadata": {},
   "outputs": [
    {
     "name": "stdout",
     "output_type": "stream",
     "text": [
      "Found 1440 images belonging to 2 classes.\n",
      "{'autista': 0, 'controle': 1}\n"
     ]
    }
   ],
   "source": [
    "test_gen = gen.flow_from_directory(test_dir, target_size=(150,150))\n",
    "print(test_gen.class_indices)"
   ]
  },
  {
   "cell_type": "code",
   "execution_count": 10,
   "metadata": {},
   "outputs": [
    {
     "name": "stdout",
     "output_type": "stream",
     "text": [
      "Generating confusion matrix 6716\n",
      "Found 6716 images belonging to 2 classes.\n",
      "[[3888    0]\n",
      " [2828    0]]\n",
      "Generating confusion matrix 1439\n",
      "Found 1439 images belonging to 2 classes.\n",
      "[[833   0]\n",
      " [606   0]]\n"
     ]
    }
   ],
   "source": [
    "from sklearn.metrics import confusion_matrix\n",
    "def get_confusion_matrix(data_path, N):\n",
    "    print(\"Generating confusion matrix\", N)\n",
    "    predictions = []\n",
    "    targets = []\n",
    "    i = 0\n",
    "    for x, y in gen.flow_from_directory(data_path, target_size=(150,150), shuffle=False, batch_size=80):\n",
    "        i += 1\n",
    "        if i % 500 == 0:\n",
    "            print(i)\n",
    "        p = model.predict(x)\n",
    "        p = np.argmax(p, axis=1)\n",
    "        y = np.argmax(y, axis=1)\n",
    "        predictions = np.concatenate((predictions, p))\n",
    "        targets = np.concatenate((targets, y))\n",
    "        if len(targets) >= N:\n",
    "            break\n",
    "    cm = confusion_matrix(targets, predictions)\n",
    "    return cm\n",
    "\n",
    "\n",
    "cm = get_confusion_matrix(train_dir, 6716)\n",
    "print(cm)\n",
    "valid_cm = get_confusion_matrix(validation_dir, 1439)\n",
    "print(valid_cm)"
   ]
  },
  {
   "cell_type": "code",
   "execution_count": 11,
   "metadata": {
    "scrolled": true
   },
   "outputs": [],
   "source": [
    "import matplotlib.pyplot as plt\n",
    "\n",
    "accTR = history.history['acc']\n",
    "val_acc = history.history['val_acc']\n",
    "lossTR = history.history['loss']\n",
    "val_loss = history.history['val_loss']\n",
    "epochs = range(len(accTR))"
   ]
  },
  {
   "cell_type": "code",
   "execution_count": 12,
   "metadata": {
    "scrolled": true
   },
   "outputs": [
    {
     "name": "stdout",
     "output_type": "stream",
     "text": [
      "Epoch 1/30\n",
      "100/100 [==============================] - 37s 371ms/step - loss: 0.6614 - acc: 0.6015\n",
      "Epoch 2/30\n",
      "100/100 [==============================] - 36s 359ms/step - loss: 0.6067 - acc: 0.6580\n",
      "Epoch 3/30\n",
      "100/100 [==============================] - 36s 359ms/step - loss: 0.5268 - acc: 0.7240\n",
      "Epoch 4/30\n",
      "100/100 [==============================] - 36s 358ms/step - loss: 0.5125 - acc: 0.7130\n",
      "Epoch 5/30\n",
      "100/100 [==============================] - 36s 359ms/step - loss: 0.4780 - acc: 0.7365\n",
      "Epoch 6/30\n",
      "100/100 [==============================] - 36s 358ms/step - loss: 0.4522 - acc: 0.7480\n",
      "Epoch 7/30\n",
      "100/100 [==============================] - 36s 360ms/step - loss: 0.4350 - acc: 0.7650\n",
      "Epoch 8/30\n",
      "100/100 [==============================] - 36s 362ms/step - loss: 0.4160 - acc: 0.7715\n",
      "Epoch 9/30\n",
      "100/100 [==============================] - 36s 365ms/step - loss: 0.4037 - acc: 0.7755\n",
      "Epoch 10/30\n",
      "100/100 [==============================] - 36s 359ms/step - loss: 0.3879 - acc: 0.7960\n",
      "Epoch 11/30\n",
      "100/100 [==============================] - 36s 362ms/step - loss: 0.3766 - acc: 0.8075\n",
      "Epoch 12/30\n",
      "100/100 [==============================] - 36s 359ms/step - loss: 0.3535 - acc: 0.8200\n",
      "Epoch 13/30\n",
      "100/100 [==============================] - 36s 359ms/step - loss: 0.3426 - acc: 0.8305\n",
      "Epoch 14/30\n",
      "100/100 [==============================] - 36s 358ms/step - loss: 0.3297 - acc: 0.8480\n",
      "Epoch 15/30\n",
      "100/100 [==============================] - 36s 360ms/step - loss: 0.3187 - acc: 0.8445\n",
      "Epoch 16/30\n",
      "100/100 [==============================] - 36s 360ms/step - loss: 0.3238 - acc: 0.8375\n",
      "Epoch 17/30\n",
      "100/100 [==============================] - 36s 360ms/step - loss: 0.3140 - acc: 0.8455\n",
      "Epoch 18/30\n",
      "100/100 [==============================] - 36s 359ms/step - loss: 0.2969 - acc: 0.8535\n",
      "Epoch 19/30\n",
      "100/100 [==============================] - 36s 360ms/step - loss: 0.3020 - acc: 0.8620\n",
      "Epoch 20/30\n",
      "100/100 [==============================] - 36s 360ms/step - loss: 0.3006 - acc: 0.8625\n",
      "Epoch 21/30\n",
      "100/100 [==============================] - 36s 359ms/step - loss: 0.2858 - acc: 0.8680\n",
      "Epoch 22/30\n",
      "100/100 [==============================] - 36s 360ms/step - loss: 0.2790 - acc: 0.8675\n",
      "Epoch 23/30\n",
      "100/100 [==============================] - 36s 359ms/step - loss: 0.2747 - acc: 0.8745\n",
      "Epoch 24/30\n",
      "100/100 [==============================] - 36s 359ms/step - loss: 0.2756 - acc: 0.8725\n",
      "Epoch 25/30\n",
      "100/100 [==============================] - 36s 359ms/step - loss: 0.2734 - acc: 0.8700\n",
      "Epoch 26/30\n",
      "100/100 [==============================] - 36s 360ms/step - loss: 0.2592 - acc: 0.8855\n",
      "Epoch 27/30\n",
      "100/100 [==============================] - 36s 359ms/step - loss: 0.2621 - acc: 0.8825\n",
      "Epoch 28/30\n",
      "100/100 [==============================] - 36s 359ms/step - loss: 0.2679 - acc: 0.8795\n",
      "Epoch 29/30\n",
      "100/100 [==============================] - 36s 360ms/step - loss: 0.2558 - acc: 0.8825\n",
      "Epoch 30/30\n",
      "100/100 [==============================] - 36s 361ms/step - loss: 0.2571 - acc: 0.8875\n"
     ]
    }
   ],
   "source": [
    "history = model.fit_generator(\n",
    "      test_generator,\n",
    "      steps_per_epoch=100,\n",
    "      epochs=30,\n",
    "      callbacks=callbacks_list)"
   ]
  },
  {
   "cell_type": "code",
   "execution_count": 13,
   "metadata": {},
   "outputs": [
    {
     "name": "stdout",
     "output_type": "stream",
     "text": [
      "Generating confusion matrix 6716\n",
      "Found 6716 images belonging to 2 classes.\n",
      "[[3888    0]\n",
      " [2828    0]]\n",
      "Generating confusion matrix 1439\n",
      "Found 1439 images belonging to 2 classes.\n",
      "[[833   0]\n",
      " [606   0]]\n",
      "Generating confusion matrix 1440\n",
      "Found 1440 images belonging to 2 classes.\n",
      "[[834   0]\n",
      " [606   0]]\n"
     ]
    }
   ],
   "source": [
    "cm = get_confusion_matrix(train_dir, 6716)\n",
    "print(cm)\n",
    "valid_cm = get_confusion_matrix(validation_dir, 1439)\n",
    "print(valid_cm)\n",
    "test_cm=get_confusion_matrix(test_dir,1440)\n",
    "print(test_cm)"
   ]
  },
  {
   "cell_type": "code",
   "execution_count": 14,
   "metadata": {},
   "outputs": [
    {
     "name": "stdout",
     "output_type": "stream",
     "text": [
      "A acurácia do teste é de: 0.8874999964237213\n",
      "A perda do teste é de: 0.25709859680384395\n",
      "A acurácia da validação é de: 0.4780000054836273\n",
      "A perda da validação é de: 0.7255439150333405\n"
     ]
    },
    {
     "data": {
      "image/png": "[encoded data removed]",
      "text/plain": [
       "<Figure size 432x288 with 1 Axes>"
      ]
     },
     "metadata": {
      "needs_background": "light"
     },
     "output_type": "display_data"
    },
    {
     "data": {
      "image/png": "[encoded data removed]",
      "text/plain": [
       "<Figure size 432x288 with 1 Axes>"
      ]
     },
     "metadata": {
      "needs_background": "light"
     },
     "output_type": "display_data"
    }
   ],
   "source": [
    "import matplotlib.pyplot as plt\n",
    "\n",
    "accTe = history.history['acc']\n",
    "lossTe = history.history['loss']\n",
    "print('A acurácia do teste é de:', accTe[29])\n",
    "print('A perda do teste é de:', lossTe[29])\n",
    "print('A acurácia da validação é de:', val_acc[29])\n",
    "print('A perda da validação é de:', val_loss[29])\n",
    "epochs = range(len(accTe))\n",
    "\n",
    "plt.plot(epochs, accTR, 'bo', label='Training acc')\n",
    "plt.plot(epochs, val_acc, 'b', label='Validation acc')\n",
    "plt.plot(epochs, accTe, 'r', label='Test acc')\n",
    "plt.title('Training, test and validation accuracy')\n",
    "plt.legend()\n",
    "\n",
    "plt.figure()\n",
    "\n",
    "plt.plot(epochs, lossTR, 'bo', label='Training loss')\n",
    "plt.plot(epochs, val_loss, 'b', label='Validation loss')\n",
    "plt.plot(epochs, lossTe, 'r', label='Test loss')\n",
    "plt.title('Training, test and validation loss')\n",
    "plt.legend()\n",
    "\n",
    "plt.show()"
   ]
  },
  {
   "cell_type": "code",
   "execution_count": null,
   "metadata": {},
   "outputs": [],
   "source": []
  }
 ],
 "metadata": {
  "kernelspec": {
   "display_name": "Python 3",
   "language": "python",
   "name": "python3"
  },
  "language_info": {
   "codemirror_mode": {
    "name": "ipython",
    "version": 3
   },
   "file_extension": ".py",
   "mimetype": "text/x-python",
   "name": "python",
   "nbconvert_exporter": "python",
   "pygments_lexer": "ipython3",
   "version": "3.6.9"
  }
 },
 "nbformat": 4,
 "nbformat_minor": 2
}
