{
 "cells": [
  {
   "cell_type": "code",
   "execution_count": 1,
   "metadata": {},
   "outputs": [
    {
     "name": "stderr",
     "output_type": "stream",
     "text": [
      "Using TensorFlow backend.\n"
     ]
    },
    {
     "name": "stdout",
     "output_type": "stream",
     "text": [
      "WARNING:tensorflow:From C:\\Users\\Vítor\\Anaconda3\\envs\\TCC\\lib\\site-packages\\keras\\backend\\tensorflow_backend.py:174: The name tf.get_default_session is deprecated. Please use tf.compat.v1.get_default_session instead.\n",
      "\n",
      "WARNING:tensorflow:From C:\\Users\\Vítor\\Anaconda3\\envs\\TCC\\lib\\site-packages\\keras\\backend\\tensorflow_backend.py:181: The name tf.ConfigProto is deprecated. Please use tf.compat.v1.ConfigProto instead.\n",
      "\n",
      "WARNING:tensorflow:From C:\\Users\\Vítor\\Anaconda3\\envs\\TCC\\lib\\site-packages\\keras\\backend\\tensorflow_backend.py:186: The name tf.Session is deprecated. Please use tf.compat.v1.Session instead.\n",
      "\n",
      "WARNING:tensorflow:From C:\\Users\\Vítor\\Anaconda3\\envs\\TCC\\lib\\site-packages\\keras\\backend\\tensorflow_backend.py:190: The name tf.global_variables is deprecated. Please use tf.compat.v1.global_variables instead.\n",
      "\n"
     ]
    }
   ],
   "source": [
    "import os\n",
    "import numpy as np\n",
    "from keras.preprocessing.image import ImageDataGenerator\n",
    "from keras import backend as K\n",
    "from glob import glob\n",
    "\n",
    "K.tensorflow_backend._get_available_gpus()\n",
    "\n",
    "base_dir = r'C:\\Users\\Vítor\\Documents\\TCC\\Banco de Dados\\Imagens The Deep censurado\\Axial'\n",
    "\n",
    "train_dir = os.path.join(base_dir, 'train')\n",
    "validation_dir = os.path.join(base_dir, 'validation')\n",
    "test_dir = os.path.join(base_dir, 'test')\n",
    "\n",
    "\n",
    "datagen = ImageDataGenerator(rescale=1./255)\n",
    "batch_size = 20"
   ]
  },
  {
   "cell_type": "code",
   "execution_count": 2,
   "metadata": {},
   "outputs": [
    {
     "name": "stdout",
     "output_type": "stream",
     "text": [
      "WARNING:tensorflow:From C:\\Users\\Vítor\\Anaconda3\\envs\\TCC\\lib\\site-packages\\keras\\backend\\tensorflow_backend.py:74: The name tf.get_default_graph is deprecated. Please use tf.compat.v1.get_default_graph instead.\n",
      "\n",
      "WARNING:tensorflow:From C:\\Users\\Vítor\\Anaconda3\\envs\\TCC\\lib\\site-packages\\keras\\backend\\tensorflow_backend.py:3976: The name tf.nn.max_pool is deprecated. Please use tf.nn.max_pool2d instead.\n",
      "\n"
     ]
    }
   ],
   "source": [
    "from keras import layers\n",
    "from keras import models\n",
    "from keras.callbacks import ModelCheckpoint,LearningRateScheduler\n",
    "#Criando a CNN\n",
    "model = models.Sequential()\n",
    "model.add(layers.Conv2D(128, (3, 3), activation='relu',\n",
    "                        input_shape=(150, 150, 3)))\n",
    "model.add(layers.MaxPooling2D((2, 2)))\n",
    "model.add(layers.Conv2D(128, (3, 3), activation='relu'))\n",
    "model.add(layers.MaxPooling2D((2, 2)))\n",
    "model.add(layers.Conv2D(256, (3, 3), activation='relu'))\n",
    "model.add(layers.MaxPooling2D((2, 2)))\n",
    "model.add(layers.Conv2D(256, (3, 3), activation='relu'))\n",
    "model.add(layers.MaxPooling2D((2, 2)))\n",
    "model.add(layers.Flatten())\n",
    "model.add(layers.Dense(1024, activation='relu'))\n",
    "model.add(layers.Dense(1, activation='sigmoid'))"
   ]
  },
  {
   "cell_type": "code",
   "execution_count": 3,
   "metadata": {},
   "outputs": [
    {
     "name": "stdout",
     "output_type": "stream",
     "text": [
      "_________________________________________________________________\n",
      "Layer (type)                 Output Shape              Param #   \n",
      "=================================================================\n",
      "conv2d_1 (Conv2D)            (None, 148, 148, 128)     3584      \n",
      "_________________________________________________________________\n",
      "max_pooling2d_1 (MaxPooling2 (None, 74, 74, 128)       0         \n",
      "_________________________________________________________________\n",
      "conv2d_2 (Conv2D)            (None, 72, 72, 128)       147584    \n",
      "_________________________________________________________________\n",
      "max_pooling2d_2 (MaxPooling2 (None, 36, 36, 128)       0         \n",
      "_________________________________________________________________\n",
      "conv2d_3 (Conv2D)            (None, 34, 34, 256)       295168    \n",
      "_________________________________________________________________\n",
      "max_pooling2d_3 (MaxPooling2 (None, 17, 17, 256)       0         \n",
      "_________________________________________________________________\n",
      "conv2d_4 (Conv2D)            (None, 15, 15, 256)       590080    \n",
      "_________________________________________________________________\n",
      "max_pooling2d_4 (MaxPooling2 (None, 7, 7, 256)         0         \n",
      "_________________________________________________________________\n",
      "flatten_1 (Flatten)          (None, 12544)             0         \n",
      "_________________________________________________________________\n",
      "dense_1 (Dense)              (None, 1024)              12846080  \n",
      "_________________________________________________________________\n",
      "dense_2 (Dense)              (None, 1)                 1025      \n",
      "=================================================================\n",
      "Total params: 13,883,521\n",
      "Trainable params: 13,883,521\n",
      "Non-trainable params: 0\n",
      "_________________________________________________________________\n"
     ]
    }
   ],
   "source": [
    "model.summary()"
   ]
  },
  {
   "cell_type": "code",
   "execution_count": 4,
   "metadata": {},
   "outputs": [
    {
     "name": "stdout",
     "output_type": "stream",
     "text": [
      "WARNING:tensorflow:From C:\\Users\\Vítor\\Anaconda3\\envs\\TCC\\lib\\site-packages\\keras\\optimizers.py:790: The name tf.train.Optimizer is deprecated. Please use tf.compat.v1.train.Optimizer instead.\n",
      "\n",
      "WARNING:tensorflow:From C:\\Users\\Vítor\\Anaconda3\\envs\\TCC\\lib\\site-packages\\tensorflow\\python\\ops\\nn_impl.py:180: add_dispatch_support.<locals>.wrapper (from tensorflow.python.ops.array_ops) is deprecated and will be removed in a future version.\n",
      "Instructions for updating:\n",
      "Use tf.where in 2.0, which has the same broadcast rule as np.where\n"
     ]
    }
   ],
   "source": [
    "from keras import optimizers\n",
    "\n",
    "# SGD (Descida do Gradiente Estocástico) - Otimizador \n",
    "momentum = 0.5\n",
    "sgd = optimizers.SGD(lr=0.01, momentum=momentum, decay=0.0, nesterov=False) \n",
    "\n",
    "model.compile(loss='binary_crossentropy',\n",
    "              optimizer='sgd',\n",
    "              metrics=['acc'])"
   ]
  },
  {
   "cell_type": "code",
   "execution_count": 5,
   "metadata": {},
   "outputs": [
    {
     "name": "stdout",
     "output_type": "stream",
     "text": [
      "Found 6716 images belonging to 2 classes.\n",
      "Found 1439 images belonging to 2 classes.\n",
      "Found 1440 images belonging to 2 classes.\n"
     ]
    }
   ],
   "source": [
    "from keras.preprocessing.image import ImageDataGenerator\n",
    "\n",
    "\n",
    "# Todas as imagens em nova scale\n",
    "gen = ImageDataGenerator(rescale=1./255,  width_shift_range=0.2,  \n",
    "    height_shift_range=0.2,\n",
    "    horizontal_flip=True)\n",
    "\n",
    "\n",
    "train_generator = gen.flow_from_directory(\n",
    "        \n",
    "        train_dir,\n",
    "        # Todas as images para novo tamanho de 150x150\n",
    "        target_size=(150, 150),\n",
    "        batch_size=20,\n",
    "        shuffle=True,\n",
    "        # Como foi usado a perda binary_crossentropy, precisamos de rótulos binários\n",
    "        class_mode='binary')\n",
    "\n",
    "validation_generator = gen.flow_from_directory(\n",
    "        validation_dir,\n",
    "        target_size=(150, 150),\n",
    "        batch_size=20,\n",
    "        shuffle=True,\n",
    "        class_mode='binary')\n",
    "\n",
    "test_generator = gen.flow_from_directory(\n",
    "        test_dir,\n",
    "        target_size=(150, 150),\n",
    "        batch_size=20,\n",
    "        shuffle=True,\n",
    "        class_mode='binary')"
   ]
  },
  {
   "cell_type": "code",
   "execution_count": 6,
   "metadata": {},
   "outputs": [
    {
     "name": "stdout",
     "output_type": "stream",
     "text": [
      "data batch shape: (20, 150, 150, 3)\n",
      "labels batch shape: (20,)\n"
     ]
    }
   ],
   "source": [
    "for data_batch, labels_batch in train_generator:\n",
    "    print('data batch shape:', data_batch.shape)\n",
    "    print('labels batch shape:', labels_batch.shape)\n",
    "    break"
   ]
  },
  {
   "cell_type": "code",
   "execution_count": 7,
   "metadata": {},
   "outputs": [],
   "source": [
    "import math\n",
    "def step_decay(epoch):\n",
    "    \n",
    "    \n",
    "    initial_lrate=0.1\n",
    "    drop=0.6\n",
    "    epochs_drop = 3.0\n",
    "    lrate= initial_lrate * math.pow(drop,  \n",
    "           math.floor((1+epoch)/epochs_drop))\n",
    "    return lrate\n",
    "   \n",
    "\n",
    "lrate = LearningRateScheduler(step_decay)\n",
    "callbacks_list = [ lrate]"
   ]
  },
  {
   "cell_type": "code",
   "execution_count": 8,
   "metadata": {},
   "outputs": [
    {
     "name": "stdout",
     "output_type": "stream",
     "text": [
      "Epoch 1/30\n",
      "100/100 [==============================] - 81s 809ms/step - loss: 0.6792 - acc: 0.5920 - val_loss: 0.6834 - val_acc: 0.5870\n",
      "Epoch 2/30\n",
      "100/100 [==============================] - 67s 666ms/step - loss: 0.6839 - acc: 0.5675 - val_loss: 0.6872 - val_acc: 0.5616\n",
      "Epoch 3/30\n",
      "100/100 [==============================] - 57s 572ms/step - loss: 0.6777 - acc: 0.5775 - val_loss: 0.6998 - val_acc: 0.4334\n",
      "Epoch 4/30\n",
      "100/100 [==============================] - 45s 448ms/step - loss: 0.6714 - acc: 0.5968 - val_loss: 0.6865 - val_acc: 0.5850\n",
      "Epoch 5/30\n",
      "100/100 [==============================] - 43s 426ms/step - loss: 0.6721 - acc: 0.5835 - val_loss: 0.6900 - val_acc: 0.5145\n",
      "Epoch 6/30\n",
      "100/100 [==============================] - 43s 427ms/step - loss: 0.6624 - acc: 0.5925 - val_loss: 0.7260 - val_acc: 0.4655\n",
      "Epoch 7/30\n",
      "100/100 [==============================] - 42s 422ms/step - loss: 0.6609 - acc: 0.5935 - val_loss: 0.7153 - val_acc: 0.4480\n",
      "Epoch 8/30\n",
      "100/100 [==============================] - 42s 422ms/step - loss: 0.6486 - acc: 0.6235 - val_loss: 0.7088 - val_acc: 0.5215\n",
      "Epoch 9/30\n",
      "100/100 [==============================] - 42s 421ms/step - loss: 0.6468 - acc: 0.6170 - val_loss: 0.7187 - val_acc: 0.4555\n",
      "Epoch 10/30\n",
      "100/100 [==============================] - 42s 420ms/step - loss: 0.6414 - acc: 0.6175 - val_loss: 0.7052 - val_acc: 0.4750\n",
      "Epoch 11/30\n",
      "100/100 [==============================] - 42s 422ms/step - loss: 0.6427 - acc: 0.6132 - val_loss: 0.7194 - val_acc: 0.4444\n",
      "Epoch 12/30\n",
      "100/100 [==============================] - 43s 433ms/step - loss: 0.6515 - acc: 0.6075 - val_loss: 0.7122 - val_acc: 0.4444\n",
      "Epoch 13/30\n",
      "100/100 [==============================] - 42s 423ms/step - loss: 0.6303 - acc: 0.6440 - val_loss: 0.7189 - val_acc: 0.4595\n",
      "Epoch 14/30\n",
      "100/100 [==============================] - 42s 422ms/step - loss: 0.6355 - acc: 0.6376 - val_loss: 0.7427 - val_acc: 0.4770\n",
      "Epoch 15/30\n",
      "100/100 [==============================] - 42s 423ms/step - loss: 0.6306 - acc: 0.6345 - val_loss: 0.7273 - val_acc: 0.4535\n",
      "Epoch 16/30\n",
      "100/100 [==============================] - 42s 421ms/step - loss: 0.6270 - acc: 0.6445 - val_loss: 0.7298 - val_acc: 0.4595\n",
      "Epoch 17/30\n",
      "100/100 [==============================] - 43s 427ms/step - loss: 0.6383 - acc: 0.6222 - val_loss: 0.7085 - val_acc: 0.5010\n",
      "Epoch 18/30\n",
      "100/100 [==============================] - 42s 416ms/step - loss: 0.6316 - acc: 0.6395 - val_loss: 0.7265 - val_acc: 0.4715\n",
      "Epoch 19/30\n",
      "100/100 [==============================] - 42s 424ms/step - loss: 0.6269 - acc: 0.6440 - val_loss: 0.7223 - val_acc: 0.4615\n",
      "Epoch 20/30\n",
      "100/100 [==============================] - 43s 426ms/step - loss: 0.6309 - acc: 0.6260 - val_loss: 0.7281 - val_acc: 0.4510\n",
      "Epoch 21/30\n",
      "100/100 [==============================] - 42s 422ms/step - loss: 0.6372 - acc: 0.6175 - val_loss: 0.7212 - val_acc: 0.4414\n",
      "Epoch 22/30\n",
      "100/100 [==============================] - 42s 424ms/step - loss: 0.6193 - acc: 0.6500 - val_loss: 0.7212 - val_acc: 0.4505\n",
      "Epoch 23/30\n",
      "100/100 [==============================] - 42s 420ms/step - loss: 0.6296 - acc: 0.6445 - val_loss: 0.7234 - val_acc: 0.4410\n",
      "Epoch 24/30\n",
      "100/100 [==============================] - 43s 426ms/step - loss: 0.6316 - acc: 0.6460 - val_loss: 0.7295 - val_acc: 0.4474\n",
      "Epoch 25/30\n",
      "100/100 [==============================] - 42s 424ms/step - loss: 0.6308 - acc: 0.6395 - val_loss: 0.7243 - val_acc: 0.4494\n",
      "Epoch 26/30\n",
      "100/100 [==============================] - 42s 423ms/step - loss: 0.6159 - acc: 0.6575 - val_loss: 0.7420 - val_acc: 0.4515\n",
      "Epoch 27/30\n",
      "100/100 [==============================] - 42s 421ms/step - loss: 0.6278 - acc: 0.6296 - val_loss: 0.7300 - val_acc: 0.4430\n",
      "Epoch 28/30\n",
      "100/100 [==============================] - 42s 424ms/step - loss: 0.6294 - acc: 0.6435 - val_loss: 0.7117 - val_acc: 0.4505\n",
      "Epoch 29/30\n",
      "100/100 [==============================] - 42s 424ms/step - loss: 0.6243 - acc: 0.6380 - val_loss: 0.7415 - val_acc: 0.4434\n",
      "Epoch 30/30\n",
      "100/100 [==============================] - 42s 424ms/step - loss: 0.6190 - acc: 0.6520 - val_loss: 0.7243 - val_acc: 0.4410\n"
     ]
    }
   ],
   "source": [
    "history = model.fit_generator(\n",
    "      train_generator,\n",
    "      steps_per_epoch=100,\n",
    "      epochs=30,\n",
    "      callbacks=callbacks_list,\n",
    "      validation_data=validation_generator,\n",
    "      validation_steps=50)\n",
    "\n",
    "\n"
   ]
  },
  {
   "cell_type": "code",
   "execution_count": 9,
   "metadata": {},
   "outputs": [
    {
     "name": "stdout",
     "output_type": "stream",
     "text": [
      "Found 1440 images belonging to 2 classes.\n",
      "{'autista': 0, 'controle': 1}\n"
     ]
    }
   ],
   "source": [
    "test_gen = gen.flow_from_directory(test_dir, target_size=(150,150))\n",
    "print(test_gen.class_indices)"
   ]
  },
  {
   "cell_type": "code",
   "execution_count": 10,
   "metadata": {},
   "outputs": [
    {
     "name": "stdout",
     "output_type": "stream",
     "text": [
      "Generating confusion matrix 6716\n",
      "Found 6716 images belonging to 2 classes.\n",
      "[[3888    0]\n",
      " [2828    0]]\n",
      "Generating confusion matrix 1439\n",
      "Found 1439 images belonging to 2 classes.\n",
      "[[833   0]\n",
      " [606   0]]\n"
     ]
    }
   ],
   "source": [
    "from sklearn.metrics import confusion_matrix\n",
    "def get_confusion_matrix(data_path, N):\n",
    "    print(\"Generating confusion matrix\", N)\n",
    "    predictions = []\n",
    "    targets = []\n",
    "    i = 0\n",
    "    for x, y in gen.flow_from_directory(data_path, target_size=(150,150), shuffle=False, batch_size=80):\n",
    "        i += 1\n",
    "        if i % 500 == 0:\n",
    "            print(i)\n",
    "        p = model.predict(x)\n",
    "        p = np.argmax(p, axis=1)\n",
    "        y = np.argmax(y, axis=1)\n",
    "        predictions = np.concatenate((predictions, p))\n",
    "        targets = np.concatenate((targets, y))\n",
    "        if len(targets) >= N:\n",
    "            break\n",
    "    cm = confusion_matrix(targets, predictions)\n",
    "    return cm\n",
    "\n",
    "\n",
    "cm = get_confusion_matrix(train_dir, 6716)\n",
    "print(cm)\n",
    "valid_cm = get_confusion_matrix(validation_dir, 1439)\n",
    "print(valid_cm)"
   ]
  },
  {
   "cell_type": "code",
   "execution_count": 11,
   "metadata": {
    "scrolled": true
   },
   "outputs": [],
   "source": [
    "import matplotlib.pyplot as plt\n",
    "\n",
    "accTR = history.history['acc']\n",
    "val_acc = history.history['val_acc']\n",
    "lossTR = history.history['loss']\n",
    "val_loss = history.history['val_loss']\n",
    "epochs = range(len(accTR))"
   ]
  },
  {
   "cell_type": "code",
   "execution_count": 12,
   "metadata": {
    "scrolled": true
   },
   "outputs": [
    {
     "name": "stdout",
     "output_type": "stream",
     "text": [
      "Epoch 1/30\n",
      "100/100 [==============================] - 84s 843ms/step - loss: 0.6679 - acc: 0.6020\n",
      "Epoch 2/30\n",
      "100/100 [==============================] - 36s 362ms/step - loss: 0.6270 - acc: 0.6450\n",
      "Epoch 3/30\n",
      "100/100 [==============================] - 36s 358ms/step - loss: 0.5601 - acc: 0.6900\n",
      "Epoch 4/30\n",
      "100/100 [==============================] - 36s 360ms/step - loss: 0.5560 - acc: 0.7030\n",
      "Epoch 5/30\n",
      "100/100 [==============================] - 36s 358ms/step - loss: 0.5380 - acc: 0.7200\n",
      "Epoch 6/30\n",
      "100/100 [==============================] - 36s 358ms/step - loss: 0.4987 - acc: 0.7475\n",
      "Epoch 7/30\n",
      "100/100 [==============================] - 36s 361ms/step - loss: 0.4996 - acc: 0.7450\n",
      "Epoch 8/30\n",
      "100/100 [==============================] - 36s 358ms/step - loss: 0.4900 - acc: 0.7485\n",
      "Epoch 9/30\n",
      "100/100 [==============================] - 36s 359ms/step - loss: 0.4590 - acc: 0.7710\n",
      "Epoch 10/30\n",
      "100/100 [==============================] - 36s 358ms/step - loss: 0.4534 - acc: 0.7685\n",
      "Epoch 11/30\n",
      "100/100 [==============================] - 36s 358ms/step - loss: 0.4374 - acc: 0.7865\n",
      "Epoch 12/30\n",
      "100/100 [==============================] - 36s 359ms/step - loss: 0.4292 - acc: 0.7975\n",
      "Epoch 13/30\n",
      "100/100 [==============================] - 36s 359ms/step - loss: 0.4049 - acc: 0.7990\n",
      "Epoch 14/30\n",
      "100/100 [==============================] - 36s 358ms/step - loss: 0.3982 - acc: 0.8110\n",
      "Epoch 15/30\n",
      "100/100 [==============================] - 36s 358ms/step - loss: 0.3707 - acc: 0.8270\n",
      "Epoch 16/30\n",
      "100/100 [==============================] - 36s 359ms/step - loss: 0.3692 - acc: 0.8195\n",
      "Epoch 17/30\n",
      "100/100 [==============================] - 36s 359ms/step - loss: 0.3611 - acc: 0.8315\n",
      "Epoch 18/30\n",
      "100/100 [==============================] - 36s 359ms/step - loss: 0.3511 - acc: 0.8390\n",
      "Epoch 19/30\n",
      "100/100 [==============================] - 36s 359ms/step - loss: 0.3451 - acc: 0.8485\n",
      "Epoch 20/30\n",
      "100/100 [==============================] - 36s 359ms/step - loss: 0.3309 - acc: 0.8580\n",
      "Epoch 21/30\n",
      "100/100 [==============================] - 36s 360ms/step - loss: 0.3117 - acc: 0.8740\n",
      "Epoch 22/30\n",
      "100/100 [==============================] - 36s 358ms/step - loss: 0.3156 - acc: 0.8595\n",
      "Epoch 23/30\n",
      "100/100 [==============================] - 36s 359ms/step - loss: 0.3234 - acc: 0.8475\n",
      "Epoch 24/30\n",
      "100/100 [==============================] - 36s 359ms/step - loss: 0.3034 - acc: 0.8740\n",
      "Epoch 25/30\n",
      "100/100 [==============================] - 36s 359ms/step - loss: 0.3019 - acc: 0.8685\n",
      "Epoch 26/30\n",
      "100/100 [==============================] - 36s 363ms/step - loss: 0.2886 - acc: 0.8750\n",
      "Epoch 27/30\n",
      "100/100 [==============================] - 37s 371ms/step - loss: 0.2991 - acc: 0.8680\n",
      "Epoch 28/30\n",
      "100/100 [==============================] - 37s 367ms/step - loss: 0.2884 - acc: 0.8800\n",
      "Epoch 29/30\n",
      "100/100 [==============================] - 36s 361ms/step - loss: 0.2789 - acc: 0.8805\n",
      "Epoch 30/30\n",
      "100/100 [==============================] - 36s 361ms/step - loss: 0.2860 - acc: 0.8785\n"
     ]
    }
   ],
   "source": [
    "history = model.fit_generator(\n",
    "      test_generator,\n",
    "      steps_per_epoch=100,\n",
    "      epochs=30,\n",
    "      callbacks=callbacks_list)"
   ]
  },
  {
   "cell_type": "code",
   "execution_count": 13,
   "metadata": {},
   "outputs": [
    {
     "name": "stdout",
     "output_type": "stream",
     "text": [
      "Generating confusion matrix 6716\n",
      "Found 6716 images belonging to 2 classes.\n",
      "[[3888    0]\n",
      " [2828    0]]\n",
      "Generating confusion matrix 1439\n",
      "Found 1439 images belonging to 2 classes.\n",
      "[[833   0]\n",
      " [606   0]]\n",
      "Generating confusion matrix 1440\n",
      "Found 1440 images belonging to 2 classes.\n",
      "[[834   0]\n",
      " [606   0]]\n"
     ]
    }
   ],
   "source": [
    "cm = get_confusion_matrix(train_dir, 6716)\n",
    "print(cm)\n",
    "valid_cm = get_confusion_matrix(validation_dir, 1439)\n",
    "print(valid_cm)\n",
    "test_cm=get_confusion_matrix(test_dir,1440)\n",
    "print(test_cm)"
   ]
  },
  {
   "cell_type": "code",
   "execution_count": 14,
   "metadata": {},
   "outputs": [
    {
     "name": "stdout",
     "output_type": "stream",
     "text": [
      "A acurácia do teste é de: 0.8784999942779541\n",
      "A perda do teste é de: 0.28600114054977893\n",
      "A acurácia da validação é de: 0.4410000005364418\n",
      "A perda da validação é de: 0.7242728579044342\n"
     ]
    },
    {
     "data": {
      "image/png": "[encoded data removed]",
      "text/plain": [
       "<Figure size 432x288 with 1 Axes>"
      ]
     },
     "metadata": {
      "needs_background": "light"
     },
     "output_type": "display_data"
    },
    {
     "data": {
      "image/png": "[encoded data removed]",
      "text/plain": [
       "<Figure size 432x288 with 1 Axes>"
      ]
     },
     "metadata": {
      "needs_background": "light"
     },
     "output_type": "display_data"
    }
   ],
   "source": [
    "import matplotlib.pyplot as plt\n",
    "\n",
    "accTe = history.history['acc']\n",
    "lossTe = history.history['loss']\n",
    "print('A acurácia do teste é de:', accTe[29])\n",
    "print('A perda do teste é de:', lossTe[29])\n",
    "print('A acurácia da validação é de:', val_acc[29])\n",
    "print('A perda da validação é de:', val_loss[29])\n",
    "epochs = range(len(accTe))\n",
    "\n",
    "plt.plot(epochs, accTR, 'bo', label='Training acc')\n",
    "plt.plot(epochs, val_acc, 'b', label='Validation acc')\n",
    "plt.plot(epochs, accTe, 'r', label='Test acc')\n",
    "plt.title('Training, test and validation accuracy')\n",
    "plt.legend()\n",
    "\n",
    "plt.figure()\n",
    "\n",
    "plt.plot(epochs, lossTR, 'bo', label='Training loss')\n",
    "plt.plot(epochs, val_loss, 'b', label='Validation loss')\n",
    "plt.plot(epochs, lossTe, 'r', label='Test loss')\n",
    "plt.title('Training, test and validation loss')\n",
    "plt.legend()\n",
    "\n",
    "plt.show()"
   ]
  },
  {
   "cell_type": "code",
   "execution_count": null,
   "metadata": {},
   "outputs": [],
   "source": []
  }
 ],
 "metadata": {
  "kernelspec": {
   "display_name": "Python 3",
   "language": "python",
   "name": "python3"
  },
  "language_info": {
   "codemirror_mode": {
    "name": "ipython",
    "version": 3
   },
   "file_extension": ".py",
   "mimetype": "text/x-python",
   "name": "python",
   "nbconvert_exporter": "python",
   "pygments_lexer": "ipython3",
   "version": "3.6.9"
  }
 },
 "nbformat": 4,
 "nbformat_minor": 2
}
