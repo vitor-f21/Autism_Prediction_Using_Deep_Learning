{
 "cells": [
  {
   "cell_type": "code",
   "execution_count": 3,
   "metadata": {},
   "outputs": [
    {
     "name": "stdout",
     "output_type": "stream",
     "text": [
      "WARNING:tensorflow:From C:\\Users\\Vítor\\Anaconda3\\envs\\TCC\\lib\\site-packages\\keras\\backend\\tensorflow_backend.py:174: The name tf.get_default_session is deprecated. Please use tf.compat.v1.get_default_session instead.\n",
      "\n",
      "WARNING:tensorflow:From C:\\Users\\Vítor\\Anaconda3\\envs\\TCC\\lib\\site-packages\\keras\\backend\\tensorflow_backend.py:181: The name tf.ConfigProto is deprecated. Please use tf.compat.v1.ConfigProto instead.\n",
      "\n"
     ]
    }
   ],
   "source": [
    "import os\n",
    "import numpy as np\n",
    "from keras.preprocessing.image import ImageDataGenerator\n",
    "from keras import backend as K\n",
    "\n",
    "K.tensorflow_backend._get_available_gpus()\n",
    "\n",
    "base_dir = r'C:\\Users\\Vítor\\Documents\\TCC\\Banco de Dados\\Imagens_JPG\\Axial\\BD'\n",
    "\n",
    "train_dir = os.path.join(base_dir, 'train')\n",
    "validation_dir = os.path.join(base_dir, 'validation')\n",
    "test_dir = os.path.join(base_dir, 'test')\n",
    "\n",
    "datagen = ImageDataGenerator(rescale=1./255)\n",
    "batch_size = 20"
   ]
  },
  {
   "cell_type": "code",
   "execution_count": 4,
   "metadata": {},
   "outputs": [],
   "source": [
    "from keras import layers\n",
    "from keras import models\n",
    "#Criando a CNN\n",
    "model = models.Sequential()\n",
    "model.add(layers.Conv2D(128, (3, 3), activation='relu',\n",
    "                        input_shape=(150, 150, 3)))\n",
    "model.add(layers.MaxPooling2D((2, 2)))\n",
    "model.add(layers.Conv2D(128, (3, 3), activation='relu'))\n",
    "model.add(layers.MaxPooling2D((2, 2)))\n",
    "model.add(layers.Conv2D(256, (3, 3), activation='relu'))\n",
    "model.add(layers.MaxPooling2D((2, 2)))\n",
    "model.add(layers.Conv2D(256, (3, 3), activation='relu'))\n",
    "model.add(layers.MaxPooling2D((2, 2)))\n",
    "model.add(layers.Flatten())\n",
    "model.add(layers.Dense(1024, activation='relu'))\n",
    "model.add(layers.Dense(1, activation='sigmoid'))"
   ]
  },
  {
   "cell_type": "code",
   "execution_count": 5,
   "metadata": {},
   "outputs": [
    {
     "name": "stdout",
     "output_type": "stream",
     "text": [
      "_________________________________________________________________\n",
      "Layer (type)                 Output Shape              Param #   \n",
      "=================================================================\n",
      "conv2d_5 (Conv2D)            (None, 148, 148, 128)     3584      \n",
      "_________________________________________________________________\n",
      "max_pooling2d_5 (MaxPooling2 (None, 74, 74, 128)       0         \n",
      "_________________________________________________________________\n",
      "conv2d_6 (Conv2D)            (None, 72, 72, 128)       147584    \n",
      "_________________________________________________________________\n",
      "max_pooling2d_6 (MaxPooling2 (None, 36, 36, 128)       0         \n",
      "_________________________________________________________________\n",
      "conv2d_7 (Conv2D)            (None, 34, 34, 256)       295168    \n",
      "_________________________________________________________________\n",
      "max_pooling2d_7 (MaxPooling2 (None, 17, 17, 256)       0         \n",
      "_________________________________________________________________\n",
      "conv2d_8 (Conv2D)            (None, 15, 15, 256)       590080    \n",
      "_________________________________________________________________\n",
      "max_pooling2d_8 (MaxPooling2 (None, 7, 7, 256)         0         \n",
      "_________________________________________________________________\n",
      "flatten_2 (Flatten)          (None, 12544)             0         \n",
      "_________________________________________________________________\n",
      "dense_3 (Dense)              (None, 1024)              12846080  \n",
      "_________________________________________________________________\n",
      "dense_4 (Dense)              (None, 1)                 1025      \n",
      "=================================================================\n",
      "Total params: 13,883,521\n",
      "Trainable params: 13,883,521\n",
      "Non-trainable params: 0\n",
      "_________________________________________________________________\n"
     ]
    }
   ],
   "source": [
    "model.summary()"
   ]
  },
  {
   "cell_type": "code",
   "execution_count": 6,
   "metadata": {},
   "outputs": [
    {
     "name": "stdout",
     "output_type": "stream",
     "text": [
      "WARNING:tensorflow:From C:\\Users\\Vítor\\Anaconda3\\envs\\TCC\\lib\\site-packages\\keras\\optimizers.py:790: The name tf.train.Optimizer is deprecated. Please use tf.compat.v1.train.Optimizer instead.\n",
      "\n",
      "WARNING:tensorflow:From C:\\Users\\Vítor\\Anaconda3\\envs\\TCC\\lib\\site-packages\\tensorflow\\python\\ops\\nn_impl.py:180: add_dispatch_support.<locals>.wrapper (from tensorflow.python.ops.array_ops) is deprecated and will be removed in a future version.\n",
      "Instructions for updating:\n",
      "Use tf.where in 2.0, which has the same broadcast rule as np.where\n"
     ]
    }
   ],
   "source": [
    "from keras import optimizers\n",
    "\n",
    "model.compile(loss='binary_crossentropy',\n",
    "              optimizer=optimizers.RMSprop(lr=1e-4),\n",
    "              metrics=['acc'])"
   ]
  },
  {
   "cell_type": "code",
   "execution_count": 7,
   "metadata": {},
   "outputs": [
    {
     "name": "stdout",
     "output_type": "stream",
     "text": [
      "Found 34048 images belonging to 2 classes.\n",
      "Found 14592 images belonging to 2 classes.\n"
     ]
    }
   ],
   "source": [
    "from keras.preprocessing.image import ImageDataGenerator\n",
    "\n",
    "# Todas as imagens em nova scale\n",
    "train_datagen = ImageDataGenerator(rescale=1./255)\n",
    "test_datagen = ImageDataGenerator(rescale=1./255)\n",
    "\n",
    "train_generator = train_datagen.flow_from_directory(\n",
    "        \n",
    "        train_dir,\n",
    "        # Todas as images para novo tamanho de 150x150\n",
    "        target_size=(150, 150),\n",
    "        batch_size=20,\n",
    "        # Como foi usado a perda binary_crossentropy, precisamos de rótulos binários\n",
    "        class_mode='binary')\n",
    "\n",
    "validation_generator = test_datagen.flow_from_directory(\n",
    "        validation_dir,\n",
    "        target_size=(150, 150),\n",
    "        batch_size=20,\n",
    "        class_mode='binary')"
   ]
  },
  {
   "cell_type": "code",
   "execution_count": 8,
   "metadata": {},
   "outputs": [
    {
     "name": "stdout",
     "output_type": "stream",
     "text": [
      "data batch shape: (20, 150, 150, 3)\n",
      "labels batch shape: (20,)\n"
     ]
    }
   ],
   "source": [
    "for data_batch, labels_batch in train_generator:\n",
    "    print('data batch shape:', data_batch.shape)\n",
    "    print('labels batch shape:', labels_batch.shape)\n",
    "    break"
   ]
  },
  {
   "cell_type": "code",
   "execution_count": 9,
   "metadata": {},
   "outputs": [
    {
     "name": "stdout",
     "output_type": "stream",
     "text": [
      "Epoch 1/30\n",
      "100/100 [==============================] - 56s 561ms/step - loss: 0.6731 - acc: 0.6025 - val_loss: 0.6691 - val_acc: 0.5780\n",
      "Epoch 2/30\n",
      "100/100 [==============================] - 52s 523ms/step - loss: 0.6662 - acc: 0.6000 - val_loss: 0.6796 - val_acc: 0.5610\n",
      "Epoch 3/30\n",
      "100/100 [==============================] - 53s 528ms/step - loss: 0.6555 - acc: 0.6080 - val_loss: 0.6667 - val_acc: 0.5730\n",
      "Epoch 4/30\n",
      "100/100 [==============================] - 51s 514ms/step - loss: 0.6318 - acc: 0.6375 - val_loss: 0.6775 - val_acc: 0.5590\n",
      "Epoch 5/30\n",
      "100/100 [==============================] - 57s 569ms/step - loss: 0.6085 - acc: 0.6580 - val_loss: 0.7047 - val_acc: 0.5720\n",
      "Epoch 6/30\n",
      "100/100 [==============================] - 52s 519ms/step - loss: 0.5932 - acc: 0.6625 - val_loss: 0.6837 - val_acc: 0.5710\n",
      "Epoch 7/30\n",
      "100/100 [==============================] - 51s 508ms/step - loss: 0.5864 - acc: 0.6645 - val_loss: 0.7130 - val_acc: 0.5440\n",
      "Epoch 8/30\n",
      "100/100 [==============================] - 50s 499ms/step - loss: 0.5752 - acc: 0.6740 - val_loss: 0.7160 - val_acc: 0.5480\n",
      "Epoch 9/30\n",
      "100/100 [==============================] - 52s 519ms/step - loss: 0.5478 - acc: 0.7040 - val_loss: 0.7266 - val_acc: 0.5490\n",
      "Epoch 10/30\n",
      "100/100 [==============================] - 51s 508ms/step - loss: 0.5353 - acc: 0.7130 - val_loss: 0.7144 - val_acc: 0.5800\n",
      "Epoch 11/30\n",
      "100/100 [==============================] - 50s 502ms/step - loss: 0.4921 - acc: 0.7340 - val_loss: 0.8235 - val_acc: 0.6000\n",
      "Epoch 12/30\n",
      "100/100 [==============================] - 52s 516ms/step - loss: 0.5050 - acc: 0.7180 - val_loss: 0.8272 - val_acc: 0.5730\n",
      "Epoch 13/30\n",
      "100/100 [==============================] - 50s 498ms/step - loss: 0.4724 - acc: 0.7540 - val_loss: 0.8012 - val_acc: 0.5720\n",
      "Epoch 14/30\n",
      "100/100 [==============================] - 51s 507ms/step - loss: 0.4626 - acc: 0.7535 - val_loss: 0.8529 - val_acc: 0.5770\n",
      "Epoch 15/30\n",
      "100/100 [==============================] - 47s 471ms/step - loss: 0.4207 - acc: 0.7730 - val_loss: 0.8033 - val_acc: 0.5907\n",
      "Epoch 16/30\n",
      "100/100 [==============================] - 45s 446ms/step - loss: 0.4278 - acc: 0.7770 - val_loss: 0.9520 - val_acc: 0.5390\n",
      "Epoch 17/30\n",
      "100/100 [==============================] - 45s 450ms/step - loss: 0.4193 - acc: 0.7665 - val_loss: 1.0464 - val_acc: 0.5490\n",
      "Epoch 18/30\n",
      "100/100 [==============================] - 46s 460ms/step - loss: 0.3845 - acc: 0.7945 - val_loss: 1.0400 - val_acc: 0.6030\n",
      "Epoch 19/30\n",
      "100/100 [==============================] - 45s 451ms/step - loss: 0.3856 - acc: 0.8010 - val_loss: 1.1476 - val_acc: 0.5450\n",
      "Epoch 20/30\n",
      "100/100 [==============================] - 45s 452ms/step - loss: 0.3607 - acc: 0.8025 - val_loss: 1.1191 - val_acc: 0.5770\n",
      "Epoch 21/30\n",
      "100/100 [==============================] - 45s 450ms/step - loss: 0.3616 - acc: 0.7890 - val_loss: 1.1002 - val_acc: 0.5930\n",
      "Epoch 22/30\n",
      "100/100 [==============================] - 45s 447ms/step - loss: 0.3557 - acc: 0.7940 - val_loss: 1.0095 - val_acc: 0.5750\n",
      "Epoch 23/30\n",
      "100/100 [==============================] - 45s 448ms/step - loss: 0.3549 - acc: 0.8135 - val_loss: 1.1108 - val_acc: 0.5810\n",
      "Epoch 24/30\n",
      "100/100 [==============================] - 45s 451ms/step - loss: 0.3361 - acc: 0.8070 - val_loss: 1.2240 - val_acc: 0.5410\n",
      "Epoch 25/30\n",
      "100/100 [==============================] - 45s 451ms/step - loss: 0.3374 - acc: 0.8135 - val_loss: 1.2642 - val_acc: 0.5720\n",
      "Epoch 26/30\n",
      "100/100 [==============================] - 45s 451ms/step - loss: 0.3318 - acc: 0.8090 - val_loss: 1.4162 - val_acc: 0.5690\n",
      "Epoch 27/30\n",
      "100/100 [==============================] - 45s 454ms/step - loss: 0.3177 - acc: 0.8255 - val_loss: 1.2765 - val_acc: 0.5890\n",
      "Epoch 28/30\n",
      "100/100 [==============================] - 47s 467ms/step - loss: 0.2947 - acc: 0.8375 - val_loss: 1.4537 - val_acc: 0.6160\n",
      "Epoch 29/30\n",
      "100/100 [==============================] - 47s 470ms/step - loss: 0.3126 - acc: 0.8280 - val_loss: 1.5290 - val_acc: 0.5630\n",
      "Epoch 30/30\n",
      "100/100 [==============================] - 47s 469ms/step - loss: 0.2901 - acc: 0.8350 - val_loss: 1.3218 - val_acc: 0.5938\n"
     ]
    }
   ],
   "source": [
    "history = model.fit_generator(\n",
    "      train_generator,\n",
    "      steps_per_epoch=100,\n",
    "      epochs=30,\n",
    "      validation_data=validation_generator,\n",
    "      validation_steps=50)"
   ]
  },
  {
   "cell_type": "code",
   "execution_count": 11,
   "metadata": {},
   "outputs": [
    {
     "name": "stdout",
     "output_type": "stream",
     "text": [
      "A acurácia da validação é de: 0.5937500013218772\n",
      "A perda da validação é de: 1.3217901800188325\n"
     ]
    },
    {
     "data": {
      "image/png": "[encoded data removed]",
      "text/plain": [
       "<Figure size 432x288 with 1 Axes>"
      ]
     },
     "metadata": {
      "needs_background": "light"
     },
     "output_type": "display_data"
    },
    {
     "data": {
      "image/png": "[encoded data removed]",
      "text/plain": [
       "<Figure size 432x288 with 1 Axes>"
      ]
     },
     "metadata": {
      "needs_background": "light"
     },
     "output_type": "display_data"
    }
   ],
   "source": [
    "import matplotlib.pyplot as plt\n",
    "\n",
    "acc = history.history['acc']\n",
    "val_acc = history.history['val_acc']\n",
    "loss = history.history['loss']\n",
    "val_loss = history.history['val_loss']\n",
    "print('A acurácia da validação é de:', val_acc[29])\n",
    "print('A perda da validação é de:', val_loss[29])\n",
    "epochs = range(len(acc))\n",
    "\n",
    "plt.plot(epochs, acc, 'bo', label='Training acc')\n",
    "plt.plot(epochs, val_acc, 'b', label='Validation acc')\n",
    "plt.title('Training and validation accuracy')\n",
    "plt.legend()\n",
    "\n",
    "plt.figure()\n",
    "\n",
    "plt.plot(epochs, loss, 'bo', label='Training loss')\n",
    "plt.plot(epochs, val_loss, 'b', label='Validation loss')\n",
    "plt.title('Training and validation loss')\n",
    "plt.legend()\n",
    "\n",
    "plt.show()"
   ]
  },
  {
   "cell_type": "code",
   "execution_count": null,
   "metadata": {},
   "outputs": [],
   "source": []
  },
  {
   "cell_type": "code",
   "execution_count": null,
   "metadata": {},
   "outputs": [],
   "source": []
  }
 ],
 "metadata": {
  "kernelspec": {
   "display_name": "Python 3",
   "language": "python",
   "name": "python3"
  },
  "language_info": {
   "codemirror_mode": {
    "name": "ipython",
    "version": 3
   },
   "file_extension": ".py",
   "mimetype": "text/x-python",
   "name": "python",
   "nbconvert_exporter": "python",
   "pygments_lexer": "ipython3",
   "version": "3.6.9"
  }
 },
 "nbformat": 4,
 "nbformat_minor": 2
}
